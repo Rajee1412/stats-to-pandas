{
 "cells": [
  {
   "cell_type": "markdown",
   "metadata": {},
   "source": [
    "# stats-to-pandas"
   ]
  },
  {
   "cell_type": "markdown",
   "metadata": {
    "run_control": {
     "frozen": false,
     "read_only": false
    }
   },
   "source": [
    "#### Import data from Statistics Norway, Sweden, Ireland and the UK to a Pandas dataframe in Python"
   ]
  },
  {
   "cell_type": "markdown",
   "metadata": {},
   "source": [
    "A tool to make it easier to download data to a pandas dataframe from Statistics Norway (and other agencies) that use json-stat. "
   ]
  },
  {
   "cell_type": "markdown",
   "metadata": {},
   "source": [
    "Hans Olav Melberg, 9. June, 2016"
   ]
  },
  {
   "cell_type": "markdown",
   "metadata": {},
   "source": [
    "## Background"
   ]
  },
  {
   "cell_type": "markdown",
   "metadata": {},
   "source": [
    "Statistics Norway has made more than 5000 tables available with a new API. In order to download the data, the information the user wants from a table has to be specified as a query in the json-stat format. \n",
    "\n",
    "This query is quite verbose and may look complicated. In order to make it easier to write the query, this package provides a graphical user interface that allows the user to select different options. The query is then generated based on the selection. This relies on widgets in the Jupyter notebook. \n",
    "\n",
    "The package also provides options for downloading tables without using this interface, by allowing the user to specify the json themselves, manually edit a json string, or just downloading the full table (warning: it may be large). The tool contains various functions to make it easy to specify the json query to get the desired information.\n",
    "\n",
    "Since several  other statistical agencies also use the stat-json format, the package can be used to download tables from these as well. It works, for instance, with tables from Statistics Sweden. It can also be used to download data based on the full url of a table from other sources, for instance from from the UK ONS and The Central Statistics Office of Ireland."
   ]
  },
  {
   "cell_type": "markdown",
   "metadata": {},
   "source": [
    "## Installation"
   ]
  },
  {
   "cell_type": "code",
   "execution_count": null,
   "metadata": {
    "collapsed": true,
    "run_control": {
     "frozen": false,
     "read_only": false
    }
   },
   "outputs": [],
   "source": [
    "# (Will work after uploading to pypi, scheduled before 1. july, 2016)\n",
    "#\n",
    "# Requires: requests, pyjstat, jupyter, ipywidgets, IPython\n",
    "#\n",
    "#pip install stats-to-pandas\n",
    "#\n",
    "#import stats-to-pandas as stp"
   ]
  },
  {
   "cell_type": "markdown",
   "metadata": {},
   "source": [
    "## Overview"
   ]
  },
  {
   "cell_type": "markdown",
   "metadata": {},
   "source": [
    "####   1. Search for tables based on keywords"
   ]
  },
  {
   "cell_type": "code",
   "execution_count": null,
   "metadata": {
    "collapsed": false,
    "run_control": {
     "frozen": false,
     "read_only": false
    }
   },
   "outputs": [],
   "source": [
    "search('cows')"
   ]
  },
  {
   "cell_type": "markdown",
   "metadata": {},
   "source": [
    "#### 2. Select a table id from the dataframe and create a gui-box to select the variables to be included "
   ]
  },
  {
   "cell_type": "code",
   "execution_count": null,
   "metadata": {
    "collapsed": true,
    "run_control": {
     "frozen": false,
     "read_only": false
    }
   },
   "outputs": [],
   "source": [
    "box = select(table_id = '10714')"
   ]
  },
  {
   "cell_type": "markdown",
   "metadata": {},
   "source": [
    "#### 3. Read the variable selection from the gui-box and download the data from Statistics Norway"
   ]
  },
  {
   "cell_type": "code",
   "execution_count": null,
   "metadata": {
    "collapsed": true,
    "run_control": {
     "frozen": false,
     "read_only": false
    }
   },
   "outputs": [],
   "source": [
    "df = read_box(box)"
   ]
  },
  {
   "cell_type": "markdown",
   "metadata": {},
   "source": [
    "#### 4. More"
   ]
  },
  {
   "cell_type": "code",
   "execution_count": null,
   "metadata": {
    "collapsed": true,
    "run_control": {
     "frozen": false,
     "read_only": false
    }
   },
   "outputs": [],
   "source": [
    "# Read all values for all variables for table with id 10714\n",
    "# (Avoid having to select variables, step 2 above, but may result in large tables)\n",
    "df = read_all(table_id = '10714')\n",
    "\n",
    "# Get the json string for a full query of table number 10714\n",
    "query = full_json(table_id = '10714', out = 'str')\n",
    "\n",
    "# Get the json dict for a full query of table number 10714\n",
    "query = full_json(table_id = '10714', out = 'dict')\n",
    "\n",
    "# Get the json dict associated with the current selection from a widget box\n",
    "query = get_json(box)\n",
    "\n",
    "# Read data from Statistics Ireland\n",
    "irl_url = 'http://www.cso.ie/StatbankServices/StatbankServices.svc/jsonservice/responseinstance/CNA31' \n",
    "df = read_url(full_url = irl_ulr)"
   ]
  },
  {
   "cell_type": "markdown",
   "metadata": {},
   "source": [
    "## Required modules"
   ]
  },
  {
   "cell_type": "code",
   "execution_count": 1,
   "metadata": {
    "collapsed": true,
    "run_control": {
     "frozen": false,
     "read_only": false
    }
   },
   "outputs": [],
   "source": [
    "# The following has to be installed: \n",
    "#    pandas, requests, pyjstat, ipywidgets, jupyter, IPython\n",
    "#\n",
    "# The last two (jupyter and ipywidgets) are required to create a gui \n",
    "# that makes it easier to build a query. They are not needed to download \n",
    "# data if you give the full_url or specify the json query yourself.\n",
    "\n",
    "import pandas as pd\n",
    "import requests\n",
    "import ast\n",
    "from pyjstat import pyjstat\n",
    "from collections import OrderedDict\n",
    "from ipywidgets import widgets\n",
    "from IPython.display import display\n",
    "\n",
    "# todo: consider using jsonstat instead of pyjstat"
   ]
  },
  {
   "cell_type": "code",
   "execution_count": 2,
   "metadata": {
    "collapsed": false,
    "run_control": {
     "frozen": false,
     "read_only": false
    }
   },
   "outputs": [],
   "source": [
    "from __future__ import print_function"
   ]
  },
  {
   "cell_type": "markdown",
   "metadata": {},
   "source": [
    "## Defaults"
   ]
  },
  {
   "cell_type": "code",
   "execution_count": 3,
   "metadata": {
    "collapsed": false,
    "run_control": {
     "frozen": false,
     "read_only": false
    }
   },
   "outputs": [],
   "source": [
    "# This is mainly to make the script flexible for future changes\n",
    "# Makes it easier to use the same script for sources other than Statistics Norway\n",
    "# The user can set a different source to be the default\n",
    "# (note to self: is the extra complexity worth it? \n",
    "# more complex since functions now require defaults to be used easily)\n",
    "\n",
    "Statistics_Norway = {'base_url' : ['http://data.ssb.no/api/v0'], \n",
    "                     'language' : ['en', 'no'], \n",
    "                     'api_key' : [None]}\n",
    "\n",
    "# Add more sources here Statistics_Sweden = {...} etc\n",
    "\n",
    "# set a default\n",
    "default = Statistics_Norway\n",
    "\n",
    "# make a list of the different sources\n",
    "sources = ['Statistics_Norway']"
   ]
  },
  {
   "cell_type": "markdown",
   "metadata": {},
   "source": [
    "## Search for tables"
   ]
  },
  {
   "cell_type": "code",
   "execution_count": 6,
   "metadata": {
    "code_folding": [],
    "collapsed": false,
    "run_control": {
     "frozen": false,
     "read_only": false
    }
   },
   "outputs": [],
   "source": [
    "# to search for tables in statistics norway\n",
    "\n",
    "def search(phrase, \n",
    "           language = 'en', \n",
    "           base_url = http://data.ssb.no/api/v0):\n",
    "    \"\"\"\n",
    "        Search for tables that contain the phrase in Statistics Norway.\n",
    "        Returns a pandas dataframe with the results.\n",
    "            \n",
    "        Example\n",
    "        -------\n",
    "        \n",
    "            df = search(\"income\")\n",
    "        \n",
    "        \n",
    "        Parameters\n",
    "        ----------\n",
    "        \n",
    "        phrase: string\n",
    "            The phrase can contain several words (space separated): \n",
    "                search(\"export Norwegian parrot\")\n",
    "            \n",
    "            It also supports trucation: \n",
    "                search(\"pharma*\")\n",
    "                \n",
    "            Not case sensitive.\n",
    "            Language sensitive (specified in the language option)\n",
    "            \n",
    "        language: string \n",
    "            default in Statistics Norway: 'en' (Search for English words) \n",
    "            optional in Statistics Norway: 'no' (Search for Norwegian words)\n",
    "                   \n",
    "        url: string\n",
    "            default in Statistics Norway: 'http://data.ssb.no/api/v0'\n",
    "            different defaults can be specified\n",
    "       \n",
    "        \"\"\"\n",
    "    \n",
    "    # todo: make converter part of the default specification only for statistics norway\n",
    "    convert = {'æ' : '%C3%A6', 'Æ' : '%C3%86', 'ø' : '%C3%B8', 'Ø' : '%C3%98', \n",
    "             'å' : '%C3%A5', 'Å' : '%C3%85',\n",
    "             '\"' : '%22', '(' : '%28', ')' : '%29', ' ' : '%20'}\n",
    "\n",
    "    search_str = '{base_url}/{language}/table/?query={phrase}'.format(\n",
    "        base_url = base_url, \n",
    "        language = language, \n",
    "        phrase = phrase)\n",
    "    \n",
    "    for k, v in convert.items():\n",
    "        search_str = search_str.replace(k, v)\n",
    "    \n",
    "    #print(search_str)    \n",
    "    \n",
    "    df = pd.read_json(search_str)\n",
    "    \n",
    "    if len(df) == 0:\n",
    "        print(\"No match\")\n",
    "        return df\n",
    "    \n",
    "    # make the dataframe more readable\n",
    "    # (is it worth it? increases vulnerability. formats may differ and change)\n",
    "    # todo: make search and format conditional on the database being searched    \n",
    "       \n",
    "    # split the table name into table id and table text\n",
    "  \n",
    "    df['table_id'] = df['title'].str.split(':').str.get(0)\n",
    "    df['table_title'] = df['title'].str.split(':').str.get(1)\n",
    "    del df['title']\n",
    "    \n",
    "    # make table_id the index, visually more intuitive with id as first column\n",
    "    df = df.set_index('table_id')\n",
    "    \n",
    "    # change order of columns to make it more intuitive (table_title is first) \n",
    "    cols = df.columns.tolist()\n",
    "    cols.sort(reverse = True)\n",
    "    df = df[cols[:-2]]\n",
    "\n",
    "    return df"
   ]
  },
  {
   "cell_type": "markdown",
   "metadata": {},
   "source": [
    "#### Search for table with the text cow and put the result in a dataframe called tables"
   ]
  },
  {
   "cell_type": "code",
   "execution_count": 7,
   "metadata": {
    "collapsed": false,
    "run_control": {
     "frozen": false,
     "read_only": false
    }
   },
   "outputs": [
    {
     "data": {
      "text/html": [
       "<div>\n",
       "<table border=\"1\" class=\"dataframe\">\n",
       "  <thead>\n",
       "    <tr style=\"text-align: right;\">\n",
       "      <th></th>\n",
       "      <th>table_title</th>\n",
       "      <th>score</th>\n",
       "      <th>published</th>\n",
       "    </tr>\n",
       "    <tr>\n",
       "      <th>table_id</th>\n",
       "      <th></th>\n",
       "      <th></th>\n",
       "      <th></th>\n",
       "    </tr>\n",
       "  </thead>\n",
       "  <tbody>\n",
       "    <tr>\n",
       "      <th>03789</th>\n",
       "      <td>Dairy cows per 1 January, by size of herd 199...</td>\n",
       "      <td>1.102974</td>\n",
       "      <td>2016-04-08T10:00:00</td>\n",
       "    </tr>\n",
       "    <tr>\n",
       "      <th>03802</th>\n",
       "      <td>Beef cows per 1 January, by size of herd 1998...</td>\n",
       "      <td>1.047124</td>\n",
       "      <td>2016-04-08T10:00:00</td>\n",
       "    </tr>\n",
       "    <tr>\n",
       "      <th>05593</th>\n",
       "      <td>Cows per 1 January, by size of herd 1998 - 2016</td>\n",
       "      <td>1.047124</td>\n",
       "      <td>2016-04-08T10:00:00</td>\n",
       "    </tr>\n",
       "    <tr>\n",
       "      <th>10714</th>\n",
       "      <td>Holdings housing cows, cattle places for cows...</td>\n",
       "      <td>0.914131</td>\n",
       "      <td>2014-12-17T10:00:00</td>\n",
       "    </tr>\n",
       "    <tr>\n",
       "      <th>04426</th>\n",
       "      <td>Number of domestic animals per 31 July 1995 -...</td>\n",
       "      <td>0.515449</td>\n",
       "      <td>2012-11-26T10:00:00</td>\n",
       "    </tr>\n",
       "  </tbody>\n",
       "</table>\n",
       "</div>"
      ],
      "text/plain": [
       "                                                table_title     score  \\\n",
       "table_id                                                                \n",
       "03789      Dairy cows per 1 January, by size of herd 199...  1.102974   \n",
       "03802      Beef cows per 1 January, by size of herd 1998...  1.047124   \n",
       "05593       Cows per 1 January, by size of herd 1998 - 2016  1.047124   \n",
       "10714      Holdings housing cows, cattle places for cows...  0.914131   \n",
       "04426      Number of domestic animals per 31 July 1995 -...  0.515449   \n",
       "\n",
       "                    published  \n",
       "table_id                       \n",
       "03789     2016-04-08T10:00:00  \n",
       "03802     2016-04-08T10:00:00  \n",
       "05593     2016-04-08T10:00:00  \n",
       "10714     2014-12-17T10:00:00  \n",
       "04426     2012-11-26T10:00:00  "
      ]
     },
     "execution_count": 7,
     "metadata": {},
     "output_type": "execute_result"
    }
   ],
   "source": [
    "tables = search(\"cows\")\n",
    "tables.head()"
   ]
  },
  {
   "cell_type": "markdown",
   "metadata": {},
   "source": [
    "## Get information about variables"
   ]
  },
  {
   "cell_type": "code",
   "execution_count": 8,
   "metadata": {
    "code_folding": [],
    "collapsed": false,
    "run_control": {
     "frozen": false,
     "read_only": false
    }
   },
   "outputs": [],
   "source": [
    "def get_variables(\n",
    "        table_id = None,\n",
    "        source = None, \n",
    "        language = 'en',\n",
    "        base_url = http://data.ssb.no/api/v0,\n",
    "        full_url = None):\n",
    "    \"\"\"\n",
    "        Returns a list. \n",
    "        \n",
    "        Each element of the list is a dictionary that provides more \n",
    "        information about a variable. \n",
    "        \n",
    "        For instance, one variable may contain information about the\n",
    "        different years that are available.\n",
    "        \n",
    "        \n",
    "        Parameters\n",
    "        ----------\n",
    "    \n",
    "            table_id: string\n",
    "                the unique table_id number, a string including leading zeros.\n",
    "                                \n",
    "            language: string\n",
    "                default 'en' (default, English) \n",
    "                optional: 'no' (Norwegian)\n",
    "            \n",
    "            base_url: string\n",
    "                base url locating the table (not including table identifier)\n",
    "            \n",
    "            full_url: string \n",
    "                The full url to the table.\n",
    "                If full_url is specified, other paramaters are ignored.\n",
    "                \n",
    "    \"\"\"\n",
    "    \n",
    "    if full_url is None:\n",
    "          full_url = '{base_url}/{language}/table/{table_id}'.format(\n",
    "            base_url = base_url, language = language, table_id = table_id)\n",
    "    \n",
    "    df = pd.read_json(full_url)\n",
    "    variables = [dict(values) for values in df.iloc[:,1]]\n",
    "    \n",
    "    return variables"
   ]
  },
  {
   "cell_type": "code",
   "execution_count": 39,
   "metadata": {
    "collapsed": false,
    "run_control": {
     "frozen": false,
     "read_only": false
    }
   },
   "outputs": [
    {
     "name": "stdout",
     "output_type": "stream",
     "text": [
      "[{'values': ['00', '01', '02', '03', '04', '05', '06'], 'elimination': True, 'code': 'BuskapStr', 'text': 'size of herd', 'valueTexts': ['Total', '1-4', '5-9', '10-14', '15-19', '20-29', '30-']}, {'values': ['Driftseiningar', 'Mjolkeku'], 'code': 'ContentsCode', 'text': 'contents', 'valueTexts': ['Holdings keeping dairy cows', 'Dairy cows']}, {'values': ['1998', '1999', '2000', '2002', '2003', '2004', '2005', '2006', '2007', '2008', '2009', '2010', '2011', '2012', '2013', '2014', '2015', '2016'], 'code': 'Tid', 'time': True, 'text': 'year', 'valueTexts': ['1998', '1999', '2000', '2002', '2003', '2004', '2005', '2006', '2007', '2008', '2009', '2010', '2011', '2012', '2013', '2014', '2015', '2016']}]\n"
     ]
    }
   ],
   "source": [
    "variables = get_variables(table_id = '03789')\n",
    "print(variables)"
   ]
  },
  {
   "cell_type": "code",
   "execution_count": 9,
   "metadata": {
    "code_folding": [],
    "collapsed": false,
    "run_control": {
     "frozen": false,
     "read_only": false
    }
   },
   "outputs": [],
   "source": [
    "def select(table_id = None, \n",
    "           language = 'en', \n",
    "           base_url = http://data.ssb.no/api/v0, \n",
    "           full_url = None):\n",
    "    \"\"\"\n",
    "    Selects a table based on the table_id and returns a widget container \n",
    "    in which the user can select the set of variables and values to be \n",
    "    included in the final table.\n",
    "    \n",
    "    \n",
    "    Example\n",
    "    --------\n",
    "    box = select(table_id = '10714')\n",
    "    \n",
    "    \n",
    "    Parameters\n",
    "    ----------    \n",
    "    \n",
    "        table_id : string \n",
    "            the id of the desired table\n",
    "         \n",
    "        language: string\n",
    "            language for table\n",
    "            'en' (default, English) \n",
    "            'no' (Norwegian): \n",
    "            language for table\n",
    "        \n",
    "        base_url: string.\n",
    "            base url locating the table (not including table_id)\n",
    "        \n",
    "        full_url: string\n",
    "            the full url to the table\n",
    "    \"\"\"\n",
    "        \n",
    "    # get table_id not full url was specified \n",
    "    if full_url is None:\n",
    "        full_url = '{base_url}/{language}/table/{table_id}'.format(\n",
    "                    base_url = base_url, \n",
    "                    language = language, \n",
    "                    table_id = table_id)\n",
    "        \n",
    "    table_info = pd.read_json(full_url)\n",
    "    table_title = table_info.iloc[0,0]\n",
    "\n",
    "    # get a list with dictionaries containing information about each variable\n",
    "    variables = get_variables(table_id = table_id, \n",
    "                              language = language,\n",
    "                              base_url = base_url,\n",
    "                              full_url = full_url)\n",
    "    \n",
    "    # get number of variables (ok, childish approach, can be simplified!)\n",
    "    nvars = len(variables)\n",
    "    var_list = list(range(nvars))\n",
    "    \n",
    "    # a list of dictionaries of the values available for each variable\n",
    "    option_list = [OrderedDict(zip(variables[var]['valueTexts'], \n",
    "                                   variables[var]['values'])) \n",
    "                   for var in var_list]\n",
    "    \n",
    "    # create a selection widget for each variable\n",
    "    # todo: skip widget or make it invisible if there is only one option?\n",
    "    # todo: make first alternative a default selection initially for all tables?\n",
    "    # todo: add buttons for selecting \"all\", \"latest\" , \"first\" and \"none\"\n",
    "                         \n",
    "    selection_widgets = [widgets.widget_selection.SelectMultiple(\n",
    "                            options = option_list[var], \n",
    "                            height = 400, \n",
    "                            width = 500) \n",
    "                         for var in var_list]\n",
    "    \n",
    "    # put all the widgets in a container\n",
    "    variables_container = widgets.Tab(selection_widgets)\n",
    "\n",
    "    # label each container with the variable label \n",
    "    for var in var_list:\n",
    "        title = str(variables[var]['text'])\n",
    "        variables_container.set_title(var, title)\n",
    "    \n",
    "    # build widgets and put in one widget container\n",
    "    headline = widgets.Label(value = table_title, color = 'blue')\n",
    "    \n",
    "    endline = widgets.Label(value = '''Select category and click on elements \n",
    "        to be included in the table (CTRL-A selects \"all\")''')\n",
    "    \n",
    "    url_text = widgets.Label(value = full_url)\n",
    "    \n",
    "    selection_container = widgets.VBox([headline, \n",
    "                                        endline, \n",
    "                                        variables_container, \n",
    "                                        url_text])\n",
    "    \n",
    "    selection_container.layout.border = '3px grey solid'\n",
    "    # may include a \"click here when finished\" just to make it more intuitive?\n",
    "    return selection_container"
   ]
  },
  {
   "cell_type": "code",
   "execution_count": 10,
   "metadata": {
    "collapsed": false,
    "run_control": {
     "frozen": false,
     "read_only": false
    }
   },
   "outputs": [
    {
     "data": {
      "image/png": "[encoded data removed]",
      "text/html": [
       "<img src=data:image/png;base64,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 class=\"jupyter-widget\">\n",
       "<script type=\"application/vnd.jupyter-embedded-widgets\">[{\"border\":\"3px grey solid\",\"flex_flow\":\"column\",\"display\":\"flex\"},{},{\"layout\":\"IPY_MODEL_add89ef198474fd498250af15dd9e6d7\",\"value\":\"Holdings housing cows, cattle places and automatic milking system, by region, contents and year\",\"color\":\"blue\"},{},{\"layout\":\"IPY_MODEL_b4ceebb4ce8949e889fd49ee3c2f48db\",\"value\":\"Select category and click on elements \\n        to be included in the table (CTRL-A selects \\\"all\\\")\"},{},{},{\"layout\":\"IPY_MODEL_44f27495615a4eb88c1d914a732637d3\",\"value\":[\"The whole country\"],\"width\":\"500\",\"height\":\"400\",\"_options_labels\":[\"The whole country\",\"Østfold\",\"Akershus and Oslo\",\"Hedmark\",\"Oppland\",\"Buskerud\",\"Vestfold\",\"Telemark\",\"Aust-Agder\",\"Vest-Agder\",\"Rogaland\",\"Hordaland\",\"Sogn og Fjordane\",\"Møre og Romsdal\",\"Sør-Trøndelag\",\"Nord-Trøndelag\",\"Nordland\",\"Troms - Romsa\",\"Finnmark - Finnmárku\",\"Eastern Norway\",\"Agder and Rogaland\",\"Western Norway\",\"Trøndelag\",\"Northern Norway\"]},{},{\"layout\":\"IPY_MODEL_4ebb94989e7746e9acdb7e8b51eb80c4\",\"value\":[\"Holdings with housing cows, total\",\"Holdings with cow places in stanchion-tied houses\",\"Holdings with cows places in loose housing\",\"Cattle places in stanchion-tied houses\",\"Cattle places in loose housing\",\"Automatic milking system\"],\"width\":\"500\",\"height\":\"400\",\"_options_labels\":[\"Holdings with housing cows, total\",\"Holdings with cow places in stanchion-tied houses\",\"Holdings with cows places in loose housing\",\"Cattle places in stanchion-tied houses\",\"Cattle places in loose housing\",\"Automatic milking system\"]},{},{\"layout\":\"IPY_MODEL_0ae8a9058fc74c7b8252b33afacef493\",\"value\":[\"1999\",\"2013\"],\"width\":\"500\",\"height\":\"400\",\"_options_labels\":[\"1999\",\"2013\"]},{\"layout\":\"IPY_MODEL_475bdaf820fc46168ae91ecf25f4b3ac\",\"selected_index\":1,\"_titles\":{\"0\":\"region\",\"1\":\"contents\",\"2\":\"year\"},\"children\":[\"IPY_MODEL_3ffef9af0cfc44788e0d4caaf34b2a69\",\"IPY_MODEL_021f6f4e33454a45a6a6ae1436148b63\",\"IPY_MODEL_eb23cab1fe104b40963279c1d997d79e\"]},{},{\"layout\":\"IPY_MODEL_a16b3754b185427e9606ccd2df1cd595\",\"value\":\"http://data.ssb.no/api/v0/en/table/10714\"},{\"layout\":\"IPY_MODEL_22db47b9539f44e087a4d8f77b401c0e\",\"children\":[\"IPY_MODEL_b07d30506e3c4b6ca4bb9d6acd5ad8cc\",\"IPY_MODEL_0b3b9ac7269d49c5bc7fa59540fa03d6\",\"IPY_MODEL_90b158a1bc9949caa04440910d05db76\",\"IPY_MODEL_99fb5df02d2c4b8698a78f868bf98ee0\"]}]</script>"
      ]
     },
     "metadata": {
      "isWidgetSnapshot": true
     },
     "output_type": "display_data"
    }
   ],
   "source": [
    "box = select(table_id = '10714')\n",
    "box"
   ]
  },
  {
   "cell_type": "markdown",
   "metadata": {},
   "source": [
    "### Sweden"
   ]
  },
  {
   "cell_type": "code",
   "execution_count": 11,
   "metadata": {
    "collapsed": false,
    "run_control": {
     "frozen": false,
     "read_only": false
    }
   },
   "outputs": [
    {
     "data": {
      "image/png": "[encoded data removed]",
      "text/html": [
       "<img src=data:image/png;base64,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 class=\"jupyter-widget\">\n",
       "<script type=\"application/vnd.jupyter-embedded-widgets\">[{\"border\":\"3px grey solid\",\"flex_flow\":\"column\",\"display\":\"flex\"},{},{\"layout\":\"IPY_MODEL_9e5e8316bd874b29b8efdbef2eb2f1f8\",\"value\":\"Population by region, marital status, age, sex, observations and year\",\"color\":\"blue\"},{},{\"layout\":\"IPY_MODEL_865fa40b2bf84e99a7cc46070a3c0719\",\"value\":\"Select category and click on elements \\n        to be included in the table (CTRL-A selects \\\"all\\\")\"},{},{},{\"layout\":\"IPY_MODEL_107ccdce208a415bb974cf3332dc03e4\",\"value\":[],\"width\":\"500\",\"height\":\"400\",\"_options_labels\":[\"Sweden\",\"Stockholm county\",\"Upplands Väsby\",\"Vallentuna\",\"Österåker\",\"Värmdö\",\"Järfälla\",\"Ekerö\",\"Huddinge\",\"Botkyrka\",\"Salem\",\"Haninge\",\"Tyresö\",\"Upplands-Bro\",\"Nykvarn\",\"Täby\",\"Danderyd\",\"Sollentuna\",\"Stockholm\",\"Södertälje\",\"Nacka\",\"Sundbyberg\",\"Solna\",\"Lidingö\",\"Vaxholm\",\"Norrtälje\",\"Sigtuna\",\"Nynäshamn\",\"Uppsala county\",\"Håbo\",\"Älvkarleby\",\"Knivsta\",\"Heby\",\"Tierp\",\"Uppsala\",\"Enköping\",\"Östhammar\",\"Södermanland county\",\"Vingåker\",\"Gnesta\",\"Nyköping\",\"Oxelösund\",\"Flen\",\"Katrineholm\",\"Eskilstuna\",\"Strängnäs\",\"Trosa\",\"Östergötland county\",\"Ödeshög\",\"Ydre\",\"Kinda\",\"Boxholm\",\"Åtvidaberg\",\"Finspång\",\"Valdemarsvik\",\"Linköping\",\"Norrköping\",\"Söderköping\",\"Motala\",\"Vadstena\",\"Mjölby\",\"Jönköping county\",\"Aneby\",\"Gnosjö\",\"Mullsjö\",\"Habo\",\"Gislaved\",\"Vaggeryd\",\"Jönköping\",\"Nässjö\",\"Värnamo\",\"Sävsjö\",\"Vetlanda\",\"Eksjö\",\"Tranås\",\"Kronoberg county\",\"Uppvidinge\",\"Lessebo\",\"Tingsryd\",\"Alvesta\",\"Älmhult\",\"Markaryd\",\"Växjö\",\"Ljungby\",\"Kalmar county\",\"Högsby\",\"Torsås\",\"Mörbylånga\",\"Hultsfred\",\"Mönsterås\",\"Emmaboda\",\"Kalmar\",\"Nybro\",\"Oskarshamn\",\"Västervik\",\"Vimmerby\",\"Borgholm\",\"Gotland county\",\"Gotland\",\"Blekinge county\",\"Olofström\",\"Karlskrona\",\"Ronneby\",\"Karlshamn\",\"Sölvesborg\",\"Skåne county\",\"Svalöv\",\"Staffanstorp\",\"Burlöv\",\"Vellinge\",\"Östra Göinge\",\"Örkelljunga\",\"Bjuv\",\"Kävlinge\",\"Lomma\",\"Svedala\",\"Skurup\",\"Sjöbo\",\"Hörby\",\"Höör\",\"Tomelilla\",\"Bromölla\",\"Osby\",\"Perstorp\",\"Klippan\",\"Åstorp\",\"Båstad\",\"Malmö\",\"Lund\",\"Landskrona\",\"Helsingborg\",\"Höganäs\",\"Eslöv\",\"Ystad\",\"Trelleborg\",\"Kristianstad\",\"Simrishamn\",\"Ängelholm\",\"Hässleholm\",\"Halland county\",\"Hylte\",\"Halmstad\",\"Laholm\",\"Falkenberg\",\"Varberg\",\"Kungsbacka\",\"Västra Götaland county\",\"Härryda\",\"Partille\",\"Öckerö\",\"Stenungsund\",\"Tjörn\",\"Orust\",\"Sotenäs\",\"Munkedal\",\"Tanum\",\"Dals-Ed\",\"Färgelanda\",\"Ale\",\"Lerum\",\"Vårgårda\",\"Bollebygd\",\"Grästorp\",\"Essunga\",\"Karlsborg\",\"Gullspång\",\"Tranemo\",\"Bengtsfors\",\"Mellerud\",\"Lilla Edet\",\"Mark\",\"Svenljunga\",\"Herrljunga\",\"Vara\",\"Götene\",\"Tibro\",\"Töreboda\",\"Göteborg\",\"Mölndal\",\"Kungälv\",\"Lysekil\",\"Uddevalla\",\"Strömstad\",\"Vänersborg\",\"Trollhättan\",\"Alingsås\",\"Borås\",\"Ulricehamn\",\"Åmål\",\"Mariestad\",\"Lidköping\",\"Skara\",\"Skövde\",\"Hjo\",\"Tidaholm\",\"Falköping\",\"Värmland county\",\"Kil\",\"Eda\",\"Torsby\",\"Storfors\",\"Hammarö\",\"Munkfors\",\"Forshaga\",\"Grums\",\"Årjäng\",\"Sunne\",\"Karlstad\",\"Kristinehamn\",\"Filipstad\",\"Hagfors\",\"Arvika\",\"Säffle\",\"Örebro county\",\"Lekeberg\",\"Laxå\",\"Hallsberg\",\"Degerfors\",\"Hällefors\",\"Ljusnarsberg\",\"Örebro\",\"Kumla\",\"Askersund\",\"Karlskoga\",\"Nora\",\"Lindesberg\",\"Västmanland county\",\"Skinnskatteberg\",\"Surahammar\",\"Kungsör\",\"Hallstahammar\",\"Norberg\",\"Västerås\",\"Sala\",\"Fagersta\",\"Köping\",\"Arboga\",\"Dalarna county\",\"Vansbro\",\"Malung-Sälen\",\"Gagnef\",\"Leksand\",\"Rättvik\",\"Orsa\",\"Älvdalen\",\"Smedjebacken\",\"Mora\",\"Falun\",\"Borlänge\",\"Säter\",\"Hedemora\",\"Avesta\",\"Ludvika\",\"Gävleborg county\",\"Ockelbo\",\"Hofors\",\"Ovanåker\",\"Nordanstig\",\"Ljusdal\",\"Gävle\",\"Sandviken\",\"Söderhamn\",\"Bollnäs\",\"Hudiksvall\",\"Västernorrland county\",\"Ånge\",\"Timrå\",\"Härnösand\",\"Sundsvall\",\"Kramfors\",\"Sollefteå\",\"Örnsköldsvik\",\"Jämtland county\",\"Ragunda\",\"Bräcke\",\"Krokom\",\"Strömsund\",\"Åre\",\"Berg\",\"Härjedalen\",\"Östersund\",\"Västerbotten county\",\"Nordmaling\",\"Bjurholm\",\"Vindeln\",\"Robertsfors\",\"Norsjö\",\"Malå\",\"Storuman\",\"Sorsele\",\"Dorotea\",\"Vännäs\",\"Vilhelmina\",\"Åsele\",\"Umeå\",\"Lycksele\",\"Skellefteå\",\"Norrbotten county\",\"Arvidsjaur\",\"Arjeplog\",\"Jokkmokk\",\"Överkalix\",\"Kalix\",\"Övertorneå\",\"Pajala\",\"Gällivare\",\"Älvsbyn\",\"Luleå\",\"Piteå\",\"Boden\",\"Haparanda\",\"Kiruna\"]},{},{\"layout\":\"IPY_MODEL_61c739a4a3154d378aa508f4d509c727\",\"value\":[],\"width\":\"500\",\"height\":\"400\",\"_options_labels\":[\"single\",\"married\",\"widowers/widows\",\"divorced\"]},{},{\"layout\":\"IPY_MODEL_06b59b3b73024b04af1ca5e928fe47b6\",\"value\":[\"17 years\",\"18 years\",\"19 years\",\"20 years\",\"21 years\",\"22 years\",\"23 years\",\"24 years\",\"25 years\",\"26 years\",\"27 years\",\"28 years\",\"29 years\",\"30 years\",\"31 years\",\"32 years\",\"33 years\",\"34 years\",\"35 years\",\"36 years\",\"37 years\"],\"width\":\"500\",\"height\":\"400\",\"_options_labels\":[\"0 years\",\"1 year\",\"2 years\",\"3 years\",\"4 years\",\"5 years\",\"6 years\",\"7 years\",\"8 years\",\"9 years\",\"10 years\",\"11 years\",\"12 years\",\"13 years\",\"14 years\",\"15 years\",\"16 years\",\"17 years\",\"18 years\",\"19 years\",\"20 years\",\"21 years\",\"22 years\",\"23 years\",\"24 years\",\"25 years\",\"26 years\",\"27 years\",\"28 years\",\"29 years\",\"30 years\",\"31 years\",\"32 years\",\"33 years\",\"34 years\",\"35 years\",\"36 years\",\"37 years\",\"38 years\",\"39 years\",\"40 years\",\"41 years\",\"42 years\",\"43 years\",\"44 years\",\"45 years\",\"46 years\",\"47 years\",\"48 years\",\"49 years\",\"50 years\",\"51 years\",\"52 years\",\"53 years\",\"54 years\",\"55 years\",\"56 years\",\"57 years\",\"58 years\",\"59 years\",\"60 years\",\"61 years\",\"62 years\",\"63 years\",\"64 years\",\"65 years\",\"66 years\",\"67 years\",\"68 years\",\"69 years\",\"70 years\",\"71 years\",\"72 years\",\"73 years\",\"74 years\",\"75 years\",\"76 years\",\"77 years\",\"78 years\",\"79 years\",\"80 years\",\"81 years\",\"82 years\",\"83 years\",\"84 years\",\"85 years\",\"86 years\",\"87 years\",\"88 years\",\"89 years\",\"90 years\",\"91 years\",\"92 years\",\"93 years\",\"94 years\",\"95 years\",\"96 years\",\"97 years\",\"98 years\",\"99 years\",\"100+ years\",\"total\"]},{},{\"layout\":\"IPY_MODEL_ee986b170f034b30b03b8de79a3d2c63\",\"value\":[],\"width\":\"500\",\"height\":\"400\",\"_options_labels\":[\"men\",\"women\"]},{},{\"layout\":\"IPY_MODEL_0209068cbd9f49b99144faa27c0e661f\",\"value\":[],\"width\":\"500\",\"height\":\"400\",\"_options_labels\":[\"Population\",\"Population growth\"]},{},{\"layout\":\"IPY_MODEL_a3c4b08103d04df09a761c5cf695d3fd\",\"value\":[],\"width\":\"500\",\"height\":\"400\",\"_options_labels\":[\"1968\",\"1969\",\"1970\",\"1971\",\"1972\",\"1973\",\"1974\",\"1975\",\"1976\",\"1977\",\"1978\",\"1979\",\"1980\",\"1981\",\"1982\",\"1983\",\"1984\",\"1985\",\"1986\",\"1987\",\"1988\",\"1989\",\"1990\",\"1991\",\"1992\",\"1993\",\"1994\",\"1995\",\"1996\",\"1997\",\"1998\",\"1999\",\"2000\",\"2001\",\"2002\",\"2003\",\"2004\",\"2005\",\"2006\",\"2007\",\"2008\",\"2009\",\"2010\",\"2011\",\"2012\",\"2013\",\"2014\",\"2015\"]},{\"layout\":\"IPY_MODEL_889a2530d0ec4939af3a7f525c2b2f86\",\"selected_index\":2,\"_titles\":{\"0\":\"region\",\"1\":\"marital status\",\"2\":\"age\",\"3\":\"sex\",\"4\":\"observations\",\"5\":\"year\"},\"children\":[\"IPY_MODEL_bcc2514d8f724b57a587aa1158aa0273\",\"IPY_MODEL_67624632b470481bb331c2bfc89ce16d\",\"IPY_MODEL_b90506d2a3144c9ab5d5056a4cb77d18\",\"IPY_MODEL_21cdc2a2c2cd438895ef6c9824d0bb75\",\"IPY_MODEL_02193a9e88a3408093724f5b3a7da8dc\",\"IPY_MODEL_ea27788c18264d3eb0d99eb546e35349\"]},{},{\"layout\":\"IPY_MODEL_ae606ff453ac4819b22f418de13bda7f\",\"value\":\"http://api.scb.se/OV0104/v1/doris/en/ssd/BE/BE0101/BE0101A/BefolkningNy\"},{\"layout\":\"IPY_MODEL_c64a677979cf4f0eab2d5fb635a976a1\",\"children\":[\"IPY_MODEL_8e4a7ca7427f4650ae994a545f03ec54\",\"IPY_MODEL_176007c4de6948d98771559722c9214a\",\"IPY_MODEL_d49439f7780f4c9fbf5335e6791754e7\",\"IPY_MODEL_7fcbac43bc054f5cb7b1e91a040cb890\"]}]</script>"
      ]
     },
     "metadata": {
      "isWidgetSnapshot": true
     },
     "output_type": "display_data"
    }
   ],
   "source": [
    "# The box select framework also works for Statistics Sweden \n",
    "# The full_url to the table has to be specified since table_id \n",
    "# does not have the same structure as in Norway\n",
    "full_url = 'http://api.scb.se/OV0104/v1/doris/en/ssd/BE/BE0101/BE0101A/BefolkningNy'\n",
    "box_sweden = select(full_url = full_url)\n",
    "box_sweden"
   ]
  },
  {
   "cell_type": "markdown",
   "metadata": {},
   "source": [
    "### Function to get the json query from the widget container"
   ]
  },
  {
   "cell_type": "code",
   "execution_count": 12,
   "metadata": {
    "code_folding": [],
    "collapsed": false,
    "run_control": {
     "frozen": false,
     "read_only": false
    }
   },
   "outputs": [],
   "source": [
    "def get_json(box=None, out = 'dict', language = 'en'):\n",
    "    \"\"\"\n",
    "    Takes a widget container as input (where the user has selected varables) \n",
    "    and returns a json dictionary or string that will fetch these variables. \n",
    "    \n",
    "    The json follows the json-stat format.\n",
    "    \n",
    "    Parameters\n",
    "    ----------\n",
    "    \n",
    "    box : widget container \n",
    "        name of widget box with the selected variables\n",
    "    \n",
    "    out : string \n",
    "        default: 'dict', options: 'str'\n",
    "        \n",
    "        The json can be returned as a dictionary or a string.\n",
    "        The final end query should use a dict, but some may find it useful to\n",
    "        get the string and revise it before transforming it back to a dict.\n",
    "    \n",
    "    \n",
    "    Example\n",
    "    -------\n",
    "    \n",
    "    json_query = get_json(box)\n",
    "    \n",
    "    \"\"\"\n",
    "        \n",
    "    table_url = box.children[3].value\n",
    "    variables = get_variables(full_url = table_url)\n",
    "    nvars = len(box.children[2].children)\n",
    "    var_list = list(range(nvars))\n",
    "    query_element = {}\n",
    "    \n",
    "    # create a dict of strings, one for each variable that specifies \n",
    "    # the json-stat that selects the variables/values\n",
    "    \n",
    "    for x in var_list:\n",
    "        value_list = str(list(box.children[2].children[x].value))\n",
    "        query_element[x] = '{{\"code\": \"{code}\", \"selection\": {{\"filter\": \"item\", \"values\": {values} }}}}'.format(\n",
    "            code = variables[x]['code'], \n",
    "            values = value_list)\n",
    "        query_element[x] = query_element[x].replace(\"\\'\", '\"')\n",
    "    \n",
    "    all_elements = str(list(query_element.values()))\n",
    "    all_elements = all_elements.replace(\"\\'\", \"\")\n",
    "\n",
    "    query = '{{\"query\": {all_elements} , \"response\": {{\"format\": \"json-stat\" }}}}'.format(all_elements = all_elements)\n",
    "    \n",
    "    if out == 'dict':\n",
    "        query = ast.literal_eval(query)\n",
    "    \n",
    "  \n",
    "    # todo: build it as a dictionary to start with (and not a string that is made into a dict as now)\n",
    "    # todo: add error message if required variables are not selected\n",
    "    # todo: avoid repeat downloading of same information \n",
    "    # eg. get_variables is sometimes used three times before a table is downloaded\n",
    "    \n",
    "    return query"
   ]
  },
  {
   "cell_type": "code",
   "execution_count": 13,
   "metadata": {
    "collapsed": true,
    "run_control": {
     "frozen": false,
     "read_only": false
    }
   },
   "outputs": [],
   "source": [
    "def to_dict(json_str):\n",
    "    \"\"\"\n",
    "        Transforms a string to a dictionary.\n",
    "        \n",
    "        Note: Will fail if string is not correctly specified.\n",
    "    \"\"\"\n",
    "    # OK, really unnecessary func, but a concession to less experienced users\n",
    "    # todo: use json module instead, json.dumps()\n",
    "    query = ast.literal_eval(json_str)\n",
    "    return query\n",
    "    "
   ]
  },
  {
   "cell_type": "markdown",
   "metadata": {},
   "source": [
    "## Read the data (selected in the box) into a pandas dataframe"
   ]
  },
  {
   "cell_type": "markdown",
   "metadata": {},
   "source": [
    "Note: A selection has to be made for all the (required) variables in the widget container (box). If not the json-stat specification will be incomplete and read_box() will return an error."
   ]
  },
  {
   "cell_type": "code",
   "execution_count": 14,
   "metadata": {
    "collapsed": true,
    "run_control": {
     "frozen": false,
     "read_only": false
    }
   },
   "outputs": [],
   "source": [
    "def read_box(from_box):\n",
    "    \"\"\"\n",
    "    Takes a widget container as input (where the user has selected varables) \n",
    "    and returns a pandas dataframe with the values for the selected variables.\n",
    "    \n",
    "    Example\n",
    "    -------\n",
    "    \n",
    "    df = read_box(box)\n",
    "    \n",
    "    \"\"\"\n",
    "    query = get_json(from_box)\n",
    "    url = from_box.children[3].value\n",
    "    data = requests.post(url, json = query)\n",
    "    results = pyjstat.from_json_stat(data.json(object_pairs_hook=OrderedDict))\n",
    "    return results[0]"
   ]
  },
  {
   "cell_type": "code",
   "execution_count": 15,
   "metadata": {
    "collapsed": false,
    "run_control": {
     "frozen": false,
     "read_only": false
    }
   },
   "outputs": [],
   "source": [
    "df = read_box(box)"
   ]
  },
  {
   "cell_type": "code",
   "execution_count": 16,
   "metadata": {
    "collapsed": false,
    "run_control": {
     "frozen": false,
     "read_only": false
    }
   },
   "outputs": [
    {
     "data": {
      "text/html": [
       "<div>\n",
       "<table border=\"1\" class=\"dataframe\">\n",
       "  <thead>\n",
       "    <tr style=\"text-align: right;\">\n",
       "      <th></th>\n",
       "      <th>region</th>\n",
       "      <th>year</th>\n",
       "      <th>value</th>\n",
       "    </tr>\n",
       "  </thead>\n",
       "  <tbody>\n",
       "    <tr>\n",
       "      <th>0</th>\n",
       "      <td>The whole country</td>\n",
       "      <td>1999</td>\n",
       "      <td>27461</td>\n",
       "    </tr>\n",
       "    <tr>\n",
       "      <th>1</th>\n",
       "      <td>The whole country</td>\n",
       "      <td>2013</td>\n",
       "      <td>9400</td>\n",
       "    </tr>\n",
       "  </tbody>\n",
       "</table>\n",
       "</div>"
      ],
      "text/plain": [
       "              region  year  value\n",
       "0  The whole country  1999  27461\n",
       "1  The whole country  2013   9400"
      ]
     },
     "execution_count": 16,
     "metadata": {},
     "output_type": "execute_result"
    }
   ],
   "source": [
    "df.head()"
   ]
  },
  {
   "cell_type": "markdown",
   "metadata": {},
   "source": [
    "##  Some other useful functions"
   ]
  },
  {
   "cell_type": "markdown",
   "metadata": {},
   "source": [
    "### Get the json query used to get the data (as specified in the box)"
   ]
  },
  {
   "cell_type": "code",
   "execution_count": 17,
   "metadata": {
    "collapsed": false,
    "run_control": {
     "frozen": false,
     "read_only": false
    }
   },
   "outputs": [
    {
     "name": "stdout",
     "output_type": "stream",
     "text": [
      "{'query': [{'selection': {'values': ['0'], 'filter': 'item'}, 'code': 'Region'}, {'selection': {'values': ['KufjolsIAlt'], 'filter': 'item'}, 'code': 'ContentsCode'}, {'selection': {'values': ['1999', '2013'], 'filter': 'item'}, 'code': 'Tid'}], 'response': {'format': 'json-stat'}}\n"
     ]
    }
   ],
   "source": [
    "query = get_json(box)\n",
    "print(query)"
   ]
  },
  {
   "cell_type": "markdown",
   "metadata": {},
   "source": [
    "### Read based on an explicit defined json query, not the box selection"
   ]
  },
  {
   "cell_type": "code",
   "execution_count": 18,
   "metadata": {
    "code_folding": [],
    "collapsed": false,
    "run_control": {
     "frozen": false,
     "read_only": false
    }
   },
   "outputs": [],
   "source": [
    "def read_with_json(table_id = None, \n",
    "              query = None, \n",
    "              language = 'en', \n",
    "              base_url = http://data.ssb.no/api/v0, \n",
    "              full_url = None):\n",
    "    \"\"\"\n",
    "    Returns a pandas dataframe with the values for the table specified by \n",
    "    table_id and an explicit json string (in json-stat format).\n",
    "    \n",
    "    Useful if \n",
    "        - you know exactly what you are looking for and\n",
    "        - can specify the json yourself (as a dictionary)\n",
    "        - you do not want to use the notebook/widgets/box to specify the json query\n",
    "        \n",
    "    Hints\n",
    "    -----\n",
    "        - use full_json(table_id = '10714', out = 'string') to get a query string and edit it\n",
    "        - use to_dict(str) to get a dict from an edited json string\n",
    "            \n",
    "    Example\n",
    "    -------\n",
    "    json_query = {'response': {'format': 'json-stat'}, \n",
    "        'query': [\n",
    "        {'selection': {'values': ['0'], 'filter': 'item'}, 'code': 'Region'}, \n",
    "        {'selection': {'values': ['KufjolsIAlt'], 'filter': 'item'}, 'code': 'ContentsCode'}, \n",
    "        {'selection': {'values': ['1999', '2013'], 'filter': 'item'}, 'code': 'Tid'}]}\n",
    "        }\n",
    "    \n",
    "    df = read_with_json(table_id = '10714', query = json_query)\n",
    "    \n",
    "    \"\"\"\n",
    "    if full_url is None:\n",
    "        \n",
    "        full_url = '{base_url}/{language}/table/{table_id}'.format(\n",
    "            base_url = base_url, \n",
    "            language = language, \n",
    "            table_id = table_id)\n",
    "        \n",
    "    data = requests.post(full_url, json = query)\n",
    "    results = pyjstat.from_json_stat(data.json(object_pairs_hook=OrderedDict))\n",
    "    return results[0]"
   ]
  },
  {
   "cell_type": "code",
   "execution_count": 19,
   "metadata": {
    "collapsed": false,
    "run_control": {
     "frozen": false,
     "read_only": false
    }
   },
   "outputs": [],
   "source": [
    "json_query = {\n",
    "    'query': [\n",
    "        {'selection': {'values': ['0'], 'filter': 'item'}, 'code': 'Region'},\n",
    "        {'selection': {'values': ['KufjolsIAlt'], 'filter': 'item'}, 'code': 'ContentsCode'},\n",
    "        {'selection': {'values': ['1999', '2013'], 'filter': 'item'}, 'code': 'Tid'}\n",
    "            ],\n",
    "    'response': {'format': 'json-stat'}\n",
    "            }\n",
    "\n",
    "df2 = read_with_json(table_id = '10714', query = json_query)"
   ]
  },
  {
   "cell_type": "code",
   "execution_count": 20,
   "metadata": {
    "collapsed": false,
    "run_control": {
     "frozen": false,
     "read_only": false
    }
   },
   "outputs": [
    {
     "data": {
      "text/html": [
       "<div>\n",
       "<table border=\"1\" class=\"dataframe\">\n",
       "  <thead>\n",
       "    <tr style=\"text-align: right;\">\n",
       "      <th></th>\n",
       "      <th>region</th>\n",
       "      <th>year</th>\n",
       "      <th>value</th>\n",
       "    </tr>\n",
       "  </thead>\n",
       "  <tbody>\n",
       "    <tr>\n",
       "      <th>0</th>\n",
       "      <td>The whole country</td>\n",
       "      <td>1999</td>\n",
       "      <td>27461</td>\n",
       "    </tr>\n",
       "    <tr>\n",
       "      <th>1</th>\n",
       "      <td>The whole country</td>\n",
       "      <td>2013</td>\n",
       "      <td>9400</td>\n",
       "    </tr>\n",
       "  </tbody>\n",
       "</table>\n",
       "</div>"
      ],
      "text/plain": [
       "              region  year  value\n",
       "0  The whole country  1999  27461\n",
       "1  The whole country  2013   9400"
      ]
     },
     "execution_count": 20,
     "metadata": {},
     "output_type": "execute_result"
    }
   ],
   "source": [
    "df2.head()"
   ]
  },
  {
   "cell_type": "markdown",
   "metadata": {},
   "source": [
    "## Reading from other databases (json-stat  format) \n",
    "(works when full url to the table is specified)"
   ]
  },
  {
   "cell_type": "markdown",
   "metadata": {
    "collapsed": true,
    "run_control": {
     "frozen": false,
     "read_only": false
    }
   },
   "source": [
    "Many countries and agencies offer json-stat or csv formatted tables that do not need a json specification to be downloaded. Often the sources allow some control of what values (years, geographic units) to be downloaded as part of the url. The following function can be used to download these tables."
   ]
  },
  {
   "cell_type": "code",
   "execution_count": 22,
   "metadata": {
    "collapsed": false,
    "run_control": {
     "frozen": false,
     "read_only": false
    }
   },
   "outputs": [],
   "source": [
    "def read_url(full_url = None, \n",
    "             table_format = 'json'):\n",
    "    \"\"\"\n",
    "    Returns a pandas dataframe of the premade table indicated by the premade \n",
    "    table_id or the full_url.\n",
    "    \n",
    "    Note: The premade table id may be different from the normal table id.\n",
    "    \"\"\"\n",
    "    \n",
    "    if full_url is None:\n",
    "        full_url = '{base_url}/{premade_id}.{table_format}?lang={language}'.format(\n",
    "                base_url = base_url,\n",
    "                premade_id = str(premade_id), \n",
    "                language = language,\n",
    "                table_format = table_format)\n",
    "    #print(full_url)\n",
    "    \n",
    "    if table_format == 'json':\n",
    "        data = requests.get(full_url)\n",
    "        df = pyjstat.from_json_stat(data.json(object_pairs_hook=OrderedDict))\n",
    "        df = df[0]\n",
    "        \n",
    "    elif table_format == 'csv':\n",
    "        df = pd.read_csv(full_url)\n",
    "    else:\n",
    "        print(\"\"\"Table_format is incorrectly specified. \n",
    "              It must be 'json-stat' or 'csv'\"\"\")\n",
    "        df = None\n",
    "    return df"
   ]
  },
  {
   "cell_type": "markdown",
   "metadata": {},
   "source": [
    "### Ireland"
   ]
  },
  {
   "cell_type": "code",
   "execution_count": 24,
   "metadata": {
    "collapsed": false,
    "run_control": {
     "frozen": false,
     "read_only": false
    }
   },
   "outputs": [
    {
     "data": {
      "text/html": [
       "<div>\n",
       "<table border=\"1\" class=\"dataframe\">\n",
       "  <thead>\n",
       "    <tr style=\"text-align: right;\">\n",
       "      <th></th>\n",
       "      <th>Country of Birth</th>\n",
       "      <th>County</th>\n",
       "      <th>Year</th>\n",
       "      <th>Statistic</th>\n",
       "      <th>value</th>\n",
       "    </tr>\n",
       "  </thead>\n",
       "  <tbody>\n",
       "    <tr>\n",
       "      <th>0</th>\n",
       "      <td>Total Birth</td>\n",
       "      <td>State</td>\n",
       "      <td>1841</td>\n",
       "      <td>Population (Number)</td>\n",
       "      <td>6528799</td>\n",
       "    </tr>\n",
       "    <tr>\n",
       "      <th>1</th>\n",
       "      <td>Total Birth</td>\n",
       "      <td>State</td>\n",
       "      <td>1851</td>\n",
       "      <td>Population (Number)</td>\n",
       "      <td>5111557</td>\n",
       "    </tr>\n",
       "    <tr>\n",
       "      <th>2</th>\n",
       "      <td>Total Birth</td>\n",
       "      <td>State</td>\n",
       "      <td>1861</td>\n",
       "      <td>Population (Number)</td>\n",
       "      <td>4402111</td>\n",
       "    </tr>\n",
       "    <tr>\n",
       "      <th>3</th>\n",
       "      <td>Total Birth</td>\n",
       "      <td>State</td>\n",
       "      <td>1871</td>\n",
       "      <td>Population (Number)</td>\n",
       "      <td>4053187</td>\n",
       "    </tr>\n",
       "    <tr>\n",
       "      <th>4</th>\n",
       "      <td>Total Birth</td>\n",
       "      <td>State</td>\n",
       "      <td>1881</td>\n",
       "      <td>Population (Number)</td>\n",
       "      <td>3870020</td>\n",
       "    </tr>\n",
       "  </tbody>\n",
       "</table>\n",
       "</div>"
      ],
      "text/plain": [
       "  Country of Birth County  Year            Statistic    value\n",
       "0      Total Birth  State  1841  Population (Number)  6528799\n",
       "1      Total Birth  State  1851  Population (Number)  5111557\n",
       "2      Total Birth  State  1861  Population (Number)  4402111\n",
       "3      Total Birth  State  1871  Population (Number)  4053187\n",
       "4      Total Birth  State  1881  Population (Number)  3870020"
      ]
     },
     "execution_count": 24,
     "metadata": {},
     "output_type": "execute_result"
    }
   ],
   "source": [
    "irl_url = 'http://www.cso.ie/StatbankServices/StatbankServices.svc/jsonservice/responseinstance/CNA31' \n",
    "irl_pop = read_url(irl_url)\n",
    "irl_pop.head()"
   ]
  },
  {
   "cell_type": "markdown",
   "metadata": {
    "collapsed": true,
    "run_control": {
     "frozen": false,
     "read_only": false
    }
   },
   "source": [
    "###  UK: ONS (Requires api key)"
   ]
  },
  {
   "cell_type": "code",
   "execution_count": 25,
   "metadata": {
    "collapsed": false,
    "run_control": {
     "frozen": false,
     "read_only": false
    }
   },
   "outputs": [
    {
     "data": {
      "text/html": [
       "<div>\n",
       "<table border=\"1\" class=\"dataframe\">\n",
       "  <thead>\n",
       "    <tr style=\"text-align: right;\">\n",
       "      <th></th>\n",
       "      <th>2011 Administrative Hierarchy</th>\n",
       "      <th>Ethnic group (Flat) (T019A)</th>\n",
       "      <th>Measures</th>\n",
       "      <th>Time Dimension</th>\n",
       "      <th>value</th>\n",
       "    </tr>\n",
       "  </thead>\n",
       "  <tbody>\n",
       "    <tr>\n",
       "      <th>0</th>\n",
       "      <td>England</td>\n",
       "      <td>All categories: Ethnic group</td>\n",
       "      <td>Segment_1</td>\n",
       "      <td>2011</td>\n",
       "      <td>53012456</td>\n",
       "    </tr>\n",
       "    <tr>\n",
       "      <th>1</th>\n",
       "      <td>England</td>\n",
       "      <td>Black/African/Caribbean/Black British: Caribbean</td>\n",
       "      <td>Segment_1</td>\n",
       "      <td>2011</td>\n",
       "      <td>42279236</td>\n",
       "    </tr>\n",
       "    <tr>\n",
       "      <th>2</th>\n",
       "      <td>England</td>\n",
       "      <td>Asian/Asian British: Bangladeshi</td>\n",
       "      <td>Segment_1</td>\n",
       "      <td>2011</td>\n",
       "      <td>517001</td>\n",
       "    </tr>\n",
       "    <tr>\n",
       "      <th>3</th>\n",
       "      <td>England</td>\n",
       "      <td>Asian/Asian British: Chinese</td>\n",
       "      <td>Segment_1</td>\n",
       "      <td>2011</td>\n",
       "      <td>54895</td>\n",
       "    </tr>\n",
       "    <tr>\n",
       "      <th>4</th>\n",
       "      <td>England</td>\n",
       "      <td>White: Irish</td>\n",
       "      <td>Segment_1</td>\n",
       "      <td>2011</td>\n",
       "      <td>2430010</td>\n",
       "    </tr>\n",
       "  </tbody>\n",
       "</table>\n",
       "</div>"
      ],
      "text/plain": [
       "  2011 Administrative Hierarchy  \\\n",
       "0                       England   \n",
       "1                       England   \n",
       "2                       England   \n",
       "3                       England   \n",
       "4                       England   \n",
       "\n",
       "                        Ethnic group (Flat) (T019A)   Measures Time Dimension  \\\n",
       "0                      All categories: Ethnic group  Segment_1           2011   \n",
       "1  Black/African/Caribbean/Black British: Caribbean  Segment_1           2011   \n",
       "2                  Asian/Asian British: Bangladeshi  Segment_1           2011   \n",
       "3                      Asian/Asian British: Chinese  Segment_1           2011   \n",
       "4                                      White: Irish  Segment_1           2011   \n",
       "\n",
       "      value  \n",
       "0  53012456  \n",
       "1  42279236  \n",
       "2    517001  \n",
       "3     54895  \n",
       "4   2430010  "
      ]
     },
     "execution_count": 25,
     "metadata": {},
     "output_type": "execute_result"
    }
   ],
   "source": [
    "ons_url = 'http://data.ons.gov.uk/ons/api/data/dataset/QS201EW.json?context=Census&apikey=YOUR_API_KEY_HERE&geog=2011WARDH&dm/2011WARDH=E92000001&jsontype=json-stat&totals=false'\n",
    "df = read_url(ons_url)\n",
    "df.head()"
   ]
  },
  {
   "cell_type": "markdown",
   "metadata": {},
   "source": [
    "### Function to search premade tables in Statistics Norway"
   ]
  },
  {
   "cell_type": "markdown",
   "metadata": {},
   "source": [
    "Statistics Norway has created premade tables of the most downloaded tables. These tables can be accessed without a json-stat specification. The following functions allow the user to easily search and download these tables. Note that the premade_id is different from the table_id the more general table has in Statistics Norway. Note also that all the premade tables are available using the standard search and read functions, but they then require closer specification of what values the user wants to download."
   ]
  },
  {
   "cell_type": "code",
   "execution_count": 26,
   "metadata": {
    "collapsed": false,
    "run_control": {
     "frozen": false,
     "read_only": false
    }
   },
   "outputs": [],
   "source": [
    "def search_premade(\n",
    "    phrase = '*', \n",
    "    language = 'en', \n",
    "    url = 'http://data.ssb.no/api/v0/dataset'):\n",
    "    \n",
    "    \"\"\"\n",
    "    Returns a pandas dataframe with the tables matching the tags specified in the search.\n",
    "    \n",
    "    Note that the function does not search in the headline of the tables, but in the tags.\n",
    "    \n",
    "    The search is exact, so it may be better to get a list of all tables \n",
    "    (use phrase = '*' or just leave it unspecified)\n",
    "    \n",
    "    The ID column contains a special table id for premade tables \n",
    "    (use this is when specifying the table to be downloaded)\n",
    "    \n",
    "    Example:\n",
    "        \n",
    "        tables = search_url_tables('population')\n",
    "    \n",
    "    \n",
    "    \"\"\"\n",
    "    url = '{url}?lang={language}'.format(\n",
    "        url = url,\n",
    "        language = language)\n",
    "    \n",
    "    df = pd.read_html(url)\n",
    "    df = df[0]\n",
    "    df.index = df['ID']\n",
    "    df = df.iloc[:,[0,1]]\n",
    "    df = df.sort_index()\n",
    "    phrase = phrase.lower()\n",
    "    \n",
    "    if phrase != '*':\n",
    "        df = df[(df.iloc[:,0].str.lower().str.contains(phrase)) | \n",
    "                (df.iloc[:,1].str.lower().str.contains(phrase)) ]\n",
    "    return df\n",
    "\n",
    "# to do: merge the two search functions?\n",
    "# make premade an bool arg in the search. \n",
    "# also allow full_url"
   ]
  },
  {
   "cell_type": "code",
   "execution_count": 27,
   "metadata": {
    "collapsed": false,
    "run_control": {
     "frozen": false,
     "read_only": false
    }
   },
   "outputs": [
    {
     "data": {
      "text/html": [
       "<div>\n",
       "<table border=\"1\" class=\"dataframe\">\n",
       "  <thead>\n",
       "    <tr style=\"text-align: right;\">\n",
       "      <th></th>\n",
       "      <th>Title</th>\n",
       "      <th>Tags</th>\n",
       "    </tr>\n",
       "    <tr>\n",
       "      <th>ID</th>\n",
       "      <th></th>\n",
       "      <th></th>\n",
       "    </tr>\n",
       "  </thead>\n",
       "  <tbody>\n",
       "    <tr>\n",
       "      <th>1102</th>\n",
       "      <td>Population changes. Counties, latest quarter</td>\n",
       "      <td>01222 births deaths emigration folkendrkv immi...</td>\n",
       "    </tr>\n",
       "    <tr>\n",
       "      <th>1104</th>\n",
       "      <td>Population change. Whole country, latest quarter</td>\n",
       "      <td>01222 births deaths emigration folkendrkv immi...</td>\n",
       "    </tr>\n",
       "    <tr>\n",
       "      <th>1106</th>\n",
       "      <td>Population changes. Municipalities, latest 9 q...</td>\n",
       "      <td>01222 births deaths emigration folkendrkv immi...</td>\n",
       "    </tr>\n",
       "    <tr>\n",
       "      <th>1108</th>\n",
       "      <td>Population changes. Municipalities, latest qua...</td>\n",
       "      <td>01222 births deaths emigration folkendrkv immi...</td>\n",
       "    </tr>\n",
       "    <tr>\n",
       "      <th>49577</th>\n",
       "      <td>Population 1 January and population changes du...</td>\n",
       "      <td>06913 folkemengde inhabitants municipalities p...</td>\n",
       "    </tr>\n",
       "    <tr>\n",
       "      <th>49623</th>\n",
       "      <td>Population 1 January and population changes du...</td>\n",
       "      <td>06913 counties folkendrkv inhabitans births de...</td>\n",
       "    </tr>\n",
       "    <tr>\n",
       "      <th>49626</th>\n",
       "      <td>Population 1 January and population changes du...</td>\n",
       "      <td>06913 folkendrkv inhabitants births deaths pop...</td>\n",
       "    </tr>\n",
       "  </tbody>\n",
       "</table>\n",
       "</div>"
      ],
      "text/plain": [
       "                                                   Title  \\\n",
       "ID                                                         \n",
       "1102        Population changes. Counties, latest quarter   \n",
       "1104    Population change. Whole country, latest quarter   \n",
       "1106   Population changes. Municipalities, latest 9 q...   \n",
       "1108   Population changes. Municipalities, latest qua...   \n",
       "49577  Population 1 January and population changes du...   \n",
       "49623  Population 1 January and population changes du...   \n",
       "49626  Population 1 January and population changes du...   \n",
       "\n",
       "                                                    Tags  \n",
       "ID                                                        \n",
       "1102   01222 births deaths emigration folkendrkv immi...  \n",
       "1104   01222 births deaths emigration folkendrkv immi...  \n",
       "1106   01222 births deaths emigration folkendrkv immi...  \n",
       "1108   01222 births deaths emigration folkendrkv immi...  \n",
       "49577  06913 folkemengde inhabitants municipalities p...  \n",
       "49623  06913 counties folkendrkv inhabitans births de...  \n",
       "49626  06913 folkendrkv inhabitants births deaths pop...  "
      ]
     },
     "execution_count": 27,
     "metadata": {},
     "output_type": "execute_result"
    }
   ],
   "source": [
    "search_premade('birth')"
   ]
  },
  {
   "cell_type": "markdown",
   "metadata": {},
   "source": [
    "### Read premade tables from Statistics Norway"
   ]
  },
  {
   "cell_type": "code",
   "execution_count": 28,
   "metadata": {
    "collapsed": true
   },
   "outputs": [],
   "source": [
    "def read_premade(premade_id = None, \n",
    "            language = 'en', \n",
    "            base_url = 'http://data.ssb.no/api/v0/dataset', \n",
    "            full_url = None, \n",
    "            table_format = 'json'):\n",
    "    \"\"\"\n",
    "    Returns a pandas dataframe of the premade table indicated by the premade \n",
    "    table_id or the full_url.\n",
    "    \n",
    "    Note: The premade table id may be different from the normal table id.\n",
    "    \"\"\"\n",
    "    \n",
    "    if full_url is None:\n",
    "        full_url = '{base_url}/{premade_id}.{table_format}?lang={language}'.format(\n",
    "                base_url = base_url,\n",
    "                premade_id = str(premade_id), \n",
    "                language = language,\n",
    "                table_format = table_format)\n",
    "    #print(full_url)\n",
    "    \n",
    "    if table_format == 'json':\n",
    "        data = requests.get(full_url)\n",
    "        df = pyjstat.from_json_stat(data.json(object_pairs_hook=OrderedDict))\n",
    "        df = df[0]\n",
    "        \n",
    "    elif table_format == 'csv':\n",
    "        df = pd.read_csv(full_url)\n",
    "    else:\n",
    "        print(\"\"\"Table_format is incorrectly specified. \n",
    "              It must be 'json-stat' or 'csv'\"\"\")\n",
    "        df = None\n",
    "    return df"
   ]
  },
  {
   "cell_type": "code",
   "execution_count": 29,
   "metadata": {
    "collapsed": false,
    "run_control": {
     "frozen": false,
     "read_only": false
    },
    "scrolled": true
   },
   "outputs": [
    {
     "data": {
      "text/html": [
       "<div>\n",
       "<table border=\"1\" class=\"dataframe\">\n",
       "  <thead>\n",
       "    <tr style=\"text-align: right;\">\n",
       "      <th></th>\n",
       "      <th>sex</th>\n",
       "      <th>age</th>\n",
       "      <th>time</th>\n",
       "      <th>contents</th>\n",
       "      <th>value</th>\n",
       "    </tr>\n",
       "  </thead>\n",
       "  <tbody>\n",
       "    <tr>\n",
       "      <th>0</th>\n",
       "      <td>Both sexes</td>\n",
       "      <td>15-74 years</td>\n",
       "      <td>2015M04</td>\n",
       "      <td>Unemployment (LFS) (1 000 persons), seasonally...</td>\n",
       "      <td>117</td>\n",
       "    </tr>\n",
       "    <tr>\n",
       "      <th>1</th>\n",
       "      <td>Both sexes</td>\n",
       "      <td>15-74 years</td>\n",
       "      <td>2015M04</td>\n",
       "      <td>Unemployment rate (LFS), seasonally adjusted</td>\n",
       "      <td>4.2</td>\n",
       "    </tr>\n",
       "    <tr>\n",
       "      <th>2</th>\n",
       "      <td>Both sexes</td>\n",
       "      <td>15-74 years</td>\n",
       "      <td>2015M05</td>\n",
       "      <td>Unemployment (LFS) (1 000 persons), seasonally...</td>\n",
       "      <td>118</td>\n",
       "    </tr>\n",
       "    <tr>\n",
       "      <th>3</th>\n",
       "      <td>Both sexes</td>\n",
       "      <td>15-74 years</td>\n",
       "      <td>2015M05</td>\n",
       "      <td>Unemployment rate (LFS), seasonally adjusted</td>\n",
       "      <td>4.3</td>\n",
       "    </tr>\n",
       "    <tr>\n",
       "      <th>4</th>\n",
       "      <td>Both sexes</td>\n",
       "      <td>15-74 years</td>\n",
       "      <td>2015M06</td>\n",
       "      <td>Unemployment (LFS) (1 000 persons), seasonally...</td>\n",
       "      <td>123</td>\n",
       "    </tr>\n",
       "  </tbody>\n",
       "</table>\n",
       "</div>"
      ],
      "text/plain": [
       "          sex          age     time  \\\n",
       "0  Both sexes  15-74 years  2015M04   \n",
       "1  Both sexes  15-74 years  2015M04   \n",
       "2  Both sexes  15-74 years  2015M05   \n",
       "3  Both sexes  15-74 years  2015M05   \n",
       "4  Both sexes  15-74 years  2015M06   \n",
       "\n",
       "                                            contents value  \n",
       "0  Unemployment (LFS) (1 000 persons), seasonally...   117  \n",
       "1       Unemployment rate (LFS), seasonally adjusted   4.2  \n",
       "2  Unemployment (LFS) (1 000 persons), seasonally...   118  \n",
       "3       Unemployment rate (LFS), seasonally adjusted   4.3  \n",
       "4  Unemployment (LFS) (1 000 persons), seasonally...   123  "
      ]
     },
     "execution_count": 29,
     "metadata": {},
     "output_type": "execute_result"
    }
   ],
   "source": [
    "births = read_premade('1052')\n",
    "births.head()"
   ]
  },
  {
   "cell_type": "markdown",
   "metadata": {},
   "source": [
    "## Functions to read everything (no selection)"
   ]
  },
  {
   "cell_type": "markdown",
   "metadata": {},
   "source": [
    "Avoids the need to specify the json-stat query by automatically generating a query that downloads all variables and valules. Warning: Use with care, the table may be very large."
   ]
  },
  {
   "cell_type": "code",
   "execution_count": 30,
   "metadata": {
    "collapsed": false,
    "run_control": {
     "frozen": false,
     "read_only": false
    }
   },
   "outputs": [],
   "source": [
    "def full_json(table_id = None, \n",
    "              out = 'dict', \n",
    "              language = 'en', \n",
    "              full_url = None):\n",
    "    \"\"\"\n",
    "    Returns the json query for getting all the values for all options for a table.\n",
    "    Useful if\n",
    "        - you do not want to use the widgets/notebook to build the query\n",
    "        - but want a starting point to revise and specify a the query instead of building it from the ground.\n",
    "    \n",
    "    Note\n",
    "        - The json is a dictionary. You may want to edit the content of the dictionary directly,\n",
    "        or make it a string, edit it as a string, and retransform it to a dictionary.\n",
    "        \n",
    "        To transform a string to a dict, use the function:\n",
    "        \n",
    "            query = to_dict(json_str)\n",
    "        \n",
    "    Example\n",
    "    -------\n",
    "    \n",
    "    query = full_json(table_id = '10714', out = 'string')\n",
    "    \n",
    "    \"\"\"\n",
    "    \n",
    "    variables = get_variables(table_id, language = language, full_url = full_url)\n",
    "    nvars = len(variables)\n",
    "    var_list = list(range(nvars))\n",
    "    \n",
    "    query_element = {}\n",
    "    \n",
    "    for x in var_list:\n",
    "        query_element[x] ='{{\"code\": \"{code}\", \"selection\": {{\"filter\": \"item\", \"values\": {values} }}}}'.format(\n",
    "                code = variables[x]['code'], \n",
    "                values = variables[x]['values']) \n",
    "        query_element[x] = query_element[x].replace(\"\\'\", '\"')\n",
    "    all_elements = str(list(query_element.values()))\n",
    "    all_elements = all_elements.replace(\"\\'\", \"\")\n",
    "    \n",
    "    query = '{{\"query\": {all_elements} , \"response\": {{\"format\": \"json-stat\" }}}}'.format(all_elements = all_elements)\n",
    "    \n",
    "    if out == 'dict':\n",
    "        query = ast.literal_eval(query)\n",
    "    \n",
    "    return query\n"
   ]
  },
  {
   "cell_type": "code",
   "execution_count": 31,
   "metadata": {
    "collapsed": false,
    "run_control": {
     "frozen": false,
     "read_only": false
    }
   },
   "outputs": [
    {
     "data": {
      "text/plain": [
       "'{\"query\": [{\"code\": \"Region\", \"selection\": {\"filter\": \"item\", \"values\": [\"0\", \"01\", \"02-03\", \"04\", \"05\", \"06\", \"07\", \"08\", \"09\", \"10\", \"11\", \"12\", \"14\", \"15\", \"16\", \"17\", \"18\", \"19\", \"20\", \"L1-3nyn\", \"L4\", \"L5\", \"L6\", \"L7\"] }}, {\"code\": \"ContentsCode\", \"selection\": {\"filter\": \"item\", \"values\": [\"KufjolsIAlt\", \"Basfjos\", \"Lausfjos\", \"KuplassBas\", \"KuplassLaus\", \"Mjolkerobotar\"] }}, {\"code\": \"Tid\", \"selection\": {\"filter\": \"item\", \"values\": [\"1999\", \"2013\"] }}] , \"response\": {\"format\": \"json-stat\" }}'"
      ]
     },
     "execution_count": 31,
     "metadata": {},
     "output_type": "execute_result"
    }
   ],
   "source": [
    "query_str = full_json(table_id = '10714', out = 'str')\n",
    "query_str"
   ]
  },
  {
   "cell_type": "code",
   "execution_count": 36,
   "metadata": {
    "collapsed": false,
    "run_control": {
     "frozen": false,
     "read_only": false
    }
   },
   "outputs": [
    {
     "data": {
      "text/html": [
       "<div>\n",
       "<table border=\"1\" class=\"dataframe\">\n",
       "  <thead>\n",
       "    <tr style=\"text-align: right;\">\n",
       "      <th></th>\n",
       "      <th>region</th>\n",
       "      <th>contents</th>\n",
       "      <th>year</th>\n",
       "      <th>value</th>\n",
       "    </tr>\n",
       "  </thead>\n",
       "  <tbody>\n",
       "    <tr>\n",
       "      <th>0</th>\n",
       "      <td>The whole country</td>\n",
       "      <td>Holdings with housing cows, total</td>\n",
       "      <td>1999</td>\n",
       "      <td>27461</td>\n",
       "    </tr>\n",
       "    <tr>\n",
       "      <th>1</th>\n",
       "      <td>The whole country</td>\n",
       "      <td>Holdings with housing cows, total</td>\n",
       "      <td>2013</td>\n",
       "      <td>9400</td>\n",
       "    </tr>\n",
       "    <tr>\n",
       "      <th>2</th>\n",
       "      <td>The whole country</td>\n",
       "      <td>Holdings with cow places in stanchion-tied houses</td>\n",
       "      <td>1999</td>\n",
       "      <td>25872</td>\n",
       "    </tr>\n",
       "    <tr>\n",
       "      <th>3</th>\n",
       "      <td>The whole country</td>\n",
       "      <td>Holdings with cow places in stanchion-tied houses</td>\n",
       "      <td>2013</td>\n",
       "      <td>7100</td>\n",
       "    </tr>\n",
       "    <tr>\n",
       "      <th>4</th>\n",
       "      <td>The whole country</td>\n",
       "      <td>Holdings with cows places in loose housing</td>\n",
       "      <td>1999</td>\n",
       "      <td>1856</td>\n",
       "    </tr>\n",
       "  </tbody>\n",
       "</table>\n",
       "</div>"
      ],
      "text/plain": [
       "              region                                           contents  year  \\\n",
       "0  The whole country                  Holdings with housing cows, total  1999   \n",
       "1  The whole country                  Holdings with housing cows, total  2013   \n",
       "2  The whole country  Holdings with cow places in stanchion-tied houses  1999   \n",
       "3  The whole country  Holdings with cow places in stanchion-tied houses  2013   \n",
       "4  The whole country         Holdings with cows places in loose housing  1999   \n",
       "\n",
       "   value  \n",
       "0  27461  \n",
       "1   9400  \n",
       "2  25872  \n",
       "3   7100  \n",
       "4   1856  "
      ]
     },
     "execution_count": 36,
     "metadata": {},
     "output_type": "execute_result"
    }
   ],
   "source": [
    "query_dict = full_json(table_id = '10714', out = 'dict')\n",
    "cows = read_with_json(table_id = '10714', query = query_dict)\n",
    "cows.head()"
   ]
  },
  {
   "cell_type": "code",
   "execution_count": 37,
   "metadata": {
    "collapsed": true,
    "run_control": {
     "frozen": false,
     "read_only": false
    }
   },
   "outputs": [],
   "source": [
    "def read_all(table_id = None, \n",
    "             language = 'en',\n",
    "             base_url = http://data.ssb.no/api/v0, \n",
    "             full_url = None):\n",
    "    \"\"\"\n",
    "    Returns a pandas dataframe with all values for all options \n",
    "    for the table specified by table_id\n",
    "    \n",
    "    Warning: The table may be large\n",
    "    \n",
    "    Useful if \n",
    "        - you know exactly what you are looking for and\n",
    "        - you do not want to use the notebook/widgets/box to specify the json query)\n",
    "    \n",
    "    Example\n",
    "    \n",
    "    df = read_all(table_id = '10714')\n",
    "    \n",
    "    \"\"\"\n",
    "    \n",
    "     \n",
    "    if full_url is None:        \n",
    "        full_url = '{base_url}/{language}/table/{table_id}'.format(\n",
    "            base_url = base_url,\n",
    "            language = language, \n",
    "            table_id = table_id)\n",
    "        \n",
    "    query = full_json(full_url = full_url)\n",
    "    data = requests.post(full_url, json = query)\n",
    "    results = pyjstat.from_json_stat(data.json(object_pairs_hook=OrderedDict))\n",
    "    \n",
    "    # maybe this need not be its own function, \n",
    "    # but an option in read_json? json = 'all'\n",
    "    \n",
    "    # other functions(options include: read_recent to get only the \n",
    "    # most recent values (defined as x), json = 'recent')\n",
    "    \n",
    "    return results[0]"
   ]
  },
  {
   "cell_type": "code",
   "execution_count": 38,
   "metadata": {
    "collapsed": false,
    "run_control": {
     "frozen": false,
     "read_only": false
    }
   },
   "outputs": [
    {
     "data": {
      "text/html": [
       "<div>\n",
       "<table border=\"1\" class=\"dataframe\">\n",
       "  <thead>\n",
       "    <tr style=\"text-align: right;\">\n",
       "      <th></th>\n",
       "      <th>region</th>\n",
       "      <th>contents</th>\n",
       "      <th>year</th>\n",
       "      <th>value</th>\n",
       "    </tr>\n",
       "  </thead>\n",
       "  <tbody>\n",
       "    <tr>\n",
       "      <th>0</th>\n",
       "      <td>The whole country</td>\n",
       "      <td>Holdings with housing cows, total</td>\n",
       "      <td>1999</td>\n",
       "      <td>27461</td>\n",
       "    </tr>\n",
       "    <tr>\n",
       "      <th>1</th>\n",
       "      <td>The whole country</td>\n",
       "      <td>Holdings with housing cows, total</td>\n",
       "      <td>2013</td>\n",
       "      <td>9400</td>\n",
       "    </tr>\n",
       "    <tr>\n",
       "      <th>2</th>\n",
       "      <td>The whole country</td>\n",
       "      <td>Holdings with cow places in stanchion-tied houses</td>\n",
       "      <td>1999</td>\n",
       "      <td>25872</td>\n",
       "    </tr>\n",
       "    <tr>\n",
       "      <th>3</th>\n",
       "      <td>The whole country</td>\n",
       "      <td>Holdings with cow places in stanchion-tied houses</td>\n",
       "      <td>2013</td>\n",
       "      <td>7100</td>\n",
       "    </tr>\n",
       "    <tr>\n",
       "      <th>4</th>\n",
       "      <td>The whole country</td>\n",
       "      <td>Holdings with cows places in loose housing</td>\n",
       "      <td>1999</td>\n",
       "      <td>1856</td>\n",
       "    </tr>\n",
       "  </tbody>\n",
       "</table>\n",
       "</div>"
      ],
      "text/plain": [
       "              region                                           contents  year  \\\n",
       "0  The whole country                  Holdings with housing cows, total  1999   \n",
       "1  The whole country                  Holdings with housing cows, total  2013   \n",
       "2  The whole country  Holdings with cow places in stanchion-tied houses  1999   \n",
       "3  The whole country  Holdings with cow places in stanchion-tied houses  2013   \n",
       "4  The whole country         Holdings with cows places in loose housing  1999   \n",
       "\n",
       "   value  \n",
       "0  27461  \n",
       "1   9400  \n",
       "2  25872  \n",
       "3   7100  \n",
       "4   1856  "
      ]
     },
     "execution_count": 38,
     "metadata": {},
     "output_type": "execute_result"
    }
   ],
   "source": [
    "dfall = read_all(table_id = '10714')\n",
    "dfall.head()"
   ]
  },
  {
   "cell_type": "markdown",
   "metadata": {
    "collapsed": true,
    "run_control": {
     "frozen": false,
     "read_only": false
    }
   },
   "source": [
    "### Suggested future extensions"
   ]
  },
  {
   "cell_type": "markdown",
   "metadata": {},
   "source": [
    "- Allow multiple tables to be downloaded and automatically merged\n"
   ]
  },
  {
   "cell_type": "markdown",
   "metadata": {},
   "source": [
    "### Acknowledgements"
   ]
  },
  {
   "cell_type": "markdown",
   "metadata": {},
   "source": [
    "This package relies on the work of the authors of pyjstat and json-stat"
   ]
  },
  {
   "cell_type": "code",
   "execution_count": null,
   "metadata": {
    "collapsed": true
   },
   "outputs": [],
   "source": []
  }
 ],
 "metadata": {
  "_draft": {
   "nbviewer_url": "https://gist.github.com/1c77cb657a3c95cc0d7f406186b52f37"
  },
  "gist": {
   "data": {
    "description": "Download tables from Statistics Norway to pandas dataframes",
    "public": true
   },
   "id": "1c77cb657a3c95cc0d7f406186b52f37"
  },
  "hide_input": false,
  "kernelspec": {
   "display_name": "Python 3",
   "language": "python",
   "name": "python3"
  },
  "language_info": {
   "codemirror_mode": {
    "name": "ipython",
    "version": 3
   },
   "file_extension": ".py",
   "mimetype": "text/x-python",
   "name": "python",
   "nbconvert_exporter": "python",
   "pygments_lexer": "ipython3",
   "version": "3.5.1"
  },
  "toc": {
   "toc_cell": false,
   "toc_number_sections": false,
   "toc_section_display": "none",
   "toc_threshold": 6,
   "toc_window_display": false
  },
  "toc_position": {
   "height": "174px",
   "left": "710.646px",
   "right": "20px",
   "top": "120px",
   "width": "497px"
  },
  "widgets": {
   "state": {
    "0209068cbd9f49b99144faa27c0e661f": {
     "views": []
    },
    "02193a9e88a3408093724f5b3a7da8dc": {
     "views": []
    },
    "021f6f4e33454a45a6a6ae1436148b63": {
     "views": []
    },
    "06b59b3b73024b04af1ca5e928fe47b6": {
     "views": []
    },
    "0ae8a9058fc74c7b8252b33afacef493": {
     "views": []
    },
    "0b3b9ac7269d49c5bc7fa59540fa03d6": {
     "views": []
    },
    "107ccdce208a415bb974cf3332dc03e4": {
     "views": []
    },
    "176007c4de6948d98771559722c9214a": {
     "views": []
    },
    "21cdc2a2c2cd438895ef6c9824d0bb75": {
     "views": []
    },
    "22db47b9539f44e087a4d8f77b401c0e": {
     "views": []
    },
    "3ffef9af0cfc44788e0d4caaf34b2a69": {
     "views": []
    },
    "44f27495615a4eb88c1d914a732637d3": {
     "views": []
    },
    "475bdaf820fc46168ae91ecf25f4b3ac": {
     "views": []
    },
    "4ebb94989e7746e9acdb7e8b51eb80c4": {
     "views": []
    },
    "61c739a4a3154d378aa508f4d509c727": {
     "views": []
    },
    "67624632b470481bb331c2bfc89ce16d": {
     "views": []
    },
    "73539bc6d1fa4b1f9e55c843b3966bcd": {
     "views": [
      {
       "cell_index": 32
      }
     ]
    },
    "7fcbac43bc054f5cb7b1e91a040cb890": {
     "views": []
    },
    "865fa40b2bf84e99a7cc46070a3c0719": {
     "views": []
    },
    "889a2530d0ec4939af3a7f525c2b2f86": {
     "views": []
    },
    "8e4a7ca7427f4650ae994a545f03ec54": {
     "views": []
    },
    "90b158a1bc9949caa04440910d05db76": {
     "views": []
    },
    "99fb5df02d2c4b8698a78f868bf98ee0": {
     "views": []
    },
    "9e5e8316bd874b29b8efdbef2eb2f1f8": {
     "views": []
    },
    "a16b3754b185427e9606ccd2df1cd595": {
     "views": []
    },
    "a3c4b08103d04df09a761c5cf695d3fd": {
     "views": []
    },
    "add89ef198474fd498250af15dd9e6d7": {
     "views": []
    },
    "ae606ff453ac4819b22f418de13bda7f": {
     "views": []
    },
    "b07d30506e3c4b6ca4bb9d6acd5ad8cc": {
     "views": []
    },
    "b4ceebb4ce8949e889fd49ee3c2f48db": {
     "views": []
    },
    "b90506d2a3144c9ab5d5056a4cb77d18": {
     "views": []
    },
    "bcc2514d8f724b57a587aa1158aa0273": {
     "views": []
    },
    "c64a677979cf4f0eab2d5fb635a976a1": {
     "views": []
    },
    "c8b6c04be358412cb62db92662e48db2": {
     "views": [
      {
       "cell_index": 30
      }
     ]
    },
    "d49439f7780f4c9fbf5335e6791754e7": {
     "views": []
    },
    "ea27788c18264d3eb0d99eb546e35349": {
     "views": []
    },
    "eb23cab1fe104b40963279c1d997d79e": {
     "views": []
    },
    "ee986b170f034b30b03b8de79a3d2c63": {
     "views": []
    }
   },
   "version": "1.1.1"
  }
 },
 "nbformat": 4,
 "nbformat_minor": 0
}
