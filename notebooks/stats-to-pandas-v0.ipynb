{
 "cells": [
  {
   "cell_type": "markdown",
   "metadata": {},
   "source": [
    "# stats-to-pandas"
   ]
  },
  {
   "cell_type": "markdown",
   "metadata": {
    "run_control": {
     "frozen": false,
     "read_only": false
    }
   },
   "source": [
    "#### Import data from Statistics Norway, Sweden, Ireland and the UK to a Pandas dataframe in Python"
   ]
  },
  {
   "cell_type": "markdown",
   "metadata": {},
   "source": [
    "A tool to make it easier to download data to a pandas dataframe from Statistics Norway (and other agencies) that use json-stat. "
   ]
  },
  {
   "cell_type": "markdown",
   "metadata": {},
   "source": [
    "Hans Olav Melberg, 9. June, 2016"
   ]
  },
  {
   "cell_type": "markdown",
   "metadata": {},
   "source": [
    "## Background"
   ]
  },
  {
   "cell_type": "markdown",
   "metadata": {},
   "source": [
    "Statistics Norway has made more than 5000 tables available with a new API. In order to download the data, the information the user wants from a table has to be specified as a query in the json-stat format. \n",
    "\n",
    "This query is quite verbose and may look complicated. In order to make it easier to write the query, this package provides a graphical user interface that allows the user to select different options. The query is then generated based on the selection. This relies on widgets in the Jupyter notebook. \n",
    "\n",
    "The package also provides options for downloading tables without using this interface, by allowing the user to specify the json themselves, manually edit a json string, or just downloading the full table (warning: it may be large). The tool contains various functions to make it easy to specify the json query to get the desired information.\n",
    "\n",
    "Since several  other statistical agencies also use the stat-json format, the package can be used to download tables from these as well. It works, for instance, with tables from Statistics Sweden. It can also be used to download data based on the full url of a table from other sources, for instance from from the UK ONS and The Central Statistics Office of Ireland."
   ]
  },
  {
   "cell_type": "markdown",
   "metadata": {},
   "source": [
    "## Installation"
   ]
  },
  {
   "cell_type": "code",
   "execution_count": null,
   "metadata": {
    "collapsed": true,
    "run_control": {
     "frozen": false,
     "read_only": false
    }
   },
   "outputs": [],
   "source": [
    "# (Will work after uploading to pypi, scheduled before 1. july, 2016)\n",
    "#\n",
    "# Requires: requests, pyjstat, jupyter, ipywidgets, IPython\n",
    "#\n",
    "#pip install stats-to-pandas\n",
    "#\n",
    "#import stats-to-pandas as stp"
   ]
  },
  {
   "cell_type": "markdown",
   "metadata": {},
   "source": [
    "## Overview"
   ]
  },
  {
   "cell_type": "markdown",
   "metadata": {},
   "source": [
    "####   1. Search for tables based on keywords"
   ]
  },
  {
   "cell_type": "code",
   "execution_count": null,
   "metadata": {
    "collapsed": false,
    "run_control": {
     "frozen": false,
     "read_only": false
    }
   },
   "outputs": [],
   "source": [
    "search('cows')"
   ]
  },
  {
   "cell_type": "markdown",
   "metadata": {},
   "source": [
    "#### 2. Select a table id from the dataframe and create a gui-box to select the variables to be included "
   ]
  },
  {
   "cell_type": "code",
   "execution_count": null,
   "metadata": {
    "collapsed": true,
    "run_control": {
     "frozen": false,
     "read_only": false
    }
   },
   "outputs": [],
   "source": [
    "box = select(table_id = '10714')"
   ]
  },
  {
   "cell_type": "markdown",
   "metadata": {},
   "source": [
    "#### 3. Read the variable selection from the gui-box and download the data from Statistics Norway"
   ]
  },
  {
   "cell_type": "code",
   "execution_count": null,
   "metadata": {
    "collapsed": true,
    "run_control": {
     "frozen": false,
     "read_only": false
    }
   },
   "outputs": [],
   "source": [
    "df = read_box(box)"
   ]
  },
  {
   "cell_type": "markdown",
   "metadata": {},
   "source": [
    "#### 4. More"
   ]
  },
  {
   "cell_type": "code",
   "execution_count": null,
   "metadata": {
    "collapsed": true,
    "run_control": {
     "frozen": false,
     "read_only": false
    }
   },
   "outputs": [],
   "source": [
    "# Read all values for all variables for table with id 10714\n",
    "# (Avoid having to select variables, step 2 above, but may result in large tables)\n",
    "df = read_all(table_id = '10714')\n",
    "\n",
    "# Get the json string for a full query of table number 10714\n",
    "query = full_json(table_id = '10714', out = 'str')\n",
    "\n",
    "# Get the json dict for a full query of table number 10714\n",
    "query = full_json(table_id = '10714', out = 'dict')\n",
    "\n",
    "# Get the json dict associated with the current selection from a widget box\n",
    "query = get_json(box)\n",
    "\n",
    "# Read data from Statistics Ireland\n",
    "irl_url = 'http://www.cso.ie/StatbankServices/StatbankServices.svc/jsonservice/responseinstance/CNA31' \n",
    "df = read_url(full_url = irl_ulr)"
   ]
  },
  {
   "cell_type": "markdown",
   "metadata": {},
   "source": [
    "## Required modules"
   ]
  },
  {
   "cell_type": "code",
   "execution_count": 1,
   "metadata": {
    "collapsed": true,
    "run_control": {
     "frozen": false,
     "read_only": false
    }
   },
   "outputs": [],
   "source": [
    "# The following has to be installed: \n",
    "#    pandas, requests, pyjstat, ipywidgets, jupyter, IPython\n",
    "#\n",
    "# The last two (jupyter and ipywidgets) are required to create a gui \n",
    "# that makes it easier to build a query. They are not needed to download \n",
    "# data if you give the full_url or specify the json query yourself.\n",
    "\n",
    "import pandas as pd\n",
    "import requests\n",
    "import ast\n",
    "from pyjstat import pyjstat\n",
    "from collections import OrderedDict\n",
    "from ipywidgets import widgets\n",
    "from IPython.display import display\n",
    "\n",
    "# todo: consider using jsonstat instead of pyjstat"
   ]
  },
  {
   "cell_type": "code",
   "execution_count": 2,
   "metadata": {
    "collapsed": false,
    "run_control": {
     "frozen": false,
     "read_only": false
    }
   },
   "outputs": [],
   "source": [
    "from __future__ import print_function"
   ]
  },
  {
   "cell_type": "markdown",
   "metadata": {},
   "source": [
    "## Defaults"
   ]
  },
  {
   "cell_type": "code",
   "execution_count": 3,
   "metadata": {
    "collapsed": false,
    "run_control": {
     "frozen": false,
     "read_only": false
    }
   },
   "outputs": [],
   "source": [
    "# This is mainly to make the script flexible for future changes\n",
    "# Makes it easier to use the same script for sources other than Statistics Norway\n",
    "# The user can set a different source to be the default\n",
    "# (note to self: is the extra complexity worth it? \n",
    "# more complex since functions now require defaults to be used easily)\n",
    "\n",
    "Statistics_Norway = {'base_url' : ['http://data.ssb.no/api/v0'], \n",
    "                     'language' : ['en', 'no'], \n",
    "                     'api_key' : [None]}\n",
    "\n",
    "# Add more sources here Statistics_Sweden = {...} etc\n",
    "\n",
    "# set a default\n",
    "default = Statistics_Norway\n",
    "\n",
    "# make a list of the different sources\n",
    "sources = ['Statistics_Norway']"
   ]
  },
  {
   "cell_type": "markdown",
   "metadata": {},
   "source": [
    "## Search for tables"
   ]
  },
  {
   "cell_type": "code",
   "execution_count": 6,
   "metadata": {
    "code_folding": [],
    "collapsed": false,
    "run_control": {
     "frozen": false,
     "read_only": false
    }
   },
   "outputs": [],
   "source": [
    "# to search for tables in statistics norway\n",
    "\n",
    "def search(phrase, \n",
    "           language = 'en', \n",
    "           base_url = http://data.ssb.no/api/v0):\n",
    "    \"\"\"\n",
    "        Search for tables that contain the phrase in Statistics Norway.\n",
    "        Returns a pandas dataframe with the results.\n",
    "            \n",
    "        Example\n",
    "        -------\n",
    "        \n",
    "            df = search(\"income\")\n",
    "        \n",
    "        \n",
    "        Parameters\n",
    "        ----------\n",
    "        \n",
    "        phrase: string\n",
    "            The phrase can contain several words (space separated): \n",
    "                search(\"export Norwegian parrot\")\n",
    "            \n",
    "            It also supports trucation: \n",
    "                search(\"pharma*\")\n",
    "                \n",
    "            Not case sensitive.\n",
    "            Language sensitive (specified in the language option)\n",
    "            \n",
    "        language: string \n",
    "            default in Statistics Norway: 'en' (Search for English words) \n",
    "            optional in Statistics Norway: 'no' (Search for Norwegian words)\n",
    "                   \n",
    "        url: string\n",
    "            default in Statistics Norway: 'http://data.ssb.no/api/v0'\n",
    "            different defaults can be specified\n",
    "       \n",
    "        \"\"\"\n",
    "    \n",
    "    # todo: make converter part of the default specification only for statistics norway\n",
    "    convert = {'æ' : '%C3%A6', 'Æ' : '%C3%86', 'ø' : '%C3%B8', 'Ø' : '%C3%98', \n",
    "             'å' : '%C3%A5', 'Å' : '%C3%85',\n",
    "             '\"' : '%22', '(' : '%28', ')' : '%29', ' ' : '%20'}\n",
    "\n",
    "    search_str = '{base_url}/{language}/table/?query={phrase}'.format(\n",
    "        base_url = base_url, \n",
    "        language = language, \n",
    "        phrase = phrase)\n",
    "    \n",
    "    for k, v in convert.items():\n",
    "        search_str = search_str.replace(k, v)\n",
    "    \n",
    "    #print(search_str)    \n",
    "    \n",
    "    df = pd.read_json(search_str)\n",
    "    \n",
    "    if len(df) == 0:\n",
    "        print(\"No match\")\n",
    "        return df\n",
    "    \n",
    "    # make the dataframe more readable\n",
    "    # (is it worth it? increases vulnerability. formats may differ and change)\n",
    "    # todo: make search and format conditional on the database being searched    \n",
    "       \n",
    "    # split the table name into table id and table text\n",
    "  \n",
    "    df['table_id'] = df['title'].str.split(':').str.get(0)\n",
    "    df['table_title'] = df['title'].str.split(':').str.get(1)\n",
    "    del df['title']\n",
    "    \n",
    "    # make table_id the index, visually more intuitive with id as first column\n",
    "    df = df.set_index('table_id')\n",
    "    \n",
    "    # change order of columns to make it more intuitive (table_title is first) \n",
    "    cols = df.columns.tolist()\n",
    "    cols.sort(reverse = True)\n",
    "    df = df[cols[:-2]]\n",
    "\n",
    "    return df"
   ]
  },
  {
   "cell_type": "markdown",
   "metadata": {},
   "source": [
    "#### Search for table with the text cow and put the result in a dataframe called tables"
   ]
  },
  {
   "cell_type": "code",
   "execution_count": 7,
   "metadata": {
    "collapsed": false,
    "run_control": {
     "frozen": false,
     "read_only": false
    }
   },
   "outputs": [
    {
     "data": {
      "text/html": [
       "<div>\n",
       "<table border=\"1\" class=\"dataframe\">\n",
       "  <thead>\n",
       "    <tr style=\"text-align: right;\">\n",
       "      <th></th>\n",
       "      <th>table_title</th>\n",
       "      <th>score</th>\n",
       "      <th>published</th>\n",
       "    </tr>\n",
       "    <tr>\n",
       "      <th>table_id</th>\n",
       "      <th></th>\n",
       "      <th></th>\n",
       "      <th></th>\n",
       "    </tr>\n",
       "  </thead>\n",
       "  <tbody>\n",
       "    <tr>\n",
       "      <th>03789</th>\n",
       "      <td>Dairy cows per 1 January, by size of herd 199...</td>\n",
       "      <td>1.102974</td>\n",
       "      <td>2016-04-08T10:00:00</td>\n",
       "    </tr>\n",
       "    <tr>\n",
       "      <th>03802</th>\n",
       "      <td>Beef cows per 1 January, by size of herd 1998...</td>\n",
       "      <td>1.047124</td>\n",
       "      <td>2016-04-08T10:00:00</td>\n",
       "    </tr>\n",
       "    <tr>\n",
       "      <th>05593</th>\n",
       "      <td>Cows per 1 January, by size of herd 1998 - 2016</td>\n",
       "      <td>1.047124</td>\n",
       "      <td>2016-04-08T10:00:00</td>\n",
       "    </tr>\n",
       "    <tr>\n",
       "      <th>10714</th>\n",
       "      <td>Holdings housing cows, cattle places for cows...</td>\n",
       "      <td>0.914131</td>\n",
       "      <td>2014-12-17T10:00:00</td>\n",
       "    </tr>\n",
       "    <tr>\n",
       "      <th>04426</th>\n",
       "      <td>Number of domestic animals per 31 July 1995 -...</td>\n",
       "      <td>0.515449</td>\n",
       "      <td>2012-11-26T10:00:00</td>\n",
       "    </tr>\n",
       "  </tbody>\n",
       "</table>\n",
       "</div>"
      ],
      "text/plain": [
       "                                                table_title     score  \\\n",
       "table_id                                                                \n",
       "03789      Dairy cows per 1 January, by size of herd 199...  1.102974   \n",
       "03802      Beef cows per 1 January, by size of herd 1998...  1.047124   \n",
       "05593       Cows per 1 January, by size of herd 1998 - 2016  1.047124   \n",
       "10714      Holdings housing cows, cattle places for cows...  0.914131   \n",
       "04426      Number of domestic animals per 31 July 1995 -...  0.515449   \n",
       "\n",
       "                    published  \n",
       "table_id                       \n",
       "03789     2016-04-08T10:00:00  \n",
       "03802     2016-04-08T10:00:00  \n",
       "05593     2016-04-08T10:00:00  \n",
       "10714     2014-12-17T10:00:00  \n",
       "04426     2012-11-26T10:00:00  "
      ]
     },
     "execution_count": 7,
     "metadata": {},
     "output_type": "execute_result"
    }
   ],
   "source": [
    "tables = search(\"cows\")\n",
    "tables.head()"
   ]
  },
  {
   "cell_type": "markdown",
   "metadata": {},
   "source": [
    "## Get information about variables"
   ]
  },
  {
   "cell_type": "code",
   "execution_count": 8,
   "metadata": {
    "code_folding": [],
    "collapsed": false,
    "run_control": {
     "frozen": false,
     "read_only": false
    }
   },
   "outputs": [],
   "source": [
    "def get_variables(\n",
    "        table_id = None,\n",
    "        source = None, \n",
    "        language = 'en',\n",
    "        base_url = http://data.ssb.no/api/v0,\n",
    "        full_url = None):\n",
    "    \"\"\"\n",
    "        Returns a list. \n",
    "        \n",
    "        Each element of the list is a dictionary that provides more \n",
    "        information about a variable. \n",
    "        \n",
    "        For instance, one variable may contain information about the\n",
    "        different years that are available.\n",
    "        \n",
    "        \n",
    "        Parameters\n",
    "        ----------\n",
    "    \n",
    "            table_id: string\n",
    "                the unique table_id number, a string including leading zeros.\n",
    "                                \n",
    "            language: string\n",
    "                default 'en' (default, English) \n",
    "                optional: 'no' (Norwegian)\n",
    "            \n",
    "            base_url: string\n",
    "                base url locating the table (not including table identifier)\n",
    "            \n",
    "            full_url: string \n",
    "                The full url to the table.\n",
    "                If full_url is specified, other paramaters are ignored.\n",
    "                \n",
    "    \"\"\"\n",
    "    \n",
    "    if full_url is None:\n",
    "          full_url = '{base_url}/{language}/table/{table_id}'.format(\n",
    "            base_url = base_url, language = language, table_id = table_id)\n",
    "    \n",
    "    df = pd.read_json(full_url)\n",
    "    variables = [dict(values) for values in df.iloc[:,1]]\n",
    "    \n",
    "    return variables"
   ]
  },
  {
   "cell_type": "code",
   "execution_count": 39,
   "metadata": {
    "collapsed": false,
    "run_control": {
     "frozen": false,
     "read_only": false
    }
   },
   "outputs": [
    {
     "name": "stdout",
     "output_type": "stream",
     "text": [
      "[{'values': ['00', '01', '02', '03', '04', '05', '06'], 'elimination': True, 'code': 'BuskapStr', 'text': 'size of herd', 'valueTexts': ['Total', '1-4', '5-9', '10-14', '15-19', '20-29', '30-']}, {'values': ['Driftseiningar', 'Mjolkeku'], 'code': 'ContentsCode', 'text': 'contents', 'valueTexts': ['Holdings keeping dairy cows', 'Dairy cows']}, {'values': ['1998', '1999', '2000', '2002', '2003', '2004', '2005', '2006', '2007', '2008', '2009', '2010', '2011', '2012', '2013', '2014', '2015', '2016'], 'code': 'Tid', 'time': True, 'text': 'year', 'valueTexts': ['1998', '1999', '2000', '2002', '2003', '2004', '2005', '2006', '2007', '2008', '2009', '2010', '2011', '2012', '2013', '2014', '2015', '2016']}]\n"
     ]
    }
   ],
   "source": [
    "variables = get_variables(table_id = '03789')\n",
    "print(variables)"
   ]
  },
  {
   "cell_type": "code",
   "execution_count": 9,
   "metadata": {
    "code_folding": [],
    "collapsed": false,
    "run_control": {
     "frozen": false,
     "read_only": false
    }
   },
   "outputs": [],
   "source": [
    "def select(table_id = None, language = 'en', base_url = http://data.ssb.no/api/v0, full_url = None):\n",
    "    \"\"\"\n",
    "    Selects a table based on the table_id and returns a widget container \n",
    "    in which the user can select the set of variables and values to be \n",
    "    included in the final table.\n",
    "    \n",
    "    \n",
    "    Example\n",
    "    --------\n",
    "    box = select(table_id = '10714')\n",
    "    \n",
    "    \n",
    "    Parameters\n",
    "    ----------    \n",
    "    \n",
    "        table_id : string \n",
    "            the id of the desired table\n",
    "         \n",
    "        language: string\n",
    "            language for table\n",
    "            'en' (default, English) \n",
    "            'no' (Norwegian): \n",
    "            language for table\n",
    "        \n",
    "        base_url: string.\n",
    "            base url locating the table (not including table_id)\n",
    "        \n",
    "        full_url: string\n",
    "            the full url to the table\n",
    "    \"\"\"\n",
    "        \n",
    "    # get table_id not full url was specified \n",
    "    if full_url is None:\n",
    "        full_url = '{base_url}/{language}/table/{table_id}'.format(\n",
    "                    base_url = base_url, \n",
    "                    language = language, \n",
    "                    table_id = table_id)\n",
    "        \n",
    "    table_info = pd.read_json(full_url)\n",
    "    table_title = table_info.iloc[0,0]\n",
    "\n",
    "    # get a list with dictionaries containing information about each variable\n",
    "    variables = get_variables(table_id = table_id, \n",
    "                              language = language,\n",
    "                              base_url = base_url,\n",
    "                              full_url = full_url)\n",
    "    \n",
    "    # get number of variables (ok, childish approach, can be simplified!)\n",
    "    nvars = len(variables)\n",
    "    var_list = list(range(nvars))\n",
    "    \n",
    "    # a list of dictionaries of the values available for each variable\n",
    "    option_list = [OrderedDict(zip(variables[var]['valueTexts'], \n",
    "                                   variables[var]['values'])) \n",
    "                   for var in var_list]\n",
    "    \n",
    "    # create a selection widget for each variable\n",
    "    # todo: skip widget or make it invisible if there is only one option?\n",
    "    # todo: make first alternative a default selection initially for all tables?\n",
    "    # todo: add buttons for selecting \"all\", \"latest\" , \"first\" and \"none\"\n",
    "                         \n",
    "    selection_widgets = [widgets.widget_selection.SelectMultiple(\n",
    "                            options = option_list[var], \n",
    "                            height = 400, \n",
    "                            width = 500) \n",
    "                         for var in var_list]\n",
    "    \n",
    "    # put all the widgets in a container\n",
    "    variables_container = widgets.Tab(selection_widgets)\n",
    "\n",
    "    # label each container with the variable label \n",
    "    for var in var_list:\n",
    "        title = str(variables[var]['text'])\n",
    "        variables_container.set_title(var, title)\n",
    "    \n",
    "    # build widgets and put in one widget container\n",
    "    headline = widgets.Label(value = table_title, color = 'blue')\n",
    "    \n",
    "    endline = widgets.Label(value = '''Select category and click on elements \n",
    "        to be included in the table (CTRL-A selects \"all\")''')\n",
    "    \n",
    "    url_text = widgets.Label(value = full_url)\n",
    "    \n",
    "    selection_container = widgets.VBox([headline, \n",
    "                                        endline, \n",
    "                                        variables_container, \n",
    "                                        url_text])\n",
    "    \n",
    "    selection_container.layout.border = '3px grey solid'\n",
    "    # may include a \"click here when finished\" just to make it more intuitive?\n",
    "    return selection_container"
   ]
  },
  {
   "cell_type": "code",
   "execution_count": 10,
   "metadata": {
    "collapsed": false,
    "run_control": {
     "frozen": false,
     "read_only": false
    }
   },
   "outputs": [
    {
     "data": {
      "image/png": "[encoded data removed]",
      "text/html": [
       "<img src=data:image/png;base64,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 class=\"jupyter-widget\">\n",
       "<script type=\"application/vnd.jupyter-embedded-widgets\">[{\"border\":\"3px grey solid\",\"flex_flow\":\"column\",\"display\":\"flex\"},{},{\"layout\":\"IPY_MODEL_add89ef198474fd498250af15dd9e6d7\",\"value\":\"Holdings housing cows, cattle places and automatic milking system, by region, contents and year\",\"color\":\"blue\"},{},{\"layout\":\"IPY_MODEL_b4ceebb4ce8949e889fd49ee3c2f48db\",\"value\":\"Select category and click on elements \\n        to be included in the table (CTRL-A selects \\\"all\\\")\"},{},{},{\"layout\":\"IPY_MODEL_44f27495615a4eb88c1d914a732637d3\",\"value\":[\"The whole country\"],\"width\":\"500\",\"height\":\"400\",\"_options_labels\":[\"The whole country\",\"Østfold\",\"Akershus and Oslo\",\"Hedmark\",\"Oppland\",\"Buskerud\",\"Vestfold\",\"Telemark\",\"Aust-Agder\",\"Vest-Agder\",\"Rogaland\",\"Hordaland\",\"Sogn og Fjordane\",\"Møre og Romsdal\",\"Sør-Trøndelag\",\"Nord-Trøndelag\",\"Nordland\",\"Troms - Romsa\",\"Finnmark - Finnmárku\",\"Eastern Norway\",\"Agder and Rogaland\",\"Western Norway\",\"Trøndelag\",\"Northern Norway\"]},{},{\"layout\":\"IPY_MODEL_4ebb94989e7746e9acdb7e8b51eb80c4\",\"value\":[\"Holdings with housing cows, total\"],\"width\":\"500\",\"height\":\"400\",\"_options_labels\":[\"Holdings with housing cows, total\",\"Holdings with cow places in stanchion-tied houses\",\"Holdings with cows places in loose housing\",\"Cattle places in stanchion-tied houses\",\"Cattle places in loose housing\",\"Automatic milking system\"]},{},{\"layout\":\"IPY_MODEL_0ae8a9058fc74c7b8252b33afacef493\",\"value\":[\"1999\",\"2013\"],\"width\":\"500\",\"height\":\"400\",\"_options_labels\":[\"1999\",\"2013\"]},{\"layout\":\"IPY_MODEL_475bdaf820fc46168ae91ecf25f4b3ac\",\"selected_index\":1,\"_titles\":{\"0\":\"region\",\"1\":\"contents\",\"2\":\"year\"},\"children\":[\"IPY_MODEL_3ffef9af0cfc44788e0d4caaf34b2a69\",\"IPY_MODEL_021f6f4e33454a45a6a6ae1436148b63\",\"IPY_MODEL_eb23cab1fe104b40963279c1d997d79e\"]},{},{\"layout\":\"IPY_MODEL_a16b3754b185427e9606ccd2df1cd595\",\"value\":\"http://data.ssb.no/api/v0/en/table/10714\"},{\"layout\":\"IPY_MODEL_22db47b9539f44e087a4d8f77b401c0e\",\"children\":[\"IPY_MODEL_b07d30506e3c4b6ca4bb9d6acd5ad8cc\",\"IPY_MODEL_0b3b9ac7269d49c5bc7fa59540fa03d6\",\"IPY_MODEL_90b158a1bc9949caa04440910d05db76\",\"IPY_MODEL_99fb5df02d2c4b8698a78f868bf98ee0\"]}]</script>"
      ]
     },
     "metadata": {
      "isWidgetSnapshot": true
     },
     "output_type": "display_data"
    }
   ],
   "source": [
    "box = select(table_id = '10714')\n",
    "box"
   ]
  },
  {
   "cell_type": "markdown",
   "metadata": {},
   "source": [
    "### Sweden"
   ]
  },
  {
   "cell_type": "code",
   "execution_count": 11,
   "metadata": {
    "collapsed": false,
    "run_control": {
     "frozen": false,
     "read_only": false
    }
   },
   "outputs": [
    {
     "data": {
      "image/png": "[encoded data removed]",
      "text/html": [
       "<img src=data:image/png;base64,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 class=\"jupyter-widget\">\n",
       "<script type=\"application/vnd.jupyter-embedded-widgets\">[{\"border\":\"3px grey solid\",\"flex_flow\":\"column\",\"display\":\"flex\"},{},{\"layout\":\"IPY_MODEL_9e5e8316bd874b29b8efdbef2eb2f1f8\",\"value\":\"Population by region, marital status, age, sex, observations and year\",\"color\":\"blue\"},{},{\"layout\":\"IPY_MODEL_865fa40b2bf84e99a7cc46070a3c0719\",\"value\":\"Select category and click on elements \\n        to be included in the table (CTRL-A selects \\\"all\\\")\"},{},{},{\"layout\":\"IPY_MODEL_107ccdce208a415bb974cf3332dc03e4\",\"value\":[],\"width\":\"500\",\"height\":\"400\",\"_options_labels\":[\"Sweden\",\"Stockholm county\",\"Upplands Väsby\",\"Vallentuna\",\"Österåker\",\"Värmdö\",\"Järfälla\",\"Ekerö\",\"Huddinge\",\"Botkyrka\",\"Salem\",\"Haninge\",\"Tyresö\",\"Upplands-Bro\",\"Nykvarn\",\"Täby\",\"Danderyd\",\"Sollentuna\",\"Stockholm\",\"Södertälje\",\"Nacka\",\"Sundbyberg\",\"Solna\",\"Lidingö\",\"Vaxholm\",\"Norrtälje\",\"Sigtuna\",\"Nynäshamn\",\"Uppsala county\",\"Håbo\",\"Älvkarleby\",\"Knivsta\",\"Heby\",\"Tierp\",\"Uppsala\",\"Enköping\",\"Östhammar\",\"Södermanland county\",\"Vingåker\",\"Gnesta\",\"Nyköping\",\"Oxelösund\",\"Flen\",\"Katrineholm\",\"Eskilstuna\",\"Strängnäs\",\"Trosa\",\"Östergötland county\",\"Ödeshög\",\"Ydre\",\"Kinda\",\"Boxholm\",\"Åtvidaberg\",\"Finspång\",\"Valdemarsvik\",\"Linköping\",\"Norrköping\",\"Söderköping\",\"Motala\",\"Vadstena\",\"Mjölby\",\"Jönköping county\",\"Aneby\",\"Gnosjö\",\"Mullsjö\",\"Habo\",\"Gislaved\",\"Vaggeryd\",\"Jönköping\",\"Nässjö\",\"Värnamo\",\"Sävsjö\",\"Vetlanda\",\"Eksjö\",\"Tranås\",\"Kronoberg county\",\"Uppvidinge\",\"Lessebo\",\"Tingsryd\",\"Alvesta\",\"Älmhult\",\"Markaryd\",\"Växjö\",\"Ljungby\",\"Kalmar county\",\"Högsby\",\"Torsås\",\"Mörbylånga\",\"Hultsfred\",\"Mönsterås\",\"Emmaboda\",\"Kalmar\",\"Nybro\",\"Oskarshamn\",\"Västervik\",\"Vimmerby\",\"Borgholm\",\"Gotland county\",\"Gotland\",\"Blekinge county\",\"Olofström\",\"Karlskrona\",\"Ronneby\",\"Karlshamn\",\"Sölvesborg\",\"Skåne county\",\"Svalöv\",\"Staffanstorp\",\"Burlöv\",\"Vellinge\",\"Östra Göinge\",\"Örkelljunga\",\"Bjuv\",\"Kävlinge\",\"Lomma\",\"Svedala\",\"Skurup\",\"Sjöbo\",\"Hörby\",\"Höör\",\"Tomelilla\",\"Bromölla\",\"Osby\",\"Perstorp\",\"Klippan\",\"Åstorp\",\"Båstad\",\"Malmö\",\"Lund\",\"Landskrona\",\"Helsingborg\",\"Höganäs\",\"Eslöv\",\"Ystad\",\"Trelleborg\",\"Kristianstad\",\"Simrishamn\",\"Ängelholm\",\"Hässleholm\",\"Halland county\",\"Hylte\",\"Halmstad\",\"Laholm\",\"Falkenberg\",\"Varberg\",\"Kungsbacka\",\"Västra Götaland county\",\"Härryda\",\"Partille\",\"Öckerö\",\"Stenungsund\",\"Tjörn\",\"Orust\",\"Sotenäs\",\"Munkedal\",\"Tanum\",\"Dals-Ed\",\"Färgelanda\",\"Ale\",\"Lerum\",\"Vårgårda\",\"Bollebygd\",\"Grästorp\",\"Essunga\",\"Karlsborg\",\"Gullspång\",\"Tranemo\",\"Bengtsfors\",\"Mellerud\",\"Lilla Edet\",\"Mark\",\"Svenljunga\",\"Herrljunga\",\"Vara\",\"Götene\",\"Tibro\",\"Töreboda\",\"Göteborg\",\"Mölndal\",\"Kungälv\",\"Lysekil\",\"Uddevalla\",\"Strömstad\",\"Vänersborg\",\"Trollhättan\",\"Alingsås\",\"Borås\",\"Ulricehamn\",\"Åmål\",\"Mariestad\",\"Lidköping\",\"Skara\",\"Skövde\",\"Hjo\",\"Tidaholm\",\"Falköping\",\"Värmland county\",\"Kil\",\"Eda\",\"Torsby\",\"Storfors\",\"Hammarö\",\"Munkfors\",\"Forshaga\",\"Grums\",\"Årjäng\",\"Sunne\",\"Karlstad\",\"Kristinehamn\",\"Filipstad\",\"Hagfors\",\"Arvika\",\"Säffle\",\"Örebro county\",\"Lekeberg\",\"Laxå\",\"Hallsberg\",\"Degerfors\",\"Hällefors\",\"Ljusnarsberg\",\"Örebro\",\"Kumla\",\"Askersund\",\"Karlskoga\",\"Nora\",\"Lindesberg\",\"Västmanland county\",\"Skinnskatteberg\",\"Surahammar\",\"Kungsör\",\"Hallstahammar\",\"Norberg\",\"Västerås\",\"Sala\",\"Fagersta\",\"Köping\",\"Arboga\",\"Dalarna county\",\"Vansbro\",\"Malung-Sälen\",\"Gagnef\",\"Leksand\",\"Rättvik\",\"Orsa\",\"Älvdalen\",\"Smedjebacken\",\"Mora\",\"Falun\",\"Borlänge\",\"Säter\",\"Hedemora\",\"Avesta\",\"Ludvika\",\"Gävleborg county\",\"Ockelbo\",\"Hofors\",\"Ovanåker\",\"Nordanstig\",\"Ljusdal\",\"Gävle\",\"Sandviken\",\"Söderhamn\",\"Bollnäs\",\"Hudiksvall\",\"Västernorrland county\",\"Ånge\",\"Timrå\",\"Härnösand\",\"Sundsvall\",\"Kramfors\",\"Sollefteå\",\"Örnsköldsvik\",\"Jämtland county\",\"Ragunda\",\"Bräcke\",\"Krokom\",\"Strömsund\",\"Åre\",\"Berg\",\"Härjedalen\",\"Östersund\",\"Västerbotten county\",\"Nordmaling\",\"Bjurholm\",\"Vindeln\",\"Robertsfors\",\"Norsjö\",\"Malå\",\"Storuman\",\"Sorsele\",\"Dorotea\",\"Vännäs\",\"Vilhelmina\",\"Åsele\",\"Umeå\",\"Lycksele\",\"Skellefteå\",\"Norrbotten county\",\"Arvidsjaur\",\"Arjeplog\",\"Jokkmokk\",\"Överkalix\",\"Kalix\",\"Övertorneå\",\"Pajala\",\"Gällivare\",\"Älvsbyn\",\"Luleå\",\"Piteå\",\"Boden\",\"Haparanda\",\"Kiruna\"]},{},{\"layout\":\"IPY_MODEL_61c739a4a3154d378aa508f4d509c727\",\"value\":[],\"width\":\"500\",\"height\":\"400\",\"_options_labels\":[\"single\",\"married\",\"widowers/widows\",\"divorced\"]},{},{\"layout\":\"IPY_MODEL_06b59b3b73024b04af1ca5e928fe47b6\",\"value\":[],\"width\":\"500\",\"height\":\"400\",\"_options_labels\":[\"0 years\",\"1 year\",\"2 years\",\"3 years\",\"4 years\",\"5 years\",\"6 years\",\"7 years\",\"8 years\",\"9 years\",\"10 years\",\"11 years\",\"12 years\",\"13 years\",\"14 years\",\"15 years\",\"16 years\",\"17 years\",\"18 years\",\"19 years\",\"20 years\",\"21 years\",\"22 years\",\"23 years\",\"24 years\",\"25 years\",\"26 years\",\"27 years\",\"28 years\",\"29 years\",\"30 years\",\"31 years\",\"32 years\",\"33 years\",\"34 years\",\"35 years\",\"36 years\",\"37 years\",\"38 years\",\"39 years\",\"40 years\",\"41 years\",\"42 years\",\"43 years\",\"44 years\",\"45 years\",\"46 years\",\"47 years\",\"48 years\",\"49 years\",\"50 years\",\"51 years\",\"52 years\",\"53 years\",\"54 years\",\"55 years\",\"56 years\",\"57 years\",\"58 years\",\"59 years\",\"60 years\",\"61 years\",\"62 years\",\"63 years\",\"64 years\",\"65 years\",\"66 years\",\"67 years\",\"68 years\",\"69 years\",\"70 years\",\"71 years\",\"72 years\",\"73 years\",\"74 years\",\"75 years\",\"76 years\",\"77 years\",\"78 years\",\"79 years\",\"80 years\",\"81 years\",\"82 years\",\"83 years\",\"84 years\",\"85 years\",\"86 years\",\"87 years\",\"88 years\",\"89 years\",\"90 years\",\"91 years\",\"92 years\",\"93 years\",\"94 years\",\"95 years\",\"96 years\",\"97 years\",\"98 years\",\"99 years\",\"100+ years\",\"total\"]},{},{\"layout\":\"IPY_MODEL_ee986b170f034b30b03b8de79a3d2c63\",\"value\":[],\"width\":\"500\",\"height\":\"400\",\"_options_labels\":[\"men\",\"women\"]},{},{\"layout\":\"IPY_MODEL_0209068cbd9f49b99144faa27c0e661f\",\"value\":[],\"width\":\"500\",\"height\":\"400\",\"_options_labels\":[\"Population\",\"Population growth\"]},{},{\"layout\":\"IPY_MODEL_a3c4b08103d04df09a761c5cf695d3fd\",\"value\":[],\"width\":\"500\",\"height\":\"400\",\"_options_labels\":[\"1968\",\"1969\",\"1970\",\"1971\",\"1972\",\"1973\",\"1974\",\"1975\",\"1976\",\"1977\",\"1978\",\"1979\",\"1980\",\"1981\",\"1982\",\"1983\",\"1984\",\"1985\",\"1986\",\"1987\",\"1988\",\"1989\",\"1990\",\"1991\",\"1992\",\"1993\",\"1994\",\"1995\",\"1996\",\"1997\",\"1998\",\"1999\",\"2000\",\"2001\",\"2002\",\"2003\",\"2004\",\"2005\",\"2006\",\"2007\",\"2008\",\"2009\",\"2010\",\"2011\",\"2012\",\"2013\",\"2014\",\"2015\"]},{\"layout\":\"IPY_MODEL_889a2530d0ec4939af3a7f525c2b2f86\",\"selected_index\":2,\"_titles\":{\"0\":\"region\",\"1\":\"marital status\",\"2\":\"age\",\"3\":\"sex\",\"4\":\"observations\",\"5\":\"year\"},\"children\":[\"IPY_MODEL_bcc2514d8f724b57a587aa1158aa0273\",\"IPY_MODEL_67624632b470481bb331c2bfc89ce16d\",\"IPY_MODEL_b90506d2a3144c9ab5d5056a4cb77d18\",\"IPY_MODEL_21cdc2a2c2cd438895ef6c9824d0bb75\",\"IPY_MODEL_02193a9e88a3408093724f5b3a7da8dc\",\"IPY_MODEL_ea27788c18264d3eb0d99eb546e35349\"]},{},{\"layout\":\"IPY_MODEL_ae606ff453ac4819b22f418de13bda7f\",\"value\":\"http://api.scb.se/OV0104/v1/doris/en/ssd/BE/BE0101/BE0101A/BefolkningNy\"},{\"layout\":\"IPY_MODEL_c64a677979cf4f0eab2d5fb635a976a1\",\"children\":[\"IPY_MODEL_8e4a7ca7427f4650ae994a545f03ec54\",\"IPY_MODEL_176007c4de6948d98771559722c9214a\",\"IPY_MODEL_d49439f7780f4c9fbf5335e6791754e7\",\"IPY_MODEL_7fcbac43bc054f5cb7b1e91a040cb890\"]}]</script>"
      ]
     },
     "metadata": {
      "isWidgetSnapshot": true
     },
     "output_type": "display_data"
    }
   ],
   "source": [
    "# The box select framework also works for Statistics Sweden \n",
    "# The full_url to the table has to be specified since table_id \n",
    "# does not have the same structure as in Norway\n",
    "full_url = 'http://api.scb.se/OV0104/v1/doris/en/ssd/BE/BE0101/BE0101A/BefolkningNy'\n",
    "box_sweden = select(full_url = full_url)\n",
    "box_sweden"
   ]
  },
  {
   "cell_type": "markdown",
   "metadata": {},
   "source": [
    "### Function to get the json query from the widget container"
   ]
  },
  {
   "cell_type": "code",
   "execution_count": 12,
   "metadata": {
    "code_folding": [],
    "collapsed": false,
    "run_control": {
     "frozen": false,
     "read_only": false
    }
   },
   "outputs": [],
   "source": [
    "def get_json(box=None, out = 'dict', language = 'en'):\n",
    "    \"\"\"\n",
    "    Takes a widget container as input (where the user has selected varables) \n",
    "    and returns a json dictionary or string that will fetch these variables. \n",
    "    \n",
    "    The json follows the json-stat format.\n",
    "    \n",
    "    Parameters\n",
    "    ----------\n",
    "    \n",
    "    box : widget container \n",
    "        name of widget box with the selected variables\n",
    "    \n",
    "    out : string \n",
    "        default: 'dict', options: 'str'\n",
    "        \n",
    "        The json can be returned as a dictionary or a string.\n",
    "        The final end query should use a dict, but some may find it useful to\n",
    "        get the string and revise it before transforming it back to a dict.\n",
    "    \n",
    "    \n",
    "    Example\n",
    "    -------\n",
    "    \n",
    "    json_query = get_json(box)\n",
    "    \n",
    "    \"\"\"\n",
    "        \n",
    "    table_url = box.children[3].value\n",
    "    variables = get_variables(full_url = table_url)\n",
    "    nvars = len(box.children[2].children)\n",
    "    var_list = list(range(nvars))\n",
    "    query_element = {}\n",
    "    \n",
    "    # create a dict of strings, one for each variable that specifies \n",
    "    # the json-stat that selects the variables/values\n",
    "    \n",
    "    for x in var_list:\n",
    "        value_list = str(list(box.children[2].children[x].value))\n",
    "        query_element[x] = '{{\"code\": \"{code}\", \"selection\": {{\"filter\": \"item\", \"values\": {values} }}}}'.format(\n",
    "            code = variables[x]['code'], \n",
    "            values = value_list)\n",
    "        query_element[x] = query_element[x].replace(\"\\'\", '\"')\n",
    "    \n",
    "    all_elements = str(list(query_element.values()))\n",
    "    all_elements = all_elements.replace(\"\\'\", \"\")\n",
    "\n",
    "    query = '{{\"query\": {all_elements} , \"response\": {{\"format\": \"json-stat\" }}}}'.format(all_elements = all_elements)\n",
    "    \n",
    "    if out == 'dict':\n",
    "        query = ast.literal_eval(query)\n",
    "    \n",
    "  \n",
    "    # todo: build it as a dictionary to start with (and not a string that is made into a dict as now)\n",
    "    # todo: add error message if required variables are not selected\n",
    "    # todo: avoid repeat downloading of same information \n",
    "    # eg. get_variables is sometimes used three times before a table is downloaded\n",
    "    \n",
    "    return query"
   ]
  },
  {
   "cell_type": "code",
   "execution_count": 13,
   "metadata": {
    "collapsed": true,
    "run_control": {
     "frozen": false,
     "read_only": false
    }
   },
   "outputs": [],
   "source": [
    "def to_dict(json_str):\n",
    "    \"\"\"\n",
    "        Transforms a string to a dictionary.\n",
    "        \n",
    "        Note: Will fail if string is not correctly specified.\n",
    "    \"\"\"\n",
    "    # OK, really unnecessary func, but a concession to less experienced users\n",
    "    # todo: use json module instead, json.dumps()\n",
    "    query = ast.literal_eval(json_str)\n",
    "    return query\n",
    "    "
   ]
  },
  {
   "cell_type": "markdown",
   "metadata": {},
   "source": [
    "## Read the data (selected in the box) into a pandas dataframe"
   ]
  },
  {
   "cell_type": "markdown",
   "metadata": {},
   "source": [
    "Note: A selection has to be made for all the (required) variables in the widget container (box). If not the json-stat specification will be incomplete and read_box() will return an error."
   ]
  },
  {
   "cell_type": "code",
   "execution_count": 14,
   "metadata": {
    "collapsed": true,
    "run_control": {
     "frozen": false,
     "read_only": false
    }
   },
   "outputs": [],
   "source": [
    "def read_box(from_box):\n",
    "    \"\"\"\n",
    "    Takes a widget container as input (where the user has selected varables) \n",
    "    and returns a pandas dataframe with the values for the selected variables.\n",
    "    \n",
    "    Example\n",
    "    -------\n",
    "    \n",
    "    df = read_box(box)\n",
    "    \n",
    "    \"\"\"\n",
    "    query = get_json(from_box)\n",
    "    url = from_box.children[3].value\n",
    "    data = requests.post(url, json = query)\n",
    "    results = pyjstat.from_json_stat(data.json(object_pairs_hook=OrderedDict))\n",
    "    return results[0]"
   ]
  },
  {
   "cell_type": "code",
   "execution_count": 15,
   "metadata": {
    "collapsed": false,
    "run_control": {
     "frozen": false,
     "read_only": false
    }
   },
   "outputs": [],
   "source": [
    "df = read_box(box)"
   ]
  },
  {
   "cell_type": "code",
   "execution_count": 16,
   "metadata": {
    "collapsed": false,
    "run_control": {
     "frozen": false,
     "read_only": false
    }
   },
   "outputs": [
    {
     "data": {
      "text/html": [
       "<div>\n",
       "<table border=\"1\" class=\"dataframe\">\n",
       "  <thead>\n",
       "    <tr style=\"text-align: right;\">\n",
       "      <th></th>\n",
       "      <th>region</th>\n",
       "      <th>year</th>\n",
       "      <th>value</th>\n",
       "    </tr>\n",
       "  </thead>\n",
       "  <tbody>\n",
       "    <tr>\n",
       "      <th>0</th>\n",
       "      <td>The whole country</td>\n",
       "      <td>1999</td>\n",
       "      <td>27461</td>\n",
       "    </tr>\n",
       "    <tr>\n",
       "      <th>1</th>\n",
       "      <td>The whole country</td>\n",
       "      <td>2013</td>\n",
       "      <td>9400</td>\n",
       "    </tr>\n",
       "  </tbody>\n",
       "</table>\n",
       "</div>"
      ],
      "text/plain": [
       "              region  year  value\n",
       "0  The whole country  1999  27461\n",
       "1  The whole country  2013   9400"
      ]
     },
     "execution_count": 16,
     "metadata": {},
     "output_type": "execute_result"
    }
   ],
   "source": [
    "df.head()"
   ]
  },
  {
   "cell_type": "markdown",
   "metadata": {},
   "source": [
    "##  Some other useful functions"
   ]
  },
  {
   "cell_type": "markdown",
   "metadata": {},
   "source": [
    "### Get the json query used to get the data (as specified in the box)"
   ]
  },
  {
   "cell_type": "code",
   "execution_count": 17,
   "metadata": {
    "collapsed": false,
    "run_control": {
     "frozen": false,
     "read_only": false
    }
   },
   "outputs": [
    {
     "name": "stdout",
     "output_type": "stream",
     "text": [
      "{'query': [{'selection': {'values': ['0'], 'filter': 'item'}, 'code': 'Region'}, {'selection': {'values': ['KufjolsIAlt'], 'filter': 'item'}, 'code': 'ContentsCode'}, {'selection': {'values': ['1999', '2013'], 'filter': 'item'}, 'code': 'Tid'}], 'response': {'format': 'json-stat'}}\n"
     ]
    }
   ],
   "source": [
    "query = get_json(box)\n",
    "print(query)"
   ]
  },
  {
   "cell_type": "markdown",
   "metadata": {},
   "source": [
    "### Read based on an explicit defined json query, not the box selection"
   ]
  },
  {
   "cell_type": "code",
   "execution_count": 18,
   "metadata": {
    "code_folding": [],
    "collapsed": false,
    "run_control": {
     "frozen": false,
     "read_only": false
    }
   },
   "outputs": [],
   "source": [
    "def read_with_json(table_id = None, \n",
    "              query = None, \n",
    "              language = 'en', \n",
    "              base_url = http://data.ssb.no/api/v0, \n",
    "              full_url = None):\n",
    "    \"\"\"\n",
    "    Returns a pandas dataframe with the values for the table specified by \n",
    "    table_id and an explicit json string (in json-stat format).\n",
    "    \n",
    "    Useful if \n",
    "        - you know exactly what you are looking for and\n",
    "        - can specify the json yourself (as a dictionary)\n",
    "        - you do not want to use the notebook/widgets/box to specify the json query\n",
    "        \n",
    "    Hints\n",
    "    -----\n",
    "        - use full_json(table_id = '10714', out = 'string') to get a query string and edit it\n",
    "        - use to_dict(str) to get a dict from an edited json string\n",
    "            \n",
    "    Example\n",
    "    -------\n",
    "    json_query = {'response': {'format': 'json-stat'}, \n",
    "        'query': [\n",
    "        {'selection': {'values': ['0'], 'filter': 'item'}, 'code': 'Region'}, \n",
    "        {'selection': {'values': ['KufjolsIAlt'], 'filter': 'item'}, 'code': 'ContentsCode'}, \n",
    "        {'selection': {'values': ['1999', '2013'], 'filter': 'item'}, 'code': 'Tid'}]}\n",
    "        }\n",
    "    \n",
    "    df = read_with_json(table_id = '10714', query = json_query)\n",
    "    \n",
    "    \"\"\"\n",
    "    if full_url is None:\n",
    "        \n",
    "        full_url = '{base_url}/{language}/table/{table_id}'.format(\n",
    "            base_url = base_url, \n",
    "            language = language, \n",
    "            table_id = table_id)\n",
    "        \n",
    "    data = requests.post(full_url, json = query)\n",
    "    results = pyjstat.from_json_stat(data.json(object_pairs_hook=OrderedDict))\n",
    "    return results[0]"
   ]
  },
  {
   "cell_type": "code",
   "execution_count": 19,
   "metadata": {
    "collapsed": false,
    "run_control": {
     "frozen": false,
     "read_only": false
    }
   },
   "outputs": [],
   "source": [
    "json_query = {\n",
    "    'query': [\n",
    "        {'selection': {'values': ['0'], 'filter': 'item'}, 'code': 'Region'},\n",
    "        {'selection': {'values': ['KufjolsIAlt'], 'filter': 'item'}, 'code': 'ContentsCode'},\n",
    "        {'selection': {'values': ['1999', '2013'], 'filter': 'item'}, 'code': 'Tid'}\n",
    "            ],\n",
    "    'response': {'format': 'json-stat'}\n",
    "            }\n",
    "\n",
    "df2 = read_with_json(table_id = '10714', query = json_query)"
   ]
  },
  {
   "cell_type": "code",
   "execution_count": 20,
   "metadata": {
    "collapsed": false,
    "run_control": {
     "frozen": false,
     "read_only": false
    }
   },
   "outputs": [
    {
     "data": {
      "text/html": [
       "<div>\n",
       "<table border=\"1\" class=\"dataframe\">\n",
       "  <thead>\n",
       "    <tr style=\"text-align: right;\">\n",
       "      <th></th>\n",
       "      <th>region</th>\n",
       "      <th>year</th>\n",
       "      <th>value</th>\n",
       "    </tr>\n",
       "  </thead>\n",
       "  <tbody>\n",
       "    <tr>\n",
       "      <th>0</th>\n",
       "      <td>The whole country</td>\n",
       "      <td>1999</td>\n",
       "      <td>27461</td>\n",
       "    </tr>\n",
       "    <tr>\n",
       "      <th>1</th>\n",
       "      <td>The whole country</td>\n",
       "      <td>2013</td>\n",
       "      <td>9400</td>\n",
       "    </tr>\n",
       "  </tbody>\n",
       "</table>\n",
       "</div>"
      ],
      "text/plain": [
       "              region  year  value\n",
       "0  The whole country  1999  27461\n",
       "1  The whole country  2013   9400"
      ]
     },
     "execution_count": 20,
     "metadata": {},
     "output_type": "execute_result"
    }
   ],
   "source": [
    "df2.head()"
   ]
  },
  {
   "cell_type": "markdown",
   "metadata": {},
   "source": [
    "## Reading from other databases (json-stat  format) \n",
    "(works when full url to the table is specified)"
   ]
  },
  {
   "cell_type": "markdown",
   "metadata": {
    "collapsed": true,
    "run_control": {
     "frozen": false,
     "read_only": false
    }
   },
   "source": [
    "Many countries and agencies offer json-stat or csv formatted tables that do not need a json specification to be downloaded. Often the sources allow some control of what values (years, geographic units) to be downloaded as part of the url. The following function can be used to download these tables."
   ]
  },
  {
   "cell_type": "code",
   "execution_count": 22,
   "metadata": {
    "collapsed": false,
    "run_control": {
     "frozen": false,
     "read_only": false
    }
   },
   "outputs": [],
   "source": [
    "def read_url(full_url = None, \n",
    "             table_format = 'json'):\n",
    "    \"\"\"\n",
    "    Returns a pandas dataframe of the premade table indicated by the premade \n",
    "    table_id or the full_url.\n",
    "    \n",
    "    Note: The premade table id may be different from the normal table id.\n",
    "    \"\"\"\n",
    "    \n",
    "    if full_url is None:\n",
    "        full_url = '{base_url}/{premade_id}.{table_format}?lang={language}'.format(\n",
    "                base_url = base_url,\n",
    "                premade_id = str(premade_id), \n",
    "                language = language,\n",
    "                table_format = table_format)\n",
    "    #print(full_url)\n",
    "    \n",
    "    if table_format == 'json':\n",
    "        data = requests.get(full_url)\n",
    "        df = pyjstat.from_json_stat(data.json(object_pairs_hook=OrderedDict))\n",
    "        df = df[0]\n",
    "        \n",
    "    elif table_format == 'csv':\n",
    "        df = pd.read_csv(full_url)\n",
    "    else:\n",
    "        print(\"\"\"Table_format is incorrectly specified. \n",
    "              It must be 'json-stat' or 'csv'\"\"\")\n",
    "        df = None\n",
    "    return df"
   ]
  },
  {
   "cell_type": "markdown",
   "metadata": {},
   "source": [
    "### Ireland"
   ]
  },
  {
   "cell_type": "code",
   "execution_count": 24,
   "metadata": {
    "collapsed": false,
    "run_control": {
     "frozen": false,
     "read_only": false
    }
   },
   "outputs": [
    {
     "data": {
      "text/html": [
       "<div>\n",
       "<table border=\"1\" class=\"dataframe\">\n",
       "  <thead>\n",
       "    <tr style=\"text-align: right;\">\n",
       "      <th></th>\n",
       "      <th>Country of Birth</th>\n",
       "      <th>County</th>\n",
       "      <th>Year</th>\n",
       "      <th>Statistic</th>\n",
       "      <th>value</th>\n",
       "    </tr>\n",
       "  </thead>\n",
       "  <tbody>\n",
       "    <tr>\n",
       "      <th>0</th>\n",
       "      <td>Total Birth</td>\n",
       "      <td>State</td>\n",
       "      <td>1841</td>\n",
       "      <td>Population (Number)</td>\n",
       "      <td>6528799</td>\n",
       "    </tr>\n",
       "    <tr>\n",
       "      <th>1</th>\n",
       "      <td>Total Birth</td>\n",
       "      <td>State</td>\n",
       "      <td>1851</td>\n",
       "      <td>Population (Number)</td>\n",
       "      <td>5111557</td>\n",
       "    </tr>\n",
       "    <tr>\n",
       "      <th>2</th>\n",
       "      <td>Total Birth</td>\n",
       "      <td>State</td>\n",
       "      <td>1861</td>\n",
       "      <td>Population (Number)</td>\n",
       "      <td>4402111</td>\n",
       "    </tr>\n",
       "    <tr>\n",
       "      <th>3</th>\n",
       "      <td>Total Birth</td>\n",
       "      <td>State</td>\n",
       "      <td>1871</td>\n",
       "      <td>Population (Number)</td>\n",
       "      <td>4053187</td>\n",
       "    </tr>\n",
       "    <tr>\n",
       "      <th>4</th>\n",
       "      <td>Total Birth</td>\n",
       "      <td>State</td>\n",
       "      <td>1881</td>\n",
       "      <td>Population (Number)</td>\n",
       "      <td>3870020</td>\n",
       "    </tr>\n",
       "  </tbody>\n",
       "</table>\n",
       "</div>"
      ],
      "text/plain": [
       "  Country of Birth County  Year            Statistic    value\n",
       "0      Total Birth  State  1841  Population (Number)  6528799\n",
       "1      Total Birth  State  1851  Population (Number)  5111557\n",
       "2      Total Birth  State  1861  Population (Number)  4402111\n",
       "3      Total Birth  State  1871  Population (Number)  4053187\n",
       "4      Total Birth  State  1881  Population (Number)  3870020"
      ]
     },
     "execution_count": 24,
     "metadata": {},
     "output_type": "execute_result"
    }
   ],
   "source": [
    "irl_url = 'http://www.cso.ie/StatbankServices/StatbankServices.svc/jsonservice/responseinstance/CNA31' \n",
    "irl_pop = read_url(irl_url)\n",
    "irl_pop.head()"
   ]
  },
  {
   "cell_type": "markdown",
   "metadata": {
    "collapsed": true,
    "run_control": {
     "frozen": false,
     "read_only": false
    }
   },
   "source": [
    "###  UK: ONS (Requires api key)"
   ]
  },
  {
   "cell_type": "code",
   "execution_count": 25,
   "metadata": {
    "collapsed": false,
    "run_control": {
     "frozen": false,
     "read_only": false
    }
   },
   "outputs": [
    {
     "data": {
      "text/html": [
       "<div>\n",
       "<table border=\"1\" class=\"dataframe\">\n",
       "  <thead>\n",
       "    <tr style=\"text-align: right;\">\n",
       "      <th></th>\n",
       "      <th>2011 Administrative Hierarchy</th>\n",
       "      <th>Ethnic group (Flat) (T019A)</th>\n",
       "      <th>Measures</th>\n",
       "      <th>Time Dimension</th>\n",
       "      <th>value</th>\n",
       "    </tr>\n",
       "  </thead>\n",
       "  <tbody>\n",
       "    <tr>\n",
       "      <th>0</th>\n",
       "      <td>England</td>\n",
       "      <td>All categories: Ethnic group</td>\n",
       "      <td>Segment_1</td>\n",
       "      <td>2011</td>\n",
       "      <td>53012456</td>\n",
       "    </tr>\n",
       "    <tr>\n",
       "      <th>1</th>\n",
       "      <td>England</td>\n",
       "      <td>Black/African/Caribbean/Black British: Caribbean</td>\n",
       "      <td>Segment_1</td>\n",
       "      <td>2011</td>\n",
       "      <td>42279236</td>\n",
       "    </tr>\n",
       "    <tr>\n",
       "      <th>2</th>\n",
       "      <td>England</td>\n",
       "      <td>Asian/Asian British: Bangladeshi</td>\n",
       "      <td>Segment_1</td>\n",
       "      <td>2011</td>\n",
       "      <td>517001</td>\n",
       "    </tr>\n",
       "    <tr>\n",
       "      <th>3</th>\n",
       "      <td>England</td>\n",
       "      <td>Asian/Asian British: Chinese</td>\n",
       "      <td>Segment_1</td>\n",
       "      <td>2011</td>\n",
       "      <td>54895</td>\n",
       "    </tr>\n",
       "    <tr>\n",
       "      <th>4</th>\n",
       "      <td>England</td>\n",
       "      <td>White: Irish</td>\n",
       "      <td>Segment_1</td>\n",
       "      <td>2011</td>\n",
       "      <td>2430010</td>\n",
       "    </tr>\n",
       "  </tbody>\n",
       "</table>\n",
       "</div>"
      ],
      "text/plain": [
       "  2011 Administrative Hierarchy  \\\n",
       "0                       England   \n",
       "1                       England   \n",
       "2                       England   \n",
       "3                       England   \n",
       "4                       England   \n",
       "\n",
       "                        Ethnic group (Flat) (T019A)   Measures Time Dimension  \\\n",
       "0                      All categories: Ethnic group  Segment_1           2011   \n",
       "1  Black/African/Caribbean/Black British: Caribbean  Segment_1           2011   \n",
       "2                  Asian/Asian British: Bangladeshi  Segment_1           2011   \n",
       "3                      Asian/Asian British: Chinese  Segment_1           2011   \n",
       "4                                      White: Irish  Segment_1           2011   \n",
       "\n",
       "      value  \n",
       "0  53012456  \n",
       "1  42279236  \n",
       "2    517001  \n",
       "3     54895  \n",
       "4   2430010  "
      ]
     },
     "execution_count": 25,
     "metadata": {},
     "output_type": "execute_result"
    }
   ],
   "source": [
    "ons_url = 'http://data.ons.gov.uk/ons/api/data/dataset/QS201EW.json?context=Census&apikey=YOUR_API_KEY_HERE&geog=2011WARDH&dm/2011WARDH=E92000001&jsontype=json-stat&totals=false'\n",
    "df = read_url(ons_url)\n",
    "df.head()"
   ]
  },
  {
   "cell_type": "markdown",
   "metadata": {},
   "source": [
    "### Function to search premade tables in Statistics Norway"
   ]
  },
  {
   "cell_type": "markdown",
   "metadata": {},
   "source": [
    "Statistics Norway has created premade tables of the most downloaded tables. These tables can be accessed without a json-stat specification. The following functions allow the user to easily search and download these tables. Note that the premade_id is different from the table_id the more general table has in Statistics Norway. Note also that all the premade tables are available using the standard search and read functions, but they then require closer specification of what values the user wants to download."
   ]
  },
  {
   "cell_type": "code",
   "execution_count": 26,
   "metadata": {
    "collapsed": false,
    "run_control": {
     "frozen": false,
     "read_only": false
    }
   },
   "outputs": [],
   "source": [
    "def search_premade(\n",
    "    phrase = '*', \n",
    "    language = 'en', \n",
    "    url = 'http://data.ssb.no/api/v0/dataset'):\n",
    "    \n",
    "    \"\"\"\n",
    "    Returns a pandas dataframe with the tables matching the tags specified in the search.\n",
    "    \n",
    "    Note that the function does not search in the headline of the tables, but in the tags.\n",
    "    \n",
    "    The search is exact, so it may be better to get a list of all tables \n",
    "    (use phrase = '*' or just leave it unspecified)\n",
    "    \n",
    "    The ID column contains a special table id for premade tables \n",
    "    (use this is when specifying the table to be downloaded)\n",
    "    \n",
    "    Example:\n",
    "        \n",
    "        tables = search_url_tables('population')\n",
    "    \n",
    "    \n",
    "    \"\"\"\n",
    "    url = '{url}?lang={language}'.format(\n",
    "        url = url,\n",
    "        language = language)\n",
    "    \n",
    "    df = pd.read_html(url)\n",
    "    df = df[0]\n",
    "    df.index = df['ID']\n",
    "    df = df.iloc[:,[0,1]]\n",
    "    df = df.sort_index()\n",
    "    phrase = phrase.lower()\n",
    "    \n",
    "    if phrase != '*':\n",
    "        df = df[(df.iloc[:,0].str.lower().str.contains(phrase)) | \n",
    "                (df.iloc[:,1].str.lower().str.contains(phrase)) ]\n",
    "    return df\n",
    "\n",
    "# to do: merge the two search functions?\n",
    "# make premade an bool arg in the search. \n",
    "# also allow full_url"
   ]
  },
  {
   "cell_type": "code",
   "execution_count": 27,
   "metadata": {
    "collapsed": false,
    "run_control": {
     "frozen": false,
     "read_only": false
    }
   },
   "outputs": [
    {
     "data": {
      "text/html": [
       "<div>\n",
       "<table border=\"1\" class=\"dataframe\">\n",
       "  <thead>\n",
       "    <tr style=\"text-align: right;\">\n",
       "      <th></th>\n",
       "      <th>Title</th>\n",
       "      <th>Tags</th>\n",
       "    </tr>\n",
       "    <tr>\n",
       "      <th>ID</th>\n",
       "      <th></th>\n",
       "      <th></th>\n",
       "    </tr>\n",
       "  </thead>\n",
       "  <tbody>\n",
       "    <tr>\n",
       "      <th>1102</th>\n",
       "      <td>Population changes. Counties, latest quarter</td>\n",
       "      <td>01222 births deaths emigration folkendrkv immi...</td>\n",
       "    </tr>\n",
       "    <tr>\n",
       "      <th>1104</th>\n",
       "      <td>Population change. Whole country, latest quarter</td>\n",
       "      <td>01222 births deaths emigration folkendrkv immi...</td>\n",
       "    </tr>\n",
       "    <tr>\n",
       "      <th>1106</th>\n",
       "      <td>Population changes. Municipalities, latest 9 q...</td>\n",
       "      <td>01222 births deaths emigration folkendrkv immi...</td>\n",
       "    </tr>\n",
       "    <tr>\n",
       "      <th>1108</th>\n",
       "      <td>Population changes. Municipalities, latest qua...</td>\n",
       "      <td>01222 births deaths emigration folkendrkv immi...</td>\n",
       "    </tr>\n",
       "    <tr>\n",
       "      <th>49577</th>\n",
       "      <td>Population 1 January and population changes du...</td>\n",
       "      <td>06913 folkemengde inhabitants municipalities p...</td>\n",
       "    </tr>\n",
       "    <tr>\n",
       "      <th>49623</th>\n",
       "      <td>Population 1 January and population changes du...</td>\n",
       "      <td>06913 counties folkendrkv inhabitans births de...</td>\n",
       "    </tr>\n",
       "    <tr>\n",
       "      <th>49626</th>\n",
       "      <td>Population 1 January and population changes du...</td>\n",
       "      <td>06913 folkendrkv inhabitants births deaths pop...</td>\n",
       "    </tr>\n",
       "  </tbody>\n",
       "</table>\n",
       "</div>"
      ],
      "text/plain": [
       "                                                   Title  \\\n",
       "ID                                                         \n",
       "1102        Population changes. Counties, latest quarter   \n",
       "1104    Population change. Whole country, latest quarter   \n",
       "1106   Population changes. Municipalities, latest 9 q...   \n",
       "1108   Population changes. Municipalities, latest qua...   \n",
       "49577  Population 1 January and population changes du...   \n",
       "49623  Population 1 January and population changes du...   \n",
       "49626  Population 1 January and population changes du...   \n",
       "\n",
       "                                                    Tags  \n",
       "ID                                                        \n",
       "1102   01222 births deaths emigration folkendrkv immi...  \n",
       "1104   01222 births deaths emigration folkendrkv immi...  \n",
       "1106   01222 births deaths emigration folkendrkv immi...  \n",
       "1108   01222 births deaths emigration folkendrkv immi...  \n",
       "49577  06913 folkemengde inhabitants municipalities p...  \n",
       "49623  06913 counties folkendrkv inhabitans births de...  \n",
       "49626  06913 folkendrkv inhabitants births deaths pop...  "
      ]
     },
     "execution_count": 27,
     "metadata": {},
     "output_type": "execute_result"
    }
   ],
   "source": [
    "search_premade('birth')"
   ]
  },
  {
   "cell_type": "markdown",
   "metadata": {},
   "source": [
    "### Read premade tables from Statistics Norway"
   ]
  },
  {
   "cell_type": "code",
   "execution_count": 28,
   "metadata": {
    "collapsed": true
   },
   "outputs": [],
   "source": [
    "def read_premade(premade_id = None, \n",
    "            language = 'en', \n",
    "            base_url = 'http://data.ssb.no/api/v0/dataset', \n",
    "            full_url = None, \n",
    "            table_format = 'json'):\n",
    "    \"\"\"\n",
    "    Returns a pandas dataframe of the premade table indicated by the premade \n",
    "    table_id or the full_url.\n",
    "    \n",
    "    Note: The premade table id may be different from the normal table id.\n",
    "    \"\"\"\n",
    "    \n",
    "    if full_url is None:\n",
    "        full_url = '{base_url}/{premade_id}.{table_format}?lang={language}'.format(\n",
    "                base_url = base_url,\n",
    "                premade_id = str(premade_id), \n",
    "                language = language,\n",
    "                table_format = table_format)\n",
    "    #print(full_url)\n",
    "    \n",
    "    if table_format == 'json':\n",
    "        data = requests.get(full_url)\n",
    "        df = pyjstat.from_json_stat(data.json(object_pairs_hook=OrderedDict))\n",
    "        df = df[0]\n",
    "        \n",
    "    elif table_format == 'csv':\n",
    "        df = pd.read_csv(full_url)\n",
    "    else:\n",
    "        print(\"\"\"Table_format is incorrectly specified. \n",
    "              It must be 'json-stat' or 'csv'\"\"\")\n",
    "        df = None\n",
    "    return df"
   ]
  },
  {
   "cell_type": "code",
   "execution_count": 29,
   "metadata": {
    "collapsed": false,
    "run_control": {
     "frozen": false,
     "read_only": false
    },
    "scrolled": true
   },
   "outputs": [
    {
     "data": {
      "text/html": [
       "<div>\n",
       "<table border=\"1\" class=\"dataframe\">\n",
       "  <thead>\n",
       "    <tr style=\"text-align: right;\">\n",
       "      <th></th>\n",
       "      <th>sex</th>\n",
       "      <th>age</th>\n",
       "      <th>time</th>\n",
       "      <th>contents</th>\n",
       "      <th>value</th>\n",
       "    </tr>\n",
       "  </thead>\n",
       "  <tbody>\n",
       "    <tr>\n",
       "      <th>0</th>\n",
       "      <td>Both sexes</td>\n",
       "      <td>15-74 years</td>\n",
       "      <td>2015M04</td>\n",
       "      <td>Unemployment (LFS) (1 000 persons), seasonally...</td>\n",
       "      <td>117</td>\n",
       "    </tr>\n",
       "    <tr>\n",
       "      <th>1</th>\n",
       "      <td>Both sexes</td>\n",
       "      <td>15-74 years</td>\n",
       "      <td>2015M04</td>\n",
       "      <td>Unemployment rate (LFS), seasonally adjusted</td>\n",
       "      <td>4.2</td>\n",
       "    </tr>\n",
       "    <tr>\n",
       "      <th>2</th>\n",
       "      <td>Both sexes</td>\n",
       "      <td>15-74 years</td>\n",
       "      <td>2015M05</td>\n",
       "      <td>Unemployment (LFS) (1 000 persons), seasonally...</td>\n",
       "      <td>118</td>\n",
       "    </tr>\n",
       "    <tr>\n",
       "      <th>3</th>\n",
       "      <td>Both sexes</td>\n",
       "      <td>15-74 years</td>\n",
       "      <td>2015M05</td>\n",
       "      <td>Unemployment rate (LFS), seasonally adjusted</td>\n",
       "      <td>4.3</td>\n",
       "    </tr>\n",
       "    <tr>\n",
       "      <th>4</th>\n",
       "      <td>Both sexes</td>\n",
       "      <td>15-74 years</td>\n",
       "      <td>2015M06</td>\n",
       "      <td>Unemployment (LFS) (1 000 persons), seasonally...</td>\n",
       "      <td>123</td>\n",
       "    </tr>\n",
       "  </tbody>\n",
       "</table>\n",
       "</div>"
      ],
      "text/plain": [
       "          sex          age     time  \\\n",
       "0  Both sexes  15-74 years  2015M04   \n",
       "1  Both sexes  15-74 years  2015M04   \n",
       "2  Both sexes  15-74 years  2015M05   \n",
       "3  Both sexes  15-74 years  2015M05   \n",
       "4  Both sexes  15-74 years  2015M06   \n",
       "\n",
       "                                            contents value  \n",
       "0  Unemployment (LFS) (1 000 persons), seasonally...   117  \n",
       "1       Unemployment rate (LFS), seasonally adjusted   4.2  \n",
       "2  Unemployment (LFS) (1 000 persons), seasonally...   118  \n",
       "3       Unemployment rate (LFS), seasonally adjusted   4.3  \n",
       "4  Unemployment (LFS) (1 000 persons), seasonally...   123  "
      ]
     },
     "execution_count": 29,
     "metadata": {},
     "output_type": "execute_result"
    }
   ],
   "source": [
    "births = read_premade('1052')\n",
    "births.head()"
   ]
  },
  {
   "cell_type": "markdown",
   "metadata": {},
   "source": [
    "## Functions to read everything (no selection)"
   ]
  },
  {
   "cell_type": "markdown",
   "metadata": {},
   "source": [
    "Avoids the need to specify the json-stat query by automatically generating a query that downloads all variables and valules. Warning: Use with care, the table may be very large."
   ]
  },
  {
   "cell_type": "code",
   "execution_count": 30,
   "metadata": {
    "collapsed": false,
    "run_control": {
     "frozen": false,
     "read_only": false
    }
   },
   "outputs": [],
   "source": [
    "def full_json(table_id = None, \n",
    "              out = 'dict', \n",
    "              language = 'en', \n",
    "              full_url = None):\n",
    "    \"\"\"\n",
    "    Returns the json query for getting all the values for all options for a table.\n",
    "    Useful if\n",
    "        - you do not want to use the widgets/notebook to build the query\n",
    "        - but want a starting point to revise and specify a the query instead of building it from the ground.\n",
    "    \n",
    "    Note\n",
    "        - The json is a dictionary. You may want to edit the content of the dictionary directly,\n",
    "        or make it a string, edit it as a string, and retransform it to a dictionary.\n",
    "        \n",
    "        To transform a string to a dict, use the function:\n",
    "        \n",
    "            query = to_dict(json_str)\n",
    "        \n",
    "    Example\n",
    "    -------\n",
    "    \n",
    "    query = full_json(table_id = '10714', out = 'string')\n",
    "    \n",
    "    \"\"\"\n",
    "    \n",
    "    variables = get_variables(table_id, language = language, full_url = full_url)\n",
    "    nvars = len(variables)\n",
    "    var_list = list(range(nvars))\n",
    "    \n",
    "    query_element = {}\n",
    "    \n",
    "    for x in var_list:\n",
    "        query_element[x] ='{{\"code\": \"{code}\", \"selection\": {{\"filter\": \"item\", \"values\": {values} }}}}'.format(\n",
    "                code = variables[x]['code'], \n",
    "                values = variables[x]['values']) \n",
    "        query_element[x] = query_element[x].replace(\"\\'\", '\"')\n",
    "    all_elements = str(list(query_element.values()))\n",
    "    all_elements = all_elements.replace(\"\\'\", \"\")\n",
    "    \n",
    "    query = '{{\"query\": {all_elements} , \"response\": {{\"format\": \"json-stat\" }}}}'.format(all_elements = all_elements)\n",
    "    \n",
    "    if out == 'dict':\n",
    "        query = ast.literal_eval(query)\n",
    "    \n",
    "    return query\n"
   ]
  },
  {
   "cell_type": "code",
   "execution_count": 31,
   "metadata": {
    "collapsed": false,
    "run_control": {
     "frozen": false,
     "read_only": false
    }
   },
   "outputs": [
    {
     "data": {
      "text/plain": [
       "'{\"query\": [{\"code\": \"Region\", \"selection\": {\"filter\": \"item\", \"values\": [\"0\", \"01\", \"02-03\", \"04\", \"05\", \"06\", \"07\", \"08\", \"09\", \"10\", \"11\", \"12\", \"14\", \"15\", \"16\", \"17\", \"18\", \"19\", \"20\", \"L1-3nyn\", \"L4\", \"L5\", \"L6\", \"L7\"] }}, {\"code\": \"ContentsCode\", \"selection\": {\"filter\": \"item\", \"values\": [\"KufjolsIAlt\", \"Basfjos\", \"Lausfjos\", \"KuplassBas\", \"KuplassLaus\", \"Mjolkerobotar\"] }}, {\"code\": \"Tid\", \"selection\": {\"filter\": \"item\", \"values\": [\"1999\", \"2013\"] }}] , \"response\": {\"format\": \"json-stat\" }}'"
      ]
     },
     "execution_count": 31,
     "metadata": {},
     "output_type": "execute_result"
    }
   ],
   "source": [
    "query_str = full_json(table_id = '10714', out = 'str')\n",
    "query_str"
   ]
  },
  {
   "cell_type": "code",
   "execution_count": 36,
   "metadata": {
    "collapsed": false,
    "run_control": {
     "frozen": false,
     "read_only": false
    }
   },
   "outputs": [
    {
     "data": {
      "text/html": [
       "<div>\n",
       "<table border=\"1\" class=\"dataframe\">\n",
       "  <thead>\n",
       "    <tr style=\"text-align: right;\">\n",
       "      <th></th>\n",
       "      <th>region</th>\n",
       "      <th>contents</th>\n",
       "      <th>year</th>\n",
       "      <th>value</th>\n",
       "    </tr>\n",
       "  </thead>\n",
       "  <tbody>\n",
       "    <tr>\n",
       "      <th>0</th>\n",
       "      <td>The whole country</td>\n",
       "      <td>Holdings with housing cows, total</td>\n",
       "      <td>1999</td>\n",
       "      <td>27461</td>\n",
       "    </tr>\n",
       "    <tr>\n",
       "      <th>1</th>\n",
       "      <td>The whole country</td>\n",
       "      <td>Holdings with housing cows, total</td>\n",
       "      <td>2013</td>\n",
       "      <td>9400</td>\n",
       "    </tr>\n",
       "    <tr>\n",
       "      <th>2</th>\n",
       "      <td>The whole country</td>\n",
       "      <td>Holdings with cow places in stanchion-tied houses</td>\n",
       "      <td>1999</td>\n",
       "      <td>25872</td>\n",
       "    </tr>\n",
       "    <tr>\n",
       "      <th>3</th>\n",
       "      <td>The whole country</td>\n",
       "      <td>Holdings with cow places in stanchion-tied houses</td>\n",
       "      <td>2013</td>\n",
       "      <td>7100</td>\n",
       "    </tr>\n",
       "    <tr>\n",
       "      <th>4</th>\n",
       "      <td>The whole country</td>\n",
       "      <td>Holdings with cows places in loose housing</td>\n",
       "      <td>1999</td>\n",
       "      <td>1856</td>\n",
       "    </tr>\n",
       "  </tbody>\n",
       "</table>\n",
       "</div>"
      ],
      "text/plain": [
       "              region                                           contents  year  \\\n",
       "0  The whole country                  Holdings with housing cows, total  1999   \n",
       "1  The whole country                  Holdings with housing cows, total  2013   \n",
       "2  The whole country  Holdings with cow places in stanchion-tied houses  1999   \n",
       "3  The whole country  Holdings with cow places in stanchion-tied houses  2013   \n",
       "4  The whole country         Holdings with cows places in loose housing  1999   \n",
       "\n",
       "   value  \n",
       "0  27461  \n",
       "1   9400  \n",
       "2  25872  \n",
       "3   7100  \n",
       "4   1856  "
      ]
     },
     "execution_count": 36,
     "metadata": {},
     "output_type": "execute_result"
    }
   ],
   "source": [
    "query_dict = full_json(table_id = '10714', out = 'dict')\n",
    "cows = read_with_json(table_id = '10714', query = query_dict)\n",
    "cows.head()"
   ]
  },
  {
   "cell_type": "code",
   "execution_count": 37,
   "metadata": {
    "collapsed": true,
    "run_control": {
     "frozen": false,
     "read_only": false
    }
   },
   "outputs": [],
   "source": [
    "def read_all(table_id = None, \n",
    "             language = 'en',\n",
    "             base_url = http://data.ssb.no/api/v0, \n",
    "             full_url = None):\n",
    "    \"\"\"\n",
    "    Returns a pandas dataframe with all values for all options \n",
    "    for the table specified by table_id\n",
    "    \n",
    "    Warning: The table may be large\n",
    "    \n",
    "    Useful if \n",
    "        - you know exactly what you are looking for and\n",
    "        - you do not want to use the notebook/widgets/box to specify the json query)\n",
    "    \n",
    "    Example\n",
    "    \n",
    "    df = read_all(table_id = '10714')\n",
    "    \n",
    "    \"\"\"\n",
    "    \n",
    "     \n",
    "    if full_url is None:        \n",
    "        full_url = '{base_url}/{language}/table/{table_id}'.format(\n",
    "            base_url = base_url,\n",
    "            language = language, \n",
    "            table_id = table_id)\n",
    "        \n",
    "    query = full_json(full_url = full_url)\n",
    "    data = requests.post(full_url, json = query)\n",
    "    results = pyjstat.from_json_stat(data.json(object_pairs_hook=OrderedDict))\n",
    "    \n",
    "    # maybe this need not be its own function, \n",
    "    # but an option in read_json? json = 'all'\n",
    "    \n",
    "    # other functions(options include: read_recent to get only the \n",
    "    # most recent values (defined as x), json = 'recent')\n",
    "    \n",
    "    return results[0]"
   ]
  },
  {
   "cell_type": "code",
   "execution_count": 38,
   "metadata": {
    "collapsed": false,
    "run_control": {
     "frozen": false,
     "read_only": false
    }
   },
   "outputs": [
    {
     "data": {
      "text/html": [
       "<div>\n",
       "<table border=\"1\" class=\"dataframe\">\n",
       "  <thead>\n",
       "    <tr style=\"text-align: right;\">\n",
       "      <th></th>\n",
       "      <th>region</th>\n",
       "      <th>contents</th>\n",
       "      <th>year</th>\n",
       "      <th>value</th>\n",
       "    </tr>\n",
       "  </thead>\n",
       "  <tbody>\n",
       "    <tr>\n",
       "      <th>0</th>\n",
       "      <td>The whole country</td>\n",
       "      <td>Holdings with housing cows, total</td>\n",
       "      <td>1999</td>\n",
       "      <td>27461</td>\n",
       "    </tr>\n",
       "    <tr>\n",
       "      <th>1</th>\n",
       "      <td>The whole country</td>\n",
       "      <td>Holdings with housing cows, total</td>\n",
       "      <td>2013</td>\n",
       "      <td>9400</td>\n",
       "    </tr>\n",
       "    <tr>\n",
       "      <th>2</th>\n",
       "      <td>The whole country</td>\n",
       "      <td>Holdings with cow places in stanchion-tied houses</td>\n",
       "      <td>1999</td>\n",
       "      <td>25872</td>\n",
       "    </tr>\n",
       "    <tr>\n",
       "      <th>3</th>\n",
       "      <td>The whole country</td>\n",
       "      <td>Holdings with cow places in stanchion-tied houses</td>\n",
       "      <td>2013</td>\n",
       "      <td>7100</td>\n",
       "    </tr>\n",
       "    <tr>\n",
       "      <th>4</th>\n",
       "      <td>The whole country</td>\n",
       "      <td>Holdings with cows places in loose housing</td>\n",
       "      <td>1999</td>\n",
       "      <td>1856</td>\n",
       "    </tr>\n",
       "  </tbody>\n",
       "</table>\n",
       "</div>"
      ],
      "text/plain": [
       "              region                                           contents  year  \\\n",
       "0  The whole country                  Holdings with housing cows, total  1999   \n",
       "1  The whole country                  Holdings with housing cows, total  2013   \n",
       "2  The whole country  Holdings with cow places in stanchion-tied houses  1999   \n",
       "3  The whole country  Holdings with cow places in stanchion-tied houses  2013   \n",
       "4  The whole country         Holdings with cows places in loose housing  1999   \n",
       "\n",
       "   value  \n",
       "0  27461  \n",
       "1   9400  \n",
       "2  25872  \n",
       "3   7100  \n",
       "4   1856  "
      ]
     },
     "execution_count": 38,
     "metadata": {},
     "output_type": "execute_result"
    }
   ],
   "source": [
    "dfall = read_all(table_id = '10714')\n",
    "dfall.head()"
   ]
  },
  {
   "cell_type": "markdown",
   "metadata": {
    "collapsed": true,
    "run_control": {
     "frozen": false,
     "read_only": false
    }
   },
   "source": [
    "### Suggested future extensions"
   ]
  },
  {
   "cell_type": "markdown",
   "metadata": {},
   "source": [
    "- Allow multiple tables to be downloaded and automatically merged\n"
   ]
  },
  {
   "cell_type": "markdown",
   "metadata": {},
   "source": [
    "### Acknowledgements"
   ]
  },
  {
   "cell_type": "markdown",
   "metadata": {},
   "source": [
    "This package relies on the work of the authors of pyjstat and json-stat"
   ]
  },
  {
   "cell_type": "code",
   "execution_count": null,
   "metadata": {
    "collapsed": true
   },
   "outputs": [],
   "source": []
  }
 ],
 "metadata": {
  "_draft": {
   "nbviewer_url": "https://gist.github.com/1c77cb657a3c95cc0d7f406186b52f37"
  },
  "gist": {
   "data": {
    "description": "Download tables from Statistics Norway to pandas dataframes",
    "public": true
   },
   "id": "1c77cb657a3c95cc0d7f406186b52f37"
  },
  "hide_input": false,
  "kernelspec": {
   "display_name": "Python 3",
   "language": "python",
   "name": "python3"
  },
  "language_info": {
   "codemirror_mode": {
    "name": "ipython",
    "version": 3
   },
   "file_extension": ".py",
   "mimetype": "text/x-python",
   "name": "python",
   "nbconvert_exporter": "python",
   "pygments_lexer": "ipython3",
   "version": "3.5.1"
  },
  "toc": {
   "toc_cell": false,
   "toc_number_sections": false,
   "toc_section_display": "none",
   "toc_threshold": 6,
   "toc_window_display": false
  },
  "toc_position": {
   "height": "174px",
   "left": "710.646px",
   "right": "20px",
   "top": "120px",
   "width": "497px"
  },
  "widgets": {
   "state": {
    "0209068cbd9f49b99144faa27c0e661f": {
     "views": []
    },
    "02193a9e88a3408093724f5b3a7da8dc": {
     "views": []
    },
    "021f6f4e33454a45a6a6ae1436148b63": {
     "views": []
    },
    "06b59b3b73024b04af1ca5e928fe47b6": {
     "views": []
    },
    "0ae8a9058fc74c7b8252b33afacef493": {
     "views": []
    },
    "0b3b9ac7269d49c5bc7fa59540fa03d6": {
     "views": []
    },
    "107ccdce208a415bb974cf3332dc03e4": {
     "views": []
    },
    "176007c4de6948d98771559722c9214a": {
     "views": []
    },
    "21cdc2a2c2cd438895ef6c9824d0bb75": {
     "views": []
    },
    "22db47b9539f44e087a4d8f77b401c0e": {
     "views": []
    },
    "3ffef9af0cfc44788e0d4caaf34b2a69": {
     "views": []
    },
    "44f27495615a4eb88c1d914a732637d3": {
     "views": []
    },
    "475bdaf820fc46168ae91ecf25f4b3ac": {
     "views": []
    },
    "4ebb94989e7746e9acdb7e8b51eb80c4": {
     "views": []
    },
    "61c739a4a3154d378aa508f4d509c727": {
     "views": []
    },
    "67624632b470481bb331c2bfc89ce16d": {
     "views": []
    },
    "73539bc6d1fa4b1f9e55c843b3966bcd": {
     "views": [
      {
       "cell_index": 32
      }
     ]
    },
    "7fcbac43bc054f5cb7b1e91a040cb890": {
     "views": []
    },
    "865fa40b2bf84e99a7cc46070a3c0719": {
     "views": []
    },
    "889a2530d0ec4939af3a7f525c2b2f86": {
     "views": []
    },
    "8e4a7ca7427f4650ae994a545f03ec54": {
     "views": []
    },
    "90b158a1bc9949caa04440910d05db76": {
     "views": []
    },
    "99fb5df02d2c4b8698a78f868bf98ee0": {
     "views": []
    },
    "9e5e8316bd874b29b8efdbef2eb2f1f8": {
     "views": []
    },
    "a16b3754b185427e9606ccd2df1cd595": {
     "views": []
    },
    "a3c4b08103d04df09a761c5cf695d3fd": {
     "views": []
    },
    "add89ef198474fd498250af15dd9e6d7": {
     "views": []
    },
    "ae606ff453ac4819b22f418de13bda7f": {
     "views": []
    },
    "b07d30506e3c4b6ca4bb9d6acd5ad8cc": {
     "views": []
    },
    "b4ceebb4ce8949e889fd49ee3c2f48db": {
     "views": []
    },
    "b90506d2a3144c9ab5d5056a4cb77d18": {
     "views": []
    },
    "bcc2514d8f724b57a587aa1158aa0273": {
     "views": []
    },
    "c64a677979cf4f0eab2d5fb635a976a1": {
     "views": []
    },
    "c8b6c04be358412cb62db92662e48db2": {
     "views": [
      {
       "cell_index": 30
      }
     ]
    },
    "d49439f7780f4c9fbf5335e6791754e7": {
     "views": []
    },
    "ea27788c18264d3eb0d99eb546e35349": {
     "views": []
    },
    "eb23cab1fe104b40963279c1d997d79e": {
     "views": []
    },
    "ee986b170f034b30b03b8de79a3d2c63": {
     "views": []
    }
   },
   "version": "1.1.1"
  }
 },
 "nbformat": 4,
 "nbformat_minor": 0
}
