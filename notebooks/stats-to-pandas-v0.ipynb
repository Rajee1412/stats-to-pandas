{
 "cells": [
  {
   "cell_type": "markdown",
   "metadata": {},
   "source": [
    "# stats-to-pandas"
   ]
  },
  {
   "cell_type": "markdown",
   "metadata": {
    "run_control": {
     "frozen": false,
     "read_only": false
    }
   },
   "source": [
    "#### Import data from Statistics Norway, Sweden, Ireland and the UK to a Pandas dataframe in Python"
   ]
  },
  {
   "cell_type": "markdown",
   "metadata": {},
   "source": [
    "A tool to make it easier to download data to a pandas dataframe from Statistics Norway (and other agencies) that use json-stat. "
   ]
  },
  {
   "cell_type": "markdown",
   "metadata": {},
   "source": [
    "Hans Olav Melberg, 9. June, 2016"
   ]
  },
  {
   "cell_type": "markdown",
   "metadata": {},
   "source": [
    "## Background"
   ]
  },
  {
   "cell_type": "markdown",
   "metadata": {},
   "source": [
    "Statistics Norway has made more than 5000 tables available with a new API. In order to download the data, the information the user wants from a table has to be specified as a query in the json-stat format. \n",
    "\n",
    "This query is quite verbose and may look complicated. In order to make it easier to write the query, this package provides a graphical user interface that allows the user to select different options. The query is then generated based on the selection. This relies on widgets in the Jupyter notebook. \n",
    "\n",
    "The package also provides options for downloading tables without using this interface, by allowing the user to specify the json themselves, manually edit a json string, or just downloading the full table (warning: it may be large). The tool contains various functions to make it easy to specify the json query to get the desired information.\n",
    "\n",
    "Since several  other statistical agencies also use the stat-json format, the package can be used to download tables from these as well. It works, for instance, with tables from Statistics Sweden. It can also be used to download data based on the full url of a table from other sources, for instance from from the UK ONS and The Central Statistics Office of Ireland."
   ]
  },
  {
   "cell_type": "markdown",
   "metadata": {},
   "source": [
    "## Installation"
   ]
  },
  {
   "cell_type": "code",
   "execution_count": null,
   "metadata": {
    "collapsed": true,
    "run_control": {
     "frozen": false,
     "read_only": false
    }
   },
   "outputs": [],
   "source": [
    "# (Will work after uploading to pypi, scheduled before 1. july, 2016)\n",
    "#\n",
    "# Requires: requests, pyjstat, jupyter, ipywidgets, IPython\n",
    "#\n",
    "#pip install stats_to_pandas\n",
    "#\n",
    "#import stats_to_pandas as *"
   ]
  },
  {
   "cell_type": "markdown",
   "metadata": {},
   "source": [
    "## Overview"
   ]
  },
  {
   "cell_type": "markdown",
   "metadata": {},
   "source": [
    "####   1. Search for tables based on keywords"
   ]
  },
  {
   "cell_type": "code",
   "execution_count": null,
   "metadata": {
    "collapsed": false,
    "run_control": {
     "frozen": false,
     "read_only": false
    }
   },
   "outputs": [],
   "source": [
    "search('cows')"
   ]
  },
  {
   "cell_type": "markdown",
   "metadata": {},
   "source": [
    "#### 2. Select a table id from the dataframe and create a gui-box to select the variables to be included "
   ]
  },
  {
   "cell_type": "code",
   "execution_count": null,
   "metadata": {
    "collapsed": true,
    "run_control": {
     "frozen": false,
     "read_only": false
    }
   },
   "outputs": [],
   "source": [
    "box = select(table_id = '10714')"
   ]
  },
  {
   "cell_type": "markdown",
   "metadata": {},
   "source": [
    "#### 3. Read the variable selection from the gui-box and download the data from Statistics Norway"
   ]
  },
  {
   "cell_type": "code",
   "execution_count": null,
   "metadata": {
    "collapsed": true,
    "run_control": {
     "frozen": false,
     "read_only": false
    }
   },
   "outputs": [],
   "source": [
    "df = read_box(box)"
   ]
  },
  {
   "cell_type": "markdown",
   "metadata": {},
   "source": [
    "#### 4. More"
   ]
  },
  {
   "cell_type": "code",
   "execution_count": null,
   "metadata": {
    "collapsed": true,
    "run_control": {
     "frozen": false,
     "read_only": false
    }
   },
   "outputs": [],
   "source": [
    "# Read all values for all variables for table with id 10714\n",
    "# (Avoid having to select variables, step 2 above, but may result in large tables)\n",
    "df = read_all(table_id = '10714')\n",
    "\n",
    "# Get the json string for a full query of table number 10714\n",
    "query = full_json(table_id = '10714', out = 'str')\n",
    "\n",
    "# Get the json dict for a full query of table number 10714\n",
    "query = full_json(table_id = '10714', out = 'dict')\n",
    "\n",
    "# Get the json dict associated with the current selection from a widget box\n",
    "query = get_json(box)\n",
    "\n",
    "# Read data from Statistics Ireland\n",
    "irl_url = 'http://www.cso.ie/StatbankServices/StatbankServices.svc/jsonservice/responseinstance/CNA31' \n",
    "df = read_url(full_url = irl_ulr)"
   ]
  },
  {
   "cell_type": "markdown",
   "metadata": {},
   "source": [
    "## Required modules"
   ]
  },
  {
   "cell_type": "code",
   "execution_count": 1,
   "metadata": {
    "collapsed": true,
    "run_control": {
     "frozen": false,
     "read_only": false
    }
   },
   "outputs": [],
   "source": [
    "# The following has to be installed: \n",
    "#    pandas, requests, pyjstat, ipywidgets, jupyter, IPython\n",
    "#\n",
    "# The last two (jupyter and ipywidgets) are required to create a gui \n",
    "# that makes it easier to build a query. They are not needed to download \n",
    "# data if you give the full_url or specify the json query yourself.\n",
    "\n",
    "import pandas as pd\n",
    "import requests\n",
    "import ast\n",
    "from pyjstat import pyjstat\n",
    "from collections import OrderedDict\n",
    "from ipywidgets import widgets\n",
    "from IPython.display import display\n",
    "\n",
    "# todo: consider using jsonstat instead of pyjstat"
   ]
  },
  {
   "cell_type": "code",
   "execution_count": 2,
   "metadata": {
    "collapsed": false,
    "run_control": {
     "frozen": false,
     "read_only": false
    }
   },
   "outputs": [],
   "source": [
    "from __future__ import print_function"
   ]
  },
  {
   "cell_type": "markdown",
   "metadata": {},
   "source": [
    "## Defaults"
   ]
  },
  {
   "cell_type": "code",
   "execution_count": 3,
   "metadata": {
    "collapsed": false,
    "run_control": {
     "frozen": false,
     "read_only": false
    }
   },
   "outputs": [],
   "source": [
    "# This is mainly to make the script flexible for future changes\n",
    "# Makes it easier to use the same script for sources other than Statistics Norway\n",
    "# The user can set a different source to be the default\n",
    "# (note to self: is the extra complexity worth it? \n",
    "# more complex since functions now require defaults to be used easily)\n",
    "\n",
    "Statistics_Norway = {'base_url' : ['http://data.ssb.no/api/v0'], \n",
    "                     'language' : ['en', 'no'], \n",
    "                     'api_key' : [None]}\n",
    "\n",
    "# Add more sources here Statistics_Sweden = {...} etc\n",
    "\n",
    "# set a default\n",
    "default = Statistics_Norway\n",
    "\n",
    "# make a list of the different sources\n",
    "sources = ['Statistics_Norway']"
   ]
  },
  {
   "cell_type": "markdown",
   "metadata": {},
   "source": [
    "## Search for tables"
   ]
  },
  {
   "cell_type": "code",
   "execution_count": 4,
   "metadata": {
    "code_folding": [],
    "collapsed": false,
    "run_control": {
     "frozen": false,
     "read_only": false
    }
   },
   "outputs": [],
   "source": [
    "# to search for tables in statistics norway\n",
    "\n",
    "def search(phrase, \n",
    "           language = 'en', \n",
    "           base_url = 'http://data.ssb.no/api/v0'):\n",
    "    \"\"\"\n",
    "        Search for tables that contain the phrase in Statistics Norway.\n",
    "        Returns a pandas dataframe with the results.\n",
    "            \n",
    "        Example\n",
    "        -------\n",
    "        \n",
    "            df = search(\"income\")\n",
    "        \n",
    "        \n",
    "        Parameters\n",
    "        ----------\n",
    "        \n",
    "        phrase: string\n",
    "            The phrase can contain several words (space separated): \n",
    "                search(\"export Norwegian parrot\")\n",
    "            \n",
    "            It also supports trucation: \n",
    "                search(\"pharma*\")\n",
    "                \n",
    "            Not case sensitive.\n",
    "            Language sensitive (specified in the language option)\n",
    "            \n",
    "        language: string \n",
    "            default in Statistics Norway: 'en' (Search for English words) \n",
    "            optional in Statistics Norway: 'no' (Search for Norwegian words)\n",
    "                   \n",
    "        url: string\n",
    "            default in Statistics Norway: 'http://data.ssb.no/api/v0'\n",
    "            different defaults can be specified\n",
    "       \n",
    "        \"\"\"\n",
    "    \n",
    "    # todo: make converter part of the default specification only for statistics norway\n",
    "    convert = {'æ' : '%C3%A6', 'Æ' : '%C3%86', 'ø' : '%C3%B8', 'Ø' : '%C3%98', \n",
    "             'å' : '%C3%A5', 'Å' : '%C3%85',\n",
    "             '\"' : '%22', '(' : '%28', ')' : '%29', ' ' : '%20'}\n",
    "\n",
    "    search_str = '{base_url}/{language}/table/?query={phrase}'.format(\n",
    "        base_url = base_url, \n",
    "        language = language, \n",
    "        phrase = phrase)\n",
    "    \n",
    "    for k, v in convert.items():\n",
    "        search_str = search_str.replace(k, v)\n",
    "    \n",
    "    #print(search_str)    \n",
    "    \n",
    "    df = pd.read_json(search_str)\n",
    "    \n",
    "    if len(df) == 0:\n",
    "        print(\"No match\")\n",
    "        return df\n",
    "    \n",
    "    # make the dataframe more readable\n",
    "    # (is it worth it? increases vulnerability. formats may differ and change)\n",
    "    # todo: make search and format conditional on the database being searched    \n",
    "       \n",
    "    # split the table name into table id and table text\n",
    "  \n",
    "    df['table_id'] = df['title'].str.split(':').str.get(0)\n",
    "    df['table_title'] = df['title'].str.split(':').str.get(1)\n",
    "    del df['title']\n",
    "    \n",
    "    # make table_id the index, visually more intuitive with id as first column\n",
    "    df = df.set_index('table_id')\n",
    "    \n",
    "    # change order of columns to make it more intuitive (table_title is first) \n",
    "    cols = df.columns.tolist()\n",
    "    cols.sort(reverse = True)\n",
    "    df = df[cols[:-2]]\n",
    "\n",
    "    return df"
   ]
  },
  {
   "cell_type": "markdown",
   "metadata": {},
   "source": [
    "#### Search for table with the text cow and put the result in a dataframe called tables"
   ]
  },
  {
   "cell_type": "code",
   "execution_count": 5,
   "metadata": {
    "collapsed": false,
    "run_control": {
     "frozen": false,
     "read_only": false
    }
   },
   "outputs": [
    {
     "data": {
      "text/html": [
       "<div>\n",
       "<table border=\"1\" class=\"dataframe\">\n",
       "  <thead>\n",
       "    <tr style=\"text-align: right;\">\n",
       "      <th></th>\n",
       "      <th>table_title</th>\n",
       "      <th>score</th>\n",
       "      <th>published</th>\n",
       "    </tr>\n",
       "    <tr>\n",
       "      <th>table_id</th>\n",
       "      <th></th>\n",
       "      <th></th>\n",
       "      <th></th>\n",
       "    </tr>\n",
       "  </thead>\n",
       "  <tbody>\n",
       "    <tr>\n",
       "      <th>03789</th>\n",
       "      <td>Dairy cows per 1 January, by size of herd 199...</td>\n",
       "      <td>1.103032</td>\n",
       "      <td>2016-04-08T10:00:00</td>\n",
       "    </tr>\n",
       "    <tr>\n",
       "      <th>03802</th>\n",
       "      <td>Beef cows per 1 January, by size of herd 1998...</td>\n",
       "      <td>1.047178</td>\n",
       "      <td>2016-04-08T10:00:00</td>\n",
       "    </tr>\n",
       "    <tr>\n",
       "      <th>05593</th>\n",
       "      <td>Cows per 1 January, by size of herd 1998 - 2016</td>\n",
       "      <td>1.047178</td>\n",
       "      <td>2016-04-08T10:00:00</td>\n",
       "    </tr>\n",
       "    <tr>\n",
       "      <th>10714</th>\n",
       "      <td>Holdings housing cows, cattle places for cows...</td>\n",
       "      <td>0.914176</td>\n",
       "      <td>2014-12-17T10:00:00</td>\n",
       "    </tr>\n",
       "    <tr>\n",
       "      <th>04426</th>\n",
       "      <td>Number of domestic animals per 31 July 1995 -...</td>\n",
       "      <td>0.515480</td>\n",
       "      <td>2012-11-26T10:00:00</td>\n",
       "    </tr>\n",
       "  </tbody>\n",
       "</table>\n",
       "</div>"
      ],
      "text/plain": [
       "                                                table_title     score  \\\n",
       "table_id                                                                \n",
       "03789      Dairy cows per 1 January, by size of herd 199...  1.103032   \n",
       "03802      Beef cows per 1 January, by size of herd 1998...  1.047178   \n",
       "05593       Cows per 1 January, by size of herd 1998 - 2016  1.047178   \n",
       "10714      Holdings housing cows, cattle places for cows...  0.914176   \n",
       "04426      Number of domestic animals per 31 July 1995 -...  0.515480   \n",
       "\n",
       "                    published  \n",
       "table_id                       \n",
       "03789     2016-04-08T10:00:00  \n",
       "03802     2016-04-08T10:00:00  \n",
       "05593     2016-04-08T10:00:00  \n",
       "10714     2014-12-17T10:00:00  \n",
       "04426     2012-11-26T10:00:00  "
      ]
     },
     "execution_count": 5,
     "metadata": {},
     "output_type": "execute_result"
    }
   ],
   "source": [
    "tables = search(\"cows\")\n",
    "tables.head()"
   ]
  },
  {
   "cell_type": "markdown",
   "metadata": {},
   "source": [
    "## Get information about variables"
   ]
  },
  {
   "cell_type": "code",
   "execution_count": 6,
   "metadata": {
    "code_folding": [],
    "collapsed": false,
    "run_control": {
     "frozen": false,
     "read_only": false
    }
   },
   "outputs": [],
   "source": [
    "def get_variables(\n",
    "        table_id = None,\n",
    "        source = None, \n",
    "        language = 'en',\n",
    "        base_url = 'http://data.ssb.no/api/v0',\n",
    "        full_url = None):\n",
    "    \"\"\"\n",
    "        Returns a list. \n",
    "        \n",
    "        Each element of the list is a dictionary that provides more \n",
    "        information about a variable. \n",
    "        \n",
    "        For instance, one variable may contain information about the\n",
    "        different years that are available.\n",
    "        \n",
    "        \n",
    "        Parameters\n",
    "        ----------\n",
    "    \n",
    "            table_id: string\n",
    "                the unique table_id number, a string including leading zeros.\n",
    "                                \n",
    "            language: string\n",
    "                default 'en' (default, English) \n",
    "                optional: 'no' (Norwegian)\n",
    "            \n",
    "            base_url: string\n",
    "                base url locating the table (not including table identifier)\n",
    "            \n",
    "            full_url: string \n",
    "                The full url to the table.\n",
    "                If full_url is specified, other paramaters are ignored.\n",
    "                \n",
    "    \"\"\"\n",
    "    \n",
    "    if full_url is None:\n",
    "          full_url = '{base_url}/{language}/table/{table_id}'.format(\n",
    "            base_url = base_url, language = language, table_id = table_id)\n",
    "    \n",
    "    df = pd.read_json(full_url)\n",
    "    variables = [dict(values) for values in df.iloc[:,1]]\n",
    "    \n",
    "    return variables"
   ]
  },
  {
   "cell_type": "code",
   "execution_count": 7,
   "metadata": {
    "collapsed": false,
    "run_control": {
     "frozen": false,
     "read_only": false
    }
   },
   "outputs": [
    {
     "name": "stdout",
     "output_type": "stream",
     "text": [
      "[{'code': 'BuskapStr', 'elimination': True, 'valueTexts': ['Total', '1-4', '5-9', '10-14', '15-19', '20-29', '30-'], 'text': 'size of herd', 'values': ['00', '01', '02', '03', '04', '05', '06']}, {'code': 'ContentsCode', 'valueTexts': ['Holdings keeping dairy cows', 'Dairy cows'], 'text': 'contents', 'values': ['Driftseiningar', 'Mjolkeku']}, {'code': 'Tid', 'text': 'year', 'time': True, 'valueTexts': ['1998', '1999', '2000', '2002', '2003', '2004', '2005', '2006', '2007', '2008', '2009', '2010', '2011', '2012', '2013', '2014', '2015', '2016'], 'values': ['1998', '1999', '2000', '2002', '2003', '2004', '2005', '2006', '2007', '2008', '2009', '2010', '2011', '2012', '2013', '2014', '2015', '2016']}]\n"
     ]
    }
   ],
   "source": [
    "variables = get_variables(table_id = '03789')\n",
    "print(variables)"
   ]
  },
  {
   "cell_type": "code",
   "execution_count": 8,
   "metadata": {
    "code_folding": [],
    "collapsed": false,
    "run_control": {
     "frozen": false,
     "read_only": false
    }
   },
   "outputs": [],
   "source": [
    "def select(table_id = None, \n",
    "           language = 'en', \n",
    "           base_url = 'http://data.ssb.no/api/v0', \n",
    "           full_url = None):\n",
    "    \"\"\"\n",
    "    Selects a table based on the table_id and returns a widget container \n",
    "    in which the user can select the set of variables and values to be \n",
    "    included in the final table.\n",
    "    \n",
    "    \n",
    "    Example\n",
    "    --------\n",
    "    box = select(table_id = '10714')\n",
    "    \n",
    "    \n",
    "    Parameters\n",
    "    ----------    \n",
    "    \n",
    "        table_id : string \n",
    "            the id of the desired table\n",
    "         \n",
    "        language: string\n",
    "            language for table\n",
    "            'en' (default, English) \n",
    "            'no' (Norwegian): \n",
    "            language for table\n",
    "        \n",
    "        base_url: string.\n",
    "            base url locating the table (not including table_id)\n",
    "        \n",
    "        full_url: string\n",
    "            the full url to the table\n",
    "    \"\"\"\n",
    "        \n",
    "    # get table_id not full url was specified \n",
    "    if full_url is None:\n",
    "        full_url = '{base_url}/{language}/table/{table_id}'.format(\n",
    "                    base_url = base_url, \n",
    "                    language = language, \n",
    "                    table_id = table_id)\n",
    "        \n",
    "    table_info = pd.read_json(full_url)\n",
    "    table_title = table_info.iloc[0,0]\n",
    "\n",
    "    # get a list with dictionaries containing information about each variable\n",
    "    variables = get_variables(table_id = table_id, \n",
    "                              language = language,\n",
    "                              base_url = base_url,\n",
    "                              full_url = full_url)\n",
    "    \n",
    "    # get number of variables (ok, childish approach, can be simplified!)\n",
    "    nvars = len(variables)\n",
    "    var_list = list(range(nvars))\n",
    "    \n",
    "    # a list of dictionaries of the values available for each variable\n",
    "    option_list = [OrderedDict(zip(variables[var]['valueTexts'], \n",
    "                                   variables[var]['values'])) \n",
    "                   for var in var_list]\n",
    "    \n",
    "    # create a selection widget for each variable\n",
    "    # todo: skip widget or make it invisible if there is only one option?\n",
    "    # todo: make first alternative a default selection initially for all tables?\n",
    "    # todo: add buttons for selecting \"all\", \"latest\" , \"first\" and \"none\"\n",
    "                         \n",
    "    selection_widgets = [widgets.widget_selection.SelectMultiple(\n",
    "                            options = option_list[var], \n",
    "                            height = 400, \n",
    "                            width = 500) \n",
    "                         for var in var_list]\n",
    "    \n",
    "    # put all the widgets in a container\n",
    "    variables_container = widgets.Tab(selection_widgets)\n",
    "\n",
    "    # label each container with the variable label \n",
    "    for var in var_list:\n",
    "        title = str(variables[var]['text'])\n",
    "        variables_container.set_title(var, title)\n",
    "    \n",
    "    # build widgets and put in one widget container\n",
    "    headline = widgets.Label(value = table_title, color = 'blue')\n",
    "    \n",
    "    endline = widgets.Label(value = '''Select category and click on elements \n",
    "        to be included in the table (CTRL-A selects \"all\")''')\n",
    "    \n",
    "    url_text = widgets.Label(value = full_url)\n",
    "    \n",
    "    selection_container = widgets.VBox([headline, \n",
    "                                        endline, \n",
    "                                        variables_container, \n",
    "                                        url_text])\n",
    "    \n",
    "    selection_container.layout.border = '3px grey solid'\n",
    "    # may include a \"click here when finished\" just to make it more intuitive?\n",
    "    return selection_container"
   ]
  },
  {
   "cell_type": "code",
   "execution_count": 9,
   "metadata": {
    "collapsed": false,
    "run_control": {
     "frozen": false,
     "read_only": false
    }
   },
   "outputs": [],
   "source": [
    "box = select(table_id = '10714')\n",
    "box"
   ]
  },
  {
   "cell_type": "markdown",
   "metadata": {},
   "source": [
    "### Sweden"
   ]
  },
  {
   "cell_type": "code",
   "execution_count": 10,
   "metadata": {
    "collapsed": false,
    "run_control": {
     "frozen": false,
     "read_only": false
    }
   },
   "outputs": [],
   "source": [
    "# The box select framework also works for Statistics Sweden \n",
    "# The full_url to the table has to be specified since table_id \n",
    "# does not have the same structure as in Norway\n",
    "full_url = 'http://api.scb.se/OV0104/v1/doris/en/ssd/BE/BE0101/BE0101A/BefolkningNy'\n",
    "box_sweden = select(full_url = full_url)\n",
    "box_sweden"
   ]
  },
  {
   "cell_type": "markdown",
   "metadata": {},
   "source": [
    "### Function to get the json query from the widget container"
   ]
  },
  {
   "cell_type": "code",
   "execution_count": 11,
   "metadata": {
    "code_folding": [],
    "collapsed": false,
    "run_control": {
     "frozen": false,
     "read_only": false
    }
   },
   "outputs": [],
   "source": [
    "def get_json(box=None, out = 'dict', language = 'en'):\n",
    "    \"\"\"\n",
    "    Takes a widget container as input (where the user has selected varables) \n",
    "    and returns a json dictionary or string that will fetch these variables. \n",
    "    \n",
    "    The json follows the json-stat format.\n",
    "    \n",
    "    Parameters\n",
    "    ----------\n",
    "    \n",
    "    box : widget container \n",
    "        name of widget box with the selected variables\n",
    "    \n",
    "    out : string \n",
    "        default: 'dict', options: 'str'\n",
    "        \n",
    "        The json can be returned as a dictionary or a string.\n",
    "        The final end query should use a dict, but some may find it useful to\n",
    "        get the string and revise it before transforming it back to a dict.\n",
    "    \n",
    "    \n",
    "    Example\n",
    "    -------\n",
    "    \n",
    "    json_query = get_json(box)\n",
    "    \n",
    "    \"\"\"\n",
    "        \n",
    "    table_url = box.children[3].value\n",
    "    variables = get_variables(full_url = table_url)\n",
    "    nvars = len(box.children[2].children)\n",
    "    var_list = list(range(nvars))\n",
    "    query_element = {}\n",
    "    \n",
    "    # create a dict of strings, one for each variable that specifies \n",
    "    # the json-stat that selects the variables/values\n",
    "    \n",
    "    for x in var_list:\n",
    "        value_list = str(list(box.children[2].children[x].value))\n",
    "        query_element[x] = '{{\"code\": \"{code}\", \"selection\": {{\"filter\": \"item\", \"values\": {values} }}}}'.format(\n",
    "            code = variables[x]['code'], \n",
    "            values = value_list)\n",
    "        query_element[x] = query_element[x].replace(\"\\'\", '\"')\n",
    "    \n",
    "    all_elements = str(list(query_element.values()))\n",
    "    all_elements = all_elements.replace(\"\\'\", \"\")\n",
    "\n",
    "    query = '{{\"query\": {all_elements} , \"response\": {{\"format\": \"json-stat\" }}}}'.format(all_elements = all_elements)\n",
    "    \n",
    "    if out == 'dict':\n",
    "        query = ast.literal_eval(query)\n",
    "    \n",
    "  \n",
    "    # todo: build it as a dictionary to start with (and not a string that is made into a dict as now)\n",
    "    # todo: add error message if required variables are not selected\n",
    "    # todo: avoid repeat downloading of same information \n",
    "    # eg. get_variables is sometimes used three times before a table is downloaded\n",
    "    \n",
    "    return query"
   ]
  },
  {
   "cell_type": "code",
   "execution_count": 12,
   "metadata": {
    "collapsed": true,
    "run_control": {
     "frozen": false,
     "read_only": false
    }
   },
   "outputs": [],
   "source": [
    "def to_dict(json_str):\n",
    "    \"\"\"\n",
    "        Transforms a string to a dictionary.\n",
    "        \n",
    "        Note: Will fail if string is not correctly specified.\n",
    "    \"\"\"\n",
    "    # OK, really unnecessary func, but a concession to less experienced users\n",
    "    # todo: use json module instead, json.dumps()\n",
    "    query = ast.literal_eval(json_str)\n",
    "    return query\n",
    "    "
   ]
  },
  {
   "cell_type": "markdown",
   "metadata": {},
   "source": [
    "## Read the data (selected in the box) into a pandas dataframe"
   ]
  },
  {
   "cell_type": "markdown",
   "metadata": {},
   "source": [
    "Note: A selection has to be made for all the (required) variables in the widget container (box). If not the json-stat specification will be incomplete and read_box() will return an error."
   ]
  },
  {
   "cell_type": "code",
   "execution_count": 14,
   "metadata": {
    "collapsed": true,
    "run_control": {
     "frozen": false,
     "read_only": false
    }
   },
   "outputs": [],
   "source": [
    "def read_box(from_box):\n",
    "    \"\"\"\n",
    "    Takes a widget container as input (where the user has selected varables) \n",
    "    and returns a pandas dataframe with the values for the selected variables.\n",
    "    \n",
    "    Example\n",
    "    -------\n",
    "    \n",
    "    df = read_box(box)\n",
    "    \n",
    "    \"\"\"\n",
    "    query = get_json(from_box)\n",
    "    url = from_box.children[3].value\n",
    "    data = requests.post(url, json = query)\n",
    "    results = pyjstat.from_json_stat(data.json(object_pairs_hook=OrderedDict))\n",
    "    return results[0]"
   ]
  },
  {
   "cell_type": "code",
   "execution_count": 15,
   "metadata": {
    "collapsed": false,
    "run_control": {
     "frozen": false,
     "read_only": false
    }
   },
   "outputs": [],
   "source": [
    "df = read_box(box)"
   ]
  },
  {
   "cell_type": "code",
   "execution_count": 16,
   "metadata": {
    "collapsed": false,
    "run_control": {
     "frozen": false,
     "read_only": false
    }
   },
   "outputs": [
    {
     "data": {
      "text/html": [
       "<div>\n",
       "<table border=\"1\" class=\"dataframe\">\n",
       "  <thead>\n",
       "    <tr style=\"text-align: right;\">\n",
       "      <th></th>\n",
       "      <th>region</th>\n",
       "      <th>year</th>\n",
       "      <th>value</th>\n",
       "    </tr>\n",
       "  </thead>\n",
       "  <tbody>\n",
       "    <tr>\n",
       "      <th>0</th>\n",
       "      <td>The whole country</td>\n",
       "      <td>1999</td>\n",
       "      <td>27461</td>\n",
       "    </tr>\n",
       "    <tr>\n",
       "      <th>1</th>\n",
       "      <td>The whole country</td>\n",
       "      <td>2013</td>\n",
       "      <td>9400</td>\n",
       "    </tr>\n",
       "  </tbody>\n",
       "</table>\n",
       "</div>"
      ],
      "text/plain": [
       "              region  year  value\n",
       "0  The whole country  1999  27461\n",
       "1  The whole country  2013   9400"
      ]
     },
     "execution_count": 16,
     "metadata": {},
     "output_type": "execute_result"
    }
   ],
   "source": [
    "df.head()"
   ]
  },
  {
   "cell_type": "markdown",
   "metadata": {},
   "source": [
    "##  Some other useful functions"
   ]
  },
  {
   "cell_type": "markdown",
   "metadata": {},
   "source": [
    "### Get the json query used to get the data (as specified in the box)"
   ]
  },
  {
   "cell_type": "code",
   "execution_count": 17,
   "metadata": {
    "collapsed": false,
    "run_control": {
     "frozen": false,
     "read_only": false
    }
   },
   "outputs": [
    {
     "name": "stdout",
     "output_type": "stream",
     "text": [
      "{'response': {'format': 'json-stat'}, 'query': [{'code': 'Region', 'selection': {'filter': 'item', 'values': ['0']}}, {'code': 'ContentsCode', 'selection': {'filter': 'item', 'values': ['KufjolsIAlt']}}, {'code': 'Tid', 'selection': {'filter': 'item', 'values': ['1999', '2013']}}]}\n"
     ]
    }
   ],
   "source": [
    "query = get_json(box)\n",
    "print(query)"
   ]
  },
  {
   "cell_type": "markdown",
   "metadata": {},
   "source": [
    "### Read based on an explicit defined json query, not the box selection"
   ]
  },
  {
   "cell_type": "code",
   "execution_count": 18,
   "metadata": {
    "code_folding": [],
    "collapsed": false,
    "run_control": {
     "frozen": false,
     "read_only": false
    }
   },
   "outputs": [],
   "source": [
    "def read_with_json(table_id = None, \n",
    "              query = None, \n",
    "              language = 'en', \n",
    "              base_url = 'http://data.ssb.no/api/v0', \n",
    "              full_url = None):\n",
    "    \"\"\"\n",
    "    Returns a pandas dataframe with the values for the table specified by \n",
    "    table_id and an explicit json string (in json-stat format).\n",
    "    \n",
    "    Useful if \n",
    "        - you know exactly what you are looking for and\n",
    "        - can specify the json yourself (as a dictionary)\n",
    "        - you do not want to use the notebook/widgets/box to specify the json query\n",
    "        \n",
    "    Hints\n",
    "    -----\n",
    "        - use full_json(table_id = '10714', out = 'string') to get a query string and edit it\n",
    "        - use to_dict(str) to get a dict from an edited json string\n",
    "            \n",
    "    Example\n",
    "    -------\n",
    "    json_query = {'response': {'format': 'json-stat'}, \n",
    "        'query': [\n",
    "        {'selection': {'values': ['0'], 'filter': 'item'}, 'code': 'Region'}, \n",
    "        {'selection': {'values': ['KufjolsIAlt'], 'filter': 'item'}, 'code': 'ContentsCode'}, \n",
    "        {'selection': {'values': ['1999', '2013'], 'filter': 'item'}, 'code': 'Tid'}]}\n",
    "        }\n",
    "    \n",
    "    df = read_with_json(table_id = '10714', query = json_query)\n",
    "    \n",
    "    \"\"\"\n",
    "    if full_url is None:\n",
    "        \n",
    "        full_url = '{base_url}/{language}/table/{table_id}'.format(\n",
    "            base_url = base_url, \n",
    "            language = language, \n",
    "            table_id = table_id)\n",
    "        \n",
    "    data = requests.post(full_url, json = query)\n",
    "    results = pyjstat.from_json_stat(data.json(object_pairs_hook=OrderedDict))\n",
    "    return results[0]"
   ]
  },
  {
   "cell_type": "code",
   "execution_count": 19,
   "metadata": {
    "collapsed": false,
    "run_control": {
     "frozen": false,
     "read_only": false
    }
   },
   "outputs": [],
   "source": [
    "json_query = {\n",
    "    'query': [\n",
    "        {'selection': {'values': ['0'], 'filter': 'item'}, 'code': 'Region'},\n",
    "        {'selection': {'values': ['KufjolsIAlt'], 'filter': 'item'}, 'code': 'ContentsCode'},\n",
    "        {'selection': {'values': ['1999', '2013'], 'filter': 'item'}, 'code': 'Tid'}\n",
    "            ],\n",
    "    'response': {'format': 'json-stat'}\n",
    "            }\n",
    "\n",
    "df2 = read_with_json(table_id = '10714', query = json_query)"
   ]
  },
  {
   "cell_type": "code",
   "execution_count": 20,
   "metadata": {
    "collapsed": false,
    "run_control": {
     "frozen": false,
     "read_only": false
    }
   },
   "outputs": [
    {
     "data": {
      "text/html": [
       "<div>\n",
       "<table border=\"1\" class=\"dataframe\">\n",
       "  <thead>\n",
       "    <tr style=\"text-align: right;\">\n",
       "      <th></th>\n",
       "      <th>region</th>\n",
       "      <th>year</th>\n",
       "      <th>value</th>\n",
       "    </tr>\n",
       "  </thead>\n",
       "  <tbody>\n",
       "    <tr>\n",
       "      <th>0</th>\n",
       "      <td>The whole country</td>\n",
       "      <td>1999</td>\n",
       "      <td>27461</td>\n",
       "    </tr>\n",
       "    <tr>\n",
       "      <th>1</th>\n",
       "      <td>The whole country</td>\n",
       "      <td>2013</td>\n",
       "      <td>9400</td>\n",
       "    </tr>\n",
       "  </tbody>\n",
       "</table>\n",
       "</div>"
      ],
      "text/plain": [
       "              region  year  value\n",
       "0  The whole country  1999  27461\n",
       "1  The whole country  2013   9400"
      ]
     },
     "execution_count": 20,
     "metadata": {},
     "output_type": "execute_result"
    }
   ],
   "source": [
    "df2.head()"
   ]
  },
  {
   "cell_type": "markdown",
   "metadata": {},
   "source": [
    "## Reading from other databases (json-stat  format) \n",
    "(works when full url to the table is specified)"
   ]
  },
  {
   "cell_type": "markdown",
   "metadata": {
    "collapsed": true,
    "run_control": {
     "frozen": false,
     "read_only": false
    }
   },
   "source": [
    "Many countries and agencies offer json-stat or csv formatted tables that do not need a json specification to be downloaded. Often the sources allow some control of what values (years, geographic units) to be downloaded as part of the url. The following function can be used to download these tables."
   ]
  },
  {
   "cell_type": "code",
   "execution_count": 21,
   "metadata": {
    "collapsed": false,
    "run_control": {
     "frozen": false,
     "read_only": false
    }
   },
   "outputs": [],
   "source": [
    "def read_url(full_url = None, \n",
    "             table_format = 'json'):\n",
    "    \"\"\"\n",
    "    Returns a pandas dataframe of the premade table indicated by the premade \n",
    "    table_id or the full_url.\n",
    "    \n",
    "    Note: The premade table id may be different from the normal table id.\n",
    "    \"\"\"\n",
    "    \n",
    "    if full_url is None:\n",
    "        full_url = '{base_url}/{premade_id}.{table_format}?lang={language}'.format(\n",
    "                base_url = base_url,\n",
    "                premade_id = str(premade_id), \n",
    "                language = language,\n",
    "                table_format = table_format)\n",
    "    #print(full_url)\n",
    "    \n",
    "    if table_format == 'json':\n",
    "        data = requests.get(full_url)\n",
    "        df = pyjstat.from_json_stat(data.json(object_pairs_hook=OrderedDict))\n",
    "        df = df[0]\n",
    "        \n",
    "    elif table_format == 'csv':\n",
    "        df = pd.read_csv(full_url)\n",
    "    else:\n",
    "        print(\"\"\"Table_format is incorrectly specified. \n",
    "              It must be 'json-stat' or 'csv'\"\"\")\n",
    "        df = None\n",
    "    return df"
   ]
  },
  {
   "cell_type": "markdown",
   "metadata": {},
   "source": [
    "### Ireland"
   ]
  },
  {
   "cell_type": "code",
   "execution_count": 22,
   "metadata": {
    "collapsed": false,
    "run_control": {
     "frozen": false,
     "read_only": false
    }
   },
   "outputs": [
    {
     "data": {
      "text/html": [
       "<div>\n",
       "<table border=\"1\" class=\"dataframe\">\n",
       "  <thead>\n",
       "    <tr style=\"text-align: right;\">\n",
       "      <th></th>\n",
       "      <th>Country of Birth</th>\n",
       "      <th>County</th>\n",
       "      <th>Year</th>\n",
       "      <th>Statistic</th>\n",
       "      <th>value</th>\n",
       "    </tr>\n",
       "  </thead>\n",
       "  <tbody>\n",
       "    <tr>\n",
       "      <th>0</th>\n",
       "      <td>Total Birth</td>\n",
       "      <td>State</td>\n",
       "      <td>1841</td>\n",
       "      <td>Population (Number)</td>\n",
       "      <td>6528799</td>\n",
       "    </tr>\n",
       "    <tr>\n",
       "      <th>1</th>\n",
       "      <td>Total Birth</td>\n",
       "      <td>State</td>\n",
       "      <td>1851</td>\n",
       "      <td>Population (Number)</td>\n",
       "      <td>5111557</td>\n",
       "    </tr>\n",
       "    <tr>\n",
       "      <th>2</th>\n",
       "      <td>Total Birth</td>\n",
       "      <td>State</td>\n",
       "      <td>1861</td>\n",
       "      <td>Population (Number)</td>\n",
       "      <td>4402111</td>\n",
       "    </tr>\n",
       "    <tr>\n",
       "      <th>3</th>\n",
       "      <td>Total Birth</td>\n",
       "      <td>State</td>\n",
       "      <td>1871</td>\n",
       "      <td>Population (Number)</td>\n",
       "      <td>4053187</td>\n",
       "    </tr>\n",
       "    <tr>\n",
       "      <th>4</th>\n",
       "      <td>Total Birth</td>\n",
       "      <td>State</td>\n",
       "      <td>1881</td>\n",
       "      <td>Population (Number)</td>\n",
       "      <td>3870020</td>\n",
       "    </tr>\n",
       "  </tbody>\n",
       "</table>\n",
       "</div>"
      ],
      "text/plain": [
       "  Country of Birth County  Year            Statistic    value\n",
       "0      Total Birth  State  1841  Population (Number)  6528799\n",
       "1      Total Birth  State  1851  Population (Number)  5111557\n",
       "2      Total Birth  State  1861  Population (Number)  4402111\n",
       "3      Total Birth  State  1871  Population (Number)  4053187\n",
       "4      Total Birth  State  1881  Population (Number)  3870020"
      ]
     },
     "execution_count": 22,
     "metadata": {},
     "output_type": "execute_result"
    }
   ],
   "source": [
    "irl_url = 'http://www.cso.ie/StatbankServices/StatbankServices.svc/jsonservice/responseinstance/CNA31' \n",
    "irl_pop = read_url(irl_url)\n",
    "irl_pop.head()"
   ]
  },
  {
   "cell_type": "markdown",
   "metadata": {
    "collapsed": true,
    "run_control": {
     "frozen": false,
     "read_only": false
    }
   },
   "source": [
    "###  UK: ONS (Requires api key)"
   ]
  },
  {
   "cell_type": "code",
   "execution_count": 25,
   "metadata": {
    "collapsed": false,
    "run_control": {
     "frozen": false,
     "read_only": false
    }
   },
   "outputs": [
    {
     "data": {
      "text/html": [
       "<div>\n",
       "<table border=\"1\" class=\"dataframe\">\n",
       "  <thead>\n",
       "    <tr style=\"text-align: right;\">\n",
       "      <th></th>\n",
       "      <th>2011 Administrative Hierarchy</th>\n",
       "      <th>Ethnic group (Flat) (T019A)</th>\n",
       "      <th>Measures</th>\n",
       "      <th>Time Dimension</th>\n",
       "      <th>value</th>\n",
       "    </tr>\n",
       "  </thead>\n",
       "  <tbody>\n",
       "    <tr>\n",
       "      <th>0</th>\n",
       "      <td>England</td>\n",
       "      <td>All categories: Ethnic group</td>\n",
       "      <td>Segment_1</td>\n",
       "      <td>2011</td>\n",
       "      <td>53012456</td>\n",
       "    </tr>\n",
       "    <tr>\n",
       "      <th>1</th>\n",
       "      <td>England</td>\n",
       "      <td>Black/African/Caribbean/Black British: Caribbean</td>\n",
       "      <td>Segment_1</td>\n",
       "      <td>2011</td>\n",
       "      <td>42279236</td>\n",
       "    </tr>\n",
       "    <tr>\n",
       "      <th>2</th>\n",
       "      <td>England</td>\n",
       "      <td>Asian/Asian British: Bangladeshi</td>\n",
       "      <td>Segment_1</td>\n",
       "      <td>2011</td>\n",
       "      <td>517001</td>\n",
       "    </tr>\n",
       "    <tr>\n",
       "      <th>3</th>\n",
       "      <td>England</td>\n",
       "      <td>Asian/Asian British: Chinese</td>\n",
       "      <td>Segment_1</td>\n",
       "      <td>2011</td>\n",
       "      <td>54895</td>\n",
       "    </tr>\n",
       "    <tr>\n",
       "      <th>4</th>\n",
       "      <td>England</td>\n",
       "      <td>White: Irish</td>\n",
       "      <td>Segment_1</td>\n",
       "      <td>2011</td>\n",
       "      <td>2430010</td>\n",
       "    </tr>\n",
       "  </tbody>\n",
       "</table>\n",
       "</div>"
      ],
      "text/plain": [
       "  2011 Administrative Hierarchy  \\\n",
       "0                       England   \n",
       "1                       England   \n",
       "2                       England   \n",
       "3                       England   \n",
       "4                       England   \n",
       "\n",
       "                        Ethnic group (Flat) (T019A)   Measures Time Dimension  \\\n",
       "0                      All categories: Ethnic group  Segment_1           2011   \n",
       "1  Black/African/Caribbean/Black British: Caribbean  Segment_1           2011   \n",
       "2                  Asian/Asian British: Bangladeshi  Segment_1           2011   \n",
       "3                      Asian/Asian British: Chinese  Segment_1           2011   \n",
       "4                                      White: Irish  Segment_1           2011   \n",
       "\n",
       "      value  \n",
       "0  53012456  \n",
       "1  42279236  \n",
       "2    517001  \n",
       "3     54895  \n",
       "4   2430010  "
      ]
     },
     "execution_count": 25,
     "metadata": {},
     "output_type": "execute_result"
    }
   ],
   "source": [
    "ons_url = 'http://data.ons.gov.uk/ons/api/data/dataset/QS201EW.json?context=Census&apikey=YOUR_API_KEY_HERE&geog=2011WARDH&dm/2011WARDH=E92000001&jsontype=json-stat&totals=false'\n",
    "df = read_url(ons_url)\n",
    "df.head()"
   ]
  },
  {
   "cell_type": "markdown",
   "metadata": {},
   "source": [
    "### Function to search premade tables in Statistics Norway"
   ]
  },
  {
   "cell_type": "markdown",
   "metadata": {},
   "source": [
    "Statistics Norway has created premade tables of the most downloaded tables. These tables can be accessed without a json-stat specification. The following functions allow the user to easily search and download these tables. Note that the premade_id is different from the table_id the more general table has in Statistics Norway. Note also that all the premade tables are available using the standard search and read functions, but they then require closer specification of what values the user wants to download."
   ]
  },
  {
   "cell_type": "code",
   "execution_count": 26,
   "metadata": {
    "collapsed": false,
    "run_control": {
     "frozen": false,
     "read_only": false
    }
   },
   "outputs": [],
   "source": [
    "def search_premade(\n",
    "    phrase = '*', \n",
    "    language = 'en', \n",
    "    url = 'http://data.ssb.no/api/v0/dataset'):\n",
    "    \n",
    "    \"\"\"\n",
    "    Returns a pandas dataframe with the tables matching the tags specified in the search.\n",
    "    \n",
    "    Note that the function does not search in the headline of the tables, but in the tags.\n",
    "    \n",
    "    The search is exact, so it may be better to get a list of all tables \n",
    "    (use phrase = '*' or just leave it unspecified)\n",
    "    \n",
    "    The ID column contains a special table id for premade tables \n",
    "    (use this is when specifying the table to be downloaded)\n",
    "    \n",
    "    Example:\n",
    "        \n",
    "        tables = search_url_tables('population')\n",
    "    \n",
    "    \n",
    "    \"\"\"\n",
    "    url = '{url}?lang={language}'.format(\n",
    "        url = url,\n",
    "        language = language)\n",
    "    \n",
    "    df = pd.read_html(url)\n",
    "    df = df[0]\n",
    "    df.index = df['ID']\n",
    "    df = df.iloc[:,[0,1]]\n",
    "    df = df.sort_index()\n",
    "    phrase = phrase.lower()\n",
    "    \n",
    "    if phrase != '*':\n",
    "        df = df[(df.iloc[:,0].str.lower().str.contains(phrase)) | \n",
    "                (df.iloc[:,1].str.lower().str.contains(phrase)) ]\n",
    "    return df\n",
    "\n",
    "# to do: merge the two search functions?\n",
    "# make premade an bool arg in the search. \n",
    "# also allow full_url"
   ]
  },
  {
   "cell_type": "code",
   "execution_count": 27,
   "metadata": {
    "collapsed": false,
    "run_control": {
     "frozen": false,
     "read_only": false
    }
   },
   "outputs": [
    {
     "data": {
      "text/html": [
       "<div>\n",
       "<table border=\"1\" class=\"dataframe\">\n",
       "  <thead>\n",
       "    <tr style=\"text-align: right;\">\n",
       "      <th></th>\n",
       "      <th>Title</th>\n",
       "      <th>Tags</th>\n",
       "    </tr>\n",
       "    <tr>\n",
       "      <th>ID</th>\n",
       "      <th></th>\n",
       "      <th></th>\n",
       "    </tr>\n",
       "  </thead>\n",
       "  <tbody>\n",
       "    <tr>\n",
       "      <th>1102</th>\n",
       "      <td>Population changes. Counties, latest quarter</td>\n",
       "      <td>01222 births deaths emigration folkendrkv immi...</td>\n",
       "    </tr>\n",
       "    <tr>\n",
       "      <th>1104</th>\n",
       "      <td>Population change. Whole country, latest quarter</td>\n",
       "      <td>01222 births deaths emigration folkendrkv immi...</td>\n",
       "    </tr>\n",
       "    <tr>\n",
       "      <th>1106</th>\n",
       "      <td>Population changes. Municipalities, latest 9 q...</td>\n",
       "      <td>01222 births deaths emigration folkendrkv immi...</td>\n",
       "    </tr>\n",
       "    <tr>\n",
       "      <th>1108</th>\n",
       "      <td>Population changes. Municipalities, latest qua...</td>\n",
       "      <td>01222 births deaths emigration folkendrkv immi...</td>\n",
       "    </tr>\n",
       "    <tr>\n",
       "      <th>49577</th>\n",
       "      <td>Population 1 January and population changes du...</td>\n",
       "      <td>06913 folkemengde inhabitants municipalities p...</td>\n",
       "    </tr>\n",
       "    <tr>\n",
       "      <th>49623</th>\n",
       "      <td>Population 1 January and population changes du...</td>\n",
       "      <td>06913 counties folkendrkv inhabitans births de...</td>\n",
       "    </tr>\n",
       "    <tr>\n",
       "      <th>49626</th>\n",
       "      <td>Population 1 January and population changes du...</td>\n",
       "      <td>06913 folkendrkv inhabitants births deaths pop...</td>\n",
       "    </tr>\n",
       "  </tbody>\n",
       "</table>\n",
       "</div>"
      ],
      "text/plain": [
       "                                                   Title  \\\n",
       "ID                                                         \n",
       "1102        Population changes. Counties, latest quarter   \n",
       "1104    Population change. Whole country, latest quarter   \n",
       "1106   Population changes. Municipalities, latest 9 q...   \n",
       "1108   Population changes. Municipalities, latest qua...   \n",
       "49577  Population 1 January and population changes du...   \n",
       "49623  Population 1 January and population changes du...   \n",
       "49626  Population 1 January and population changes du...   \n",
       "\n",
       "                                                    Tags  \n",
       "ID                                                        \n",
       "1102   01222 births deaths emigration folkendrkv immi...  \n",
       "1104   01222 births deaths emigration folkendrkv immi...  \n",
       "1106   01222 births deaths emigration folkendrkv immi...  \n",
       "1108   01222 births deaths emigration folkendrkv immi...  \n",
       "49577  06913 folkemengde inhabitants municipalities p...  \n",
       "49623  06913 counties folkendrkv inhabitans births de...  \n",
       "49626  06913 folkendrkv inhabitants births deaths pop...  "
      ]
     },
     "execution_count": 27,
     "metadata": {},
     "output_type": "execute_result"
    }
   ],
   "source": [
    "search_premade('birth')"
   ]
  },
  {
   "cell_type": "markdown",
   "metadata": {},
   "source": [
    "### Read premade tables from Statistics Norway"
   ]
  },
  {
   "cell_type": "code",
   "execution_count": 28,
   "metadata": {
    "collapsed": true,
    "run_control": {
     "frozen": false,
     "read_only": false
    }
   },
   "outputs": [],
   "source": [
    "def read_premade(premade_id = None, \n",
    "            language = 'en', \n",
    "            base_url = 'http://data.ssb.no/api/v0/dataset', \n",
    "            full_url = None, \n",
    "            table_format = 'json'):\n",
    "    \"\"\"\n",
    "    Returns a pandas dataframe of the premade table indicated by the premade \n",
    "    table_id or the full_url.\n",
    "    \n",
    "    Note: The premade table id may be different from the normal table id.\n",
    "    \"\"\"\n",
    "    \n",
    "    if full_url is None:\n",
    "        full_url = '{base_url}/{premade_id}.{table_format}?lang={language}'.format(\n",
    "                base_url = base_url,\n",
    "                premade_id = str(premade_id), \n",
    "                language = language,\n",
    "                table_format = table_format)\n",
    "    #print(full_url)\n",
    "    \n",
    "    if table_format == 'json':\n",
    "        data = requests.get(full_url)\n",
    "        df = pyjstat.from_json_stat(data.json(object_pairs_hook=OrderedDict))\n",
    "        df = df[0]\n",
    "        \n",
    "    elif table_format == 'csv':\n",
    "        df = pd.read_csv(full_url)\n",
    "    else:\n",
    "        print(\"\"\"Table_format is incorrectly specified. \n",
    "              It must be 'json-stat' or 'csv'\"\"\")\n",
    "        df = None\n",
    "    return df"
   ]
  },
  {
   "cell_type": "code",
   "execution_count": 29,
   "metadata": {
    "collapsed": false,
    "run_control": {
     "frozen": false,
     "read_only": false
    },
    "scrolled": true
   },
   "outputs": [
    {
     "data": {
      "text/html": [
       "<div>\n",
       "<table border=\"1\" class=\"dataframe\">\n",
       "  <thead>\n",
       "    <tr style=\"text-align: right;\">\n",
       "      <th></th>\n",
       "      <th>sex</th>\n",
       "      <th>age</th>\n",
       "      <th>time</th>\n",
       "      <th>contents</th>\n",
       "      <th>value</th>\n",
       "    </tr>\n",
       "  </thead>\n",
       "  <tbody>\n",
       "    <tr>\n",
       "      <th>0</th>\n",
       "      <td>Both sexes</td>\n",
       "      <td>15-74 years</td>\n",
       "      <td>2015M04</td>\n",
       "      <td>Unemployment (LFS) (1 000 persons), seasonally...</td>\n",
       "      <td>117</td>\n",
       "    </tr>\n",
       "    <tr>\n",
       "      <th>1</th>\n",
       "      <td>Both sexes</td>\n",
       "      <td>15-74 years</td>\n",
       "      <td>2015M04</td>\n",
       "      <td>Unemployment rate (LFS), seasonally adjusted</td>\n",
       "      <td>4.2</td>\n",
       "    </tr>\n",
       "    <tr>\n",
       "      <th>2</th>\n",
       "      <td>Both sexes</td>\n",
       "      <td>15-74 years</td>\n",
       "      <td>2015M05</td>\n",
       "      <td>Unemployment (LFS) (1 000 persons), seasonally...</td>\n",
       "      <td>118</td>\n",
       "    </tr>\n",
       "    <tr>\n",
       "      <th>3</th>\n",
       "      <td>Both sexes</td>\n",
       "      <td>15-74 years</td>\n",
       "      <td>2015M05</td>\n",
       "      <td>Unemployment rate (LFS), seasonally adjusted</td>\n",
       "      <td>4.3</td>\n",
       "    </tr>\n",
       "    <tr>\n",
       "      <th>4</th>\n",
       "      <td>Both sexes</td>\n",
       "      <td>15-74 years</td>\n",
       "      <td>2015M06</td>\n",
       "      <td>Unemployment (LFS) (1 000 persons), seasonally...</td>\n",
       "      <td>123</td>\n",
       "    </tr>\n",
       "  </tbody>\n",
       "</table>\n",
       "</div>"
      ],
      "text/plain": [
       "          sex          age     time  \\\n",
       "0  Both sexes  15-74 years  2015M04   \n",
       "1  Both sexes  15-74 years  2015M04   \n",
       "2  Both sexes  15-74 years  2015M05   \n",
       "3  Both sexes  15-74 years  2015M05   \n",
       "4  Both sexes  15-74 years  2015M06   \n",
       "\n",
       "                                            contents value  \n",
       "0  Unemployment (LFS) (1 000 persons), seasonally...   117  \n",
       "1       Unemployment rate (LFS), seasonally adjusted   4.2  \n",
       "2  Unemployment (LFS) (1 000 persons), seasonally...   118  \n",
       "3       Unemployment rate (LFS), seasonally adjusted   4.3  \n",
       "4  Unemployment (LFS) (1 000 persons), seasonally...   123  "
      ]
     },
     "execution_count": 29,
     "metadata": {},
     "output_type": "execute_result"
    }
   ],
   "source": [
    "births = read_premade('1052')\n",
    "births.head()"
   ]
  },
  {
   "cell_type": "markdown",
   "metadata": {},
   "source": [
    "## Functions to read everything (no selection)"
   ]
  },
  {
   "cell_type": "markdown",
   "metadata": {},
   "source": [
    "Avoids the need to specify the json-stat query by automatically generating a query that downloads all variables and valules. Warning: Use with care, the table may be very large."
   ]
  },
  {
   "cell_type": "code",
   "execution_count": 30,
   "metadata": {
    "collapsed": false,
    "run_control": {
     "frozen": false,
     "read_only": false
    }
   },
   "outputs": [],
   "source": [
    "def full_json(table_id = None, \n",
    "              out = 'dict', \n",
    "              language = 'en', \n",
    "              full_url = None):\n",
    "    \"\"\"\n",
    "    Returns the json query for getting all the values for all options for a table.\n",
    "    Useful if\n",
    "        - you do not want to use the widgets/notebook to build the query\n",
    "        - but want a starting point to revise and specify a the query instead of building it from the ground.\n",
    "    \n",
    "    Note\n",
    "        - The json is a dictionary. You may want to edit the content of the dictionary directly,\n",
    "        or make it a string, edit it as a string, and retransform it to a dictionary.\n",
    "        \n",
    "        To transform a string to a dict, use the function:\n",
    "        \n",
    "            query = to_dict(json_str)\n",
    "        \n",
    "    Example\n",
    "    -------\n",
    "    \n",
    "    query = full_json(table_id = '10714', out = 'string')\n",
    "    \n",
    "    \"\"\"\n",
    "    \n",
    "    variables = get_variables(table_id, language = language, full_url = full_url)\n",
    "    nvars = len(variables)\n",
    "    var_list = list(range(nvars))\n",
    "    \n",
    "    query_element = {}\n",
    "    \n",
    "    for x in var_list:\n",
    "        query_element[x] ='{{\"code\": \"{code}\", \"selection\": {{\"filter\": \"item\", \"values\": {values} }}}}'.format(\n",
    "                code = variables[x]['code'], \n",
    "                values = variables[x]['values']) \n",
    "        query_element[x] = query_element[x].replace(\"\\'\", '\"')\n",
    "    all_elements = str(list(query_element.values()))\n",
    "    all_elements = all_elements.replace(\"\\'\", \"\")\n",
    "    \n",
    "    query = '{{\"query\": {all_elements} , \"response\": {{\"format\": \"json-stat\" }}}}'.format(all_elements = all_elements)\n",
    "    \n",
    "    if out == 'dict':\n",
    "        query = ast.literal_eval(query)\n",
    "    \n",
    "    return query\n"
   ]
  },
  {
   "cell_type": "code",
   "execution_count": 31,
   "metadata": {
    "collapsed": false,
    "run_control": {
     "frozen": false,
     "read_only": false
    }
   },
   "outputs": [
    {
     "data": {
      "text/plain": [
       "'{\"query\": [{\"code\": \"Region\", \"selection\": {\"filter\": \"item\", \"values\": [\"0\", \"01\", \"02-03\", \"04\", \"05\", \"06\", \"07\", \"08\", \"09\", \"10\", \"11\", \"12\", \"14\", \"15\", \"16\", \"17\", \"18\", \"19\", \"20\", \"L1-3nyn\", \"L4\", \"L5\", \"L6\", \"L7\"] }}, {\"code\": \"ContentsCode\", \"selection\": {\"filter\": \"item\", \"values\": [\"KufjolsIAlt\", \"Basfjos\", \"Lausfjos\", \"KuplassBas\", \"KuplassLaus\", \"Mjolkerobotar\"] }}, {\"code\": \"Tid\", \"selection\": {\"filter\": \"item\", \"values\": [\"1999\", \"2013\"] }}] , \"response\": {\"format\": \"json-stat\" }}'"
      ]
     },
     "execution_count": 31,
     "metadata": {},
     "output_type": "execute_result"
    }
   ],
   "source": [
    "query_str = full_json(table_id = '10714', out = 'str')\n",
    "query_str"
   ]
  },
  {
   "cell_type": "code",
   "execution_count": 36,
   "metadata": {
    "collapsed": false,
    "run_control": {
     "frozen": false,
     "read_only": false
    }
   },
   "outputs": [
    {
     "data": {
      "text/html": [
       "<div>\n",
       "<table border=\"1\" class=\"dataframe\">\n",
       "  <thead>\n",
       "    <tr style=\"text-align: right;\">\n",
       "      <th></th>\n",
       "      <th>region</th>\n",
       "      <th>contents</th>\n",
       "      <th>year</th>\n",
       "      <th>value</th>\n",
       "    </tr>\n",
       "  </thead>\n",
       "  <tbody>\n",
       "    <tr>\n",
       "      <th>0</th>\n",
       "      <td>The whole country</td>\n",
       "      <td>Holdings with housing cows, total</td>\n",
       "      <td>1999</td>\n",
       "      <td>27461</td>\n",
       "    </tr>\n",
       "    <tr>\n",
       "      <th>1</th>\n",
       "      <td>The whole country</td>\n",
       "      <td>Holdings with housing cows, total</td>\n",
       "      <td>2013</td>\n",
       "      <td>9400</td>\n",
       "    </tr>\n",
       "    <tr>\n",
       "      <th>2</th>\n",
       "      <td>The whole country</td>\n",
       "      <td>Holdings with cow places in stanchion-tied houses</td>\n",
       "      <td>1999</td>\n",
       "      <td>25872</td>\n",
       "    </tr>\n",
       "    <tr>\n",
       "      <th>3</th>\n",
       "      <td>The whole country</td>\n",
       "      <td>Holdings with cow places in stanchion-tied houses</td>\n",
       "      <td>2013</td>\n",
       "      <td>7100</td>\n",
       "    </tr>\n",
       "    <tr>\n",
       "      <th>4</th>\n",
       "      <td>The whole country</td>\n",
       "      <td>Holdings with cows places in loose housing</td>\n",
       "      <td>1999</td>\n",
       "      <td>1856</td>\n",
       "    </tr>\n",
       "  </tbody>\n",
       "</table>\n",
       "</div>"
      ],
      "text/plain": [
       "              region                                           contents  year  \\\n",
       "0  The whole country                  Holdings with housing cows, total  1999   \n",
       "1  The whole country                  Holdings with housing cows, total  2013   \n",
       "2  The whole country  Holdings with cow places in stanchion-tied houses  1999   \n",
       "3  The whole country  Holdings with cow places in stanchion-tied houses  2013   \n",
       "4  The whole country         Holdings with cows places in loose housing  1999   \n",
       "\n",
       "   value  \n",
       "0  27461  \n",
       "1   9400  \n",
       "2  25872  \n",
       "3   7100  \n",
       "4   1856  "
      ]
     },
     "execution_count": 36,
     "metadata": {},
     "output_type": "execute_result"
    }
   ],
   "source": [
    "query_dict = full_json(table_id = '10714', out = 'dict')\n",
    "cows = read_with_json(table_id = '10714', query = query_dict)\n",
    "cows.head()"
   ]
  },
  {
   "cell_type": "code",
   "execution_count": 37,
   "metadata": {
    "collapsed": true,
    "run_control": {
     "frozen": false,
     "read_only": false
    }
   },
   "outputs": [],
   "source": [
    "def read_all(table_id = None, \n",
    "             language = 'en',\n",
    "             base_url = 'http://data.ssb.no/api/v0', \n",
    "             full_url = None):\n",
    "    \"\"\"\n",
    "    Returns a pandas dataframe with all values for all options \n",
    "    for the table specified by table_id\n",
    "    \n",
    "    Warning: The table may be large\n",
    "    \n",
    "    Useful if \n",
    "        - you know exactly what you are looking for and\n",
    "        - you do not want to use the notebook/widgets/box to specify the json query)\n",
    "    \n",
    "    Example\n",
    "    \n",
    "    df = read_all(table_id = '10714')\n",
    "    \n",
    "    \"\"\"\n",
    "    \n",
    "     \n",
    "    if full_url is None:        \n",
    "        full_url = '{base_url}/{language}/table/{table_id}'.format(\n",
    "            base_url = base_url,\n",
    "            language = language, \n",
    "            table_id = table_id)\n",
    "        \n",
    "    query = full_json(full_url = full_url)\n",
    "    data = requests.post(full_url, json = query)\n",
    "    results = pyjstat.from_json_stat(data.json(object_pairs_hook=OrderedDict))\n",
    "    \n",
    "    # maybe this need not be its own function, \n",
    "    # but an option in read_json? json = 'all'\n",
    "    \n",
    "    # other functions(options include: read_recent to get only the \n",
    "    # most recent values (defined as x), json = 'recent')\n",
    "    \n",
    "    return results[0]"
   ]
  },
  {
   "cell_type": "code",
   "execution_count": 38,
   "metadata": {
    "collapsed": false,
    "run_control": {
     "frozen": false,
     "read_only": false
    }
   },
   "outputs": [
    {
     "data": {
      "text/html": [
       "<div>\n",
       "<table border=\"1\" class=\"dataframe\">\n",
       "  <thead>\n",
       "    <tr style=\"text-align: right;\">\n",
       "      <th></th>\n",
       "      <th>region</th>\n",
       "      <th>contents</th>\n",
       "      <th>year</th>\n",
       "      <th>value</th>\n",
       "    </tr>\n",
       "  </thead>\n",
       "  <tbody>\n",
       "    <tr>\n",
       "      <th>0</th>\n",
       "      <td>The whole country</td>\n",
       "      <td>Holdings with housing cows, total</td>\n",
       "      <td>1999</td>\n",
       "      <td>27461</td>\n",
       "    </tr>\n",
       "    <tr>\n",
       "      <th>1</th>\n",
       "      <td>The whole country</td>\n",
       "      <td>Holdings with housing cows, total</td>\n",
       "      <td>2013</td>\n",
       "      <td>9400</td>\n",
       "    </tr>\n",
       "    <tr>\n",
       "      <th>2</th>\n",
       "      <td>The whole country</td>\n",
       "      <td>Holdings with cow places in stanchion-tied houses</td>\n",
       "      <td>1999</td>\n",
       "      <td>25872</td>\n",
       "    </tr>\n",
       "    <tr>\n",
       "      <th>3</th>\n",
       "      <td>The whole country</td>\n",
       "      <td>Holdings with cow places in stanchion-tied houses</td>\n",
       "      <td>2013</td>\n",
       "      <td>7100</td>\n",
       "    </tr>\n",
       "    <tr>\n",
       "      <th>4</th>\n",
       "      <td>The whole country</td>\n",
       "      <td>Holdings with cows places in loose housing</td>\n",
       "      <td>1999</td>\n",
       "      <td>1856</td>\n",
       "    </tr>\n",
       "  </tbody>\n",
       "</table>\n",
       "</div>"
      ],
      "text/plain": [
       "              region                                           contents  year  \\\n",
       "0  The whole country                  Holdings with housing cows, total  1999   \n",
       "1  The whole country                  Holdings with housing cows, total  2013   \n",
       "2  The whole country  Holdings with cow places in stanchion-tied houses  1999   \n",
       "3  The whole country  Holdings with cow places in stanchion-tied houses  2013   \n",
       "4  The whole country         Holdings with cows places in loose housing  1999   \n",
       "\n",
       "   value  \n",
       "0  27461  \n",
       "1   9400  \n",
       "2  25872  \n",
       "3   7100  \n",
       "4   1856  "
      ]
     },
     "execution_count": 38,
     "metadata": {},
     "output_type": "execute_result"
    }
   ],
   "source": [
    "dfall = read_all(table_id = '10714')\n",
    "dfall.head()"
   ]
  },
  {
   "cell_type": "markdown",
   "metadata": {
    "collapsed": true,
    "run_control": {
     "frozen": false,
     "read_only": false
    }
   },
   "source": [
    "### Suggested future extensions"
   ]
  },
  {
   "cell_type": "markdown",
   "metadata": {},
   "source": [
    "- Allow multiple tables to be downloaded and automatically merged\n"
   ]
  },
  {
   "cell_type": "markdown",
   "metadata": {},
   "source": [
    "### Acknowledgements"
   ]
  },
  {
   "cell_type": "markdown",
   "metadata": {},
   "source": [
    "This package relies on the work of the authors of pyjstat and json-stat"
   ]
  },
  {
   "cell_type": "code",
   "execution_count": null,
   "metadata": {
    "collapsed": true,
    "run_control": {
     "frozen": false,
     "read_only": false
    }
   },
   "outputs": [],
   "source": []
  }
 ],
 "metadata": {
  "_draft": {
   "nbviewer_url": "https://gist.github.com/1c77cb657a3c95cc0d7f406186b52f37"
  },
  "gist": {
   "data": {
    "description": "Download tables from Statistics Norway to pandas dataframes",
    "public": true
   },
   "id": "1c77cb657a3c95cc0d7f406186b52f37"
  },
  "hide_input": false,
  "kernelspec": {
   "display_name": "Python 3",
   "language": "python",
   "name": "python3"
  },
  "language_info": {
   "codemirror_mode": {
    "name": "ipython",
    "version": 3
   },
   "file_extension": ".py",
   "mimetype": "text/x-python",
   "name": "python",
   "nbconvert_exporter": "python",
   "pygments_lexer": "ipython3",
   "version": "3.5.1"
  },
  "toc": {
   "toc_cell": false,
   "toc_number_sections": false,
   "toc_section_display": "none",
   "toc_threshold": 6,
   "toc_window_display": false
  },
  "toc_position": {
   "height": "174px",
   "left": "710.646px",
   "right": "20px",
   "top": "120px",
   "width": "497px"
  },
  "widgets": {
   "state": {
    "085041bd1a8741828c59139cca1554ce": {
     "views": []
    },
    "0e034a4d07054e03b85e17071e653fb6": {
     "views": []
    },
    "17a253b38be943ab89b2c43cd88540bc": {
     "views": []
    },
    "17c9dfe4b03f4867b4c164f6d35d233c": {
     "views": []
    },
    "2276bfe32a88496f8827408d42d63397": {
     "views": []
    },
    "3851659691ca4bf48ac9c00569d8ef04": {
     "views": []
    },
    "406b291ca0634facbd89e4d82613cb38": {
     "views": [
      {
       "cell_index": 32
      }
     ]
    },
    "4134db23a41d49ea9d243a9bb5952b02": {
     "views": []
    },
    "42152f836bd347ee86cecb71822068bb": {
     "views": []
    },
    "54ff53aea3654ab696f6f76112152bc5": {
     "views": []
    },
    "55e3e3661e4849d9bcba3b09ce873419": {
     "views": []
    },
    "66ccea2637544212ba8c402c61039746": {
     "views": []
    },
    "71183a729fca4b8982c65337d9f44fbd": {
     "views": []
    },
    "72abbaee545e4725a15f36321ba5257f": {
     "views": []
    },
    "747cbab5085b4375ab7e66b01bd42789": {
     "views": []
    },
    "796e81c826914e1b888b56fe2ca5460a": {
     "views": []
    },
    "854ea7132d0349cb93569a1cab9103c9": {
     "views": []
    },
    "91dc3d6fddab4689b7adfcb6ec6999b3": {
     "views": []
    },
    "97800914934b429b9d296889100215c4": {
     "views": [
      {
       "cell_index": 30
      }
     ]
    },
    "9787532b83914635bd73ac1fad3ff9d1": {
     "views": []
    },
    "9e5f8930557248fcbff1b9bf08bfaae0": {
     "views": []
    },
    "b01544dce7da4c8c90c24a5a89cee777": {
     "views": []
    },
    "b10f74262fb64204b7787d5a0f4ec4e5": {
     "views": []
    },
    "b997f13707f347cc92529e88220eb531": {
     "views": []
    },
    "c310ef4358c548bf8a0ffe1167fb12cb": {
     "views": []
    },
    "cc0ad9556c624bdb895edba0aac12224": {
     "views": []
    },
    "cfc318e681d34e099b6845c5b5ad8ffe": {
     "views": []
    },
    "d4e499e26d3341ad9d8ce5fe9d0f58ac": {
     "views": []
    },
    "d691d46fa67b486cbea70d2b6a7458db": {
     "views": []
    },
    "e0133e1184444e95b91d50748b6a74c3": {
     "views": []
    },
    "e030169a4a4d4350a2d307883f22ea25": {
     "views": []
    },
    "e29cec2bd5a54aec819f2feee094c575": {
     "views": []
    },
    "ebee3cbe9e6142d9b52d004bfb4ef555": {
     "views": []
    },
    "f1da8e8e711945e2866f983c344eb712": {
     "views": []
    },
    "f2f74e9a53864ca69ada64d69d2a1484": {
     "views": []
    },
    "f9e5eca9acc8419fa72c1031c11b6884": {
     "views": []
    },
    "fb8481bf751a4f57a21a5b019c368037": {
     "views": []
    },
    "fcbe1dcb668844a8ad9d15acb1405b2b": {
     "views": []
    }
   },
   "version": "1.1.1"
  }
 },
 "nbformat": 4,
 "nbformat_minor": 0
}
